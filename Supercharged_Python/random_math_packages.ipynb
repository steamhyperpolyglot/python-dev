{
 "cells": [
  {
   "cell_type": "code",
   "execution_count": 2,
   "metadata": {},
   "outputs": [
    {
     "output_type": "stream",
     "name": "stdout",
     "text": "0: 10\t 1.0\n1: 13\t 1.3\n2: 12\t 1.2\n3: 6\t 0.6\n4: 12\t 1.2\n5: 5\t 0.5\n6: 7\t 0.7\n7: 8\t 0.8\n8: 13\t 1.3\n9: 14\t 1.4\n"
    }
   ],
   "source": [
    "import random\n",
    "\n",
    "def do_trials(n):\n",
    "    hits = [0] * 10\n",
    "    for i in range(n):\n",
    "        a = random.randint(0, 9)\n",
    "        hits[a] += 1\n",
    "    for i in range(10):\n",
    "        fss = '{}: {}\\t {:.3}'\n",
    "        print(fss.format(i, hits[i], hits[i] / (n / 10)))\n",
    "\n",
    "\n",
    "do_trials(100)"
   ]
  },
  {
   "cell_type": "code",
   "execution_count": 3,
   "metadata": {},
   "outputs": [
    {
     "output_type": "stream",
     "name": "stdout",
     "text": "0: 92\t 0.92\n1: 112\t 1.12\n2: 101\t 1.01\n3: 114\t 1.14\n4: 105\t 1.05\n5: 71\t 0.71\n6: 98\t 0.98\n7: 101\t 1.01\n8: 102\t 1.02\n9: 104\t 1.04\n"
    }
   ],
   "source": [
    "do_trials(1000)"
   ]
  },
  {
   "cell_type": "code",
   "execution_count": 4,
   "metadata": {},
   "outputs": [
    {
     "output_type": "stream",
     "name": "stdout",
     "text": "0: 7585\t 0.985\n1: 7811\t 1.01\n2: 7810\t 1.01\n3: 7637\t 0.992\n4: 7802\t 1.01\n5: 7758\t 1.01\n6: 7562\t 0.982\n7: 7814\t 1.01\n8: 7651\t 0.994\n9: 7570\t 0.983\n"
    }
   ],
   "source": [
    "do_trials(77000)"
   ]
  },
  {
   "cell_type": "code",
   "execution_count": 8,
   "metadata": {},
   "outputs": [
    {
     "output_type": "stream",
     "name": "stdout",
     "text": "['John', 'George', 'James', 'Henry', 'Henry']\n"
    }
   ],
   "source": [
    "kings_list = [ 'John', 'James', 'Henry', 'Henry', 'George' ]\n",
    "random.shuffle(kings_list)\n",
    "print(kings_list)"
   ]
  },
  {
   "cell_type": "code",
   "execution_count": 9,
   "metadata": {},
   "outputs": [
    {
     "output_type": "stream",
     "name": "stdout",
     "text": "*\n\n***\n***\n****\n*************\n***********************\n**************************\n**********************************\n********************************************\n***************************************\n*************************************\n*******************************\n**************************\n************\n*****\n******\n\n*\n\n"
    }
   ],
   "source": [
    "# Law of Large Numbers\n",
    "def pr_normal_chart(n):\n",
    "    hits = [0] * 20\n",
    "    for i in range(n):\n",
    "        x = random.normalvariate(100, 30)\n",
    "        j = int(x / 10)\n",
    "        if 0 <= j < 20:\n",
    "            hits[j] += 1\n",
    "    for i in hits:\n",
    "        print('*' * int(i * 320 / n))\n",
    "\n",
    "pr_normal_chart(500)"
   ]
  },
  {
   "cell_type": "code",
   "execution_count": 10,
   "metadata": {},
   "outputs": [
    {
     "output_type": "stream",
     "name": "stdout",
     "text": "\n\n*\n****\n*******\n*************\n*********************\n******************************\n*************************************\n*****************************************\n******************************************\n*************************************\n******************************\n*********************\n*************\n*******\n****\n*\n\n\n"
    }
   ],
   "source": [
    "pr_normal_chart(199000)"
   ]
  },
  {
   "cell_type": "code",
   "execution_count": 11,
   "metadata": {},
   "outputs": [
    {
     "output_type": "stream",
     "name": "stdout",
     "text": "2046438106\n1139657144\n211416370\n2017855153\n2311426713\n358018630\n1007279405\n1347569035\n2104763819\n631346483\n"
    }
   ],
   "source": [
    "# Custom Random Number Generator\n",
    "import time\n",
    "\n",
    "def gen_rand():\n",
    "    p1 = 1200556037\n",
    "    p2 = 2444555677\n",
    "    max_rand = 2 ** 32\n",
    "    r = int(time.time() * 1000)\n",
    "    while True:\n",
    "        n = r\n",
    "        n *= p2\n",
    "        n %= p1\n",
    "        n += r\n",
    "        n *= p1\n",
    "        n %= p2\n",
    "        n %= max_rand\n",
    "        r = n\n",
    "        yield n\n",
    "\n",
    "\n",
    "gen_obj = gen_rand()\n",
    "for i in range(10):\n",
    "    print(next(gen_obj))"
   ]
  },
  {
   "cell_type": "markdown",
   "metadata": {},
   "source": [
    "## USING MATCH PACKAGES"
   ]
  },
  {
   "cell_type": "code",
   "execution_count": 12,
   "metadata": {},
   "outputs": [
    {
     "output_type": "stream",
     "name": "stdout",
     "text": "The value of pi is: 3.141592653589793\n"
    }
   ],
   "source": [
    "import math\n",
    "\n",
    "print('The value of pi is:', math.pi)"
   ]
  },
  {
   "cell_type": "code",
   "execution_count": 13,
   "metadata": {},
   "outputs": [
    {
     "output_type": "stream",
     "name": "stdout",
     "text": "The circumference is 17.27875959474386\n"
    },
    {
     "output_type": "execute_result",
     "data": {
      "text/plain": "17.27875959474386"
     },
     "metadata": {},
     "execution_count": 13
    }
   ],
   "source": [
    "def get_circ(d):\n",
    "    circ = d * math.pi\n",
    "    print('The circumference is', circ)\n",
    "    return circ\n",
    "\n",
    "get_circ(5.5)"
   ]
  },
  {
   "cell_type": "code",
   "execution_count": 14,
   "metadata": {},
   "outputs": [
    {
     "output_type": "stream",
     "name": "stdout",
     "text": "1.618033988749895\n"
    }
   ],
   "source": [
    "phi = (1 + math.sqrt(5)) / 2\n",
    "print(phi)"
   ]
  },
  {
   "cell_type": "code",
   "execution_count": 17,
   "metadata": {},
   "outputs": [
    {
     "output_type": "stream",
     "name": "stdout",
     "text": "Height of the tree is 129.87732371691982\nHeight of the tree is 214.35935394489815\nBye!\n"
    }
   ],
   "source": [
    "def get_height(dist, angle):\n",
    "    return math.tan(math.radians(angle)) * dist\n",
    "\n",
    "def main():\n",
    "    while True:\n",
    "        d = float(input('Enter distance (0 to exit): '))\n",
    "        if d == 0:\n",
    "            print('Bye!')\n",
    "            break\n",
    "        a = float(input('Enter angle of elevation: '))\n",
    "        print('Height of the tree is', get_height(d, a))\n",
    "\n",
    "\n",
    "main()"
   ]
  },
  {
   "cell_type": "code",
   "execution_count": 18,
   "metadata": {},
   "outputs": [
    {
     "output_type": "stream",
     "name": "stdout",
     "text": "Max. number of guesses needed is 6\n"
    }
   ],
   "source": [
    "from math import log2, ceil\n",
    "\n",
    "n = int(input('Enter size of range: '))\n",
    "x = ceil(log2(n + 1))\n",
    "print('Max. number of guesses needed is', x)"
   ]
  },
  {
   "cell_type": "code",
   "execution_count": null,
   "metadata": {},
   "outputs": [],
   "source": []
  }
 ],
 "metadata": {
  "language_info": {
   "codemirror_mode": {
    "name": "ipython",
    "version": 3
   },
   "file_extension": ".py",
   "mimetype": "text/x-python",
   "name": "python",
   "nbconvert_exporter": "python",
   "pygments_lexer": "ipython3",
   "version": "3.7.7-final"
  },
  "orig_nbformat": 2,
  "kernelspec": {
   "name": "python37764bitsuperchargedpythoncondae839e5ed49a8480faa20190e7570c37b",
   "display_name": "Python 3.7.7 64-bit ('Supercharged_Python': conda)"
  }
 },
 "nbformat": 4,
 "nbformat_minor": 2
}