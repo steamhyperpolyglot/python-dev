{
 "cells": [
  {
   "cell_type": "code",
   "execution_count": 1,
   "metadata": {
    "collapsed": true
   },
   "outputs": [
    {
     "output_type": "stream",
     "name": "stdout",
     "text": "The fractions are 1/2, 1/2, & 1/2.\n"
    }
   ],
   "source": [
    "from fractions import Fraction\n",
    "\n",
    "fr1 = Fraction(1, 2)\n",
    "fr2 = Fraction(2, 4)\n",
    "fr3 = Fraction(100, 200)\n",
    "print('The fractions are %s, %s, & %s.' % (fr1, fr2, fr3))\n"
   ]
  },
  {
   "cell_type": "code",
   "execution_count": 2,
   "metadata": {},
   "outputs": [
    {
     "output_type": "stream",
     "name": "stdout",
     "text": "They are all equal!\n"
    }
   ],
   "source": [
    "if fr1 == fr2 and fr2 == fr3:\n",
    "    print('They are all equal!')"
   ]
  },
  {
   "cell_type": "code",
   "execution_count": 3,
   "metadata": {},
   "outputs": [
    {
     "output_type": "stream",
     "name": "stdout",
     "text": "5\n"
    }
   ],
   "source": [
    "fr = Fraction(5)\n",
    "print(fr)"
   ]
  },
  {
   "cell_type": "code",
   "execution_count": 4,
   "metadata": {},
   "outputs": [
    {
     "output_type": "stream",
     "name": "stdout",
     "text": "1/2\n"
    }
   ],
   "source": [
    "fr = Fraction(0.5)\n",
    "print(fr)"
   ]
  },
  {
   "cell_type": "code",
   "execution_count": 5,
   "metadata": {},
   "outputs": [
    {
     "output_type": "stream",
     "name": "stdout",
     "text": "5764607523034235/576460752303423488\n"
    }
   ],
   "source": [
    "fr2 = Fraction(0.01)\n",
    "print(fr2)"
   ]
  },
  {
   "cell_type": "code",
   "execution_count": 6,
   "metadata": {},
   "outputs": [
    {
     "output_type": "stream",
     "name": "stdout",
     "text": "1/100\n"
    }
   ],
   "source": [
    "fr2 = Fraction('0.01')\n",
    "print(fr2)"
   ]
  },
  {
   "cell_type": "code",
   "execution_count": 7,
   "metadata": {},
   "outputs": [
    {
     "output_type": "stream",
     "name": "stdout",
     "text": "1/100\n"
    }
   ],
   "source": [
    "fr2 = Fraction(0.01).limit_denominator(1000)\n",
    "print(fr2)"
   ]
  },
  {
   "cell_type": "code",
   "execution_count": 8,
   "metadata": {},
   "outputs": [
    {
     "output_type": "stream",
     "name": "stdout",
     "text": "5/4\n"
    }
   ],
   "source": [
    "fr1 = Fraction(1, 2)\n",
    "fr2 = Fraction(1, 3)\n",
    "fr3 = Fraction(5, 12)\n",
    "print(fr1 + fr2 + fr3)"
   ]
  },
  {
   "cell_type": "code",
   "execution_count": 9,
   "metadata": {},
   "outputs": [
    {
     "output_type": "stream",
     "name": "stdout",
     "text": "1/100 times 50 =  1/2\n"
    }
   ],
   "source": [
    "fr1 = Fraction(1, 100)\n",
    "print(fr1, 'times 50 = ', fr1 * 50)"
   ]
  },
  {
   "cell_type": "code",
   "execution_count": 10,
   "metadata": {},
   "outputs": [
    {
     "output_type": "stream",
     "name": "stdout",
     "text": "1/100\n19/25\n"
    }
   ],
   "source": [
    "fr = Fraction('1/7')\n",
    "print(fr1)\n",
    "\n",
    "fr1 += Fraction('3/4')\n",
    "print(fr1)"
   ]
  },
  {
   "cell_type": "code",
   "execution_count": 11,
   "metadata": {},
   "outputs": [
    {
     "output_type": "stream",
     "name": "stdout",
     "text": "numerator is 1\ndenominator is 3\n"
    }
   ],
   "source": [
    "fr1 = Fraction('100/300')\n",
    "print('numerator is', fr1.numerator)\n",
    "print('denominator is', fr1.denominator)"
   ]
  },
  {
   "cell_type": "code",
   "execution_count": 1,
   "metadata": {},
   "outputs": [
    {
     "output_type": "stream",
     "name": "stdout",
     "text": "The total is 5/6.\n"
    }
   ],
   "source": [
    "from fractions import Fraction\n",
    "\n",
    "total = Fraction('0')\n",
    "\n",
    "while True:\n",
    "    s = input('Enter fraction (press ENTER to quit): ')\n",
    "    s = s.replace(' ', '')      # Elim. spaces, just in case.\n",
    "    if not s:\n",
    "        break\n",
    "    total += Fraction(s)\n",
    "\n",
    "print('The total is %s.' % total)"
   ]
  },
  {
   "cell_type": "markdown",
   "metadata": {},
   "source": [
    "## THE COMPLEX CLASS"
   ]
  },
  {
   "cell_type": "code",
   "execution_count": 2,
   "metadata": {},
   "outputs": [
    {
     "output_type": "stream",
     "name": "stdout",
     "text": "Real part is 2.5 and imaginary part is 1.0.\n"
    }
   ],
   "source": [
    "z = 2.5 + 1.0j\n",
    "\n",
    "print('Real part is %s and imaginary part is %s.' % (z.real, z.imag))"
   ]
  },
  {
   "cell_type": "code",
   "execution_count": 3,
   "metadata": {},
   "outputs": [
    {
     "output_type": "stream",
     "name": "stdout",
     "text": "<class 'float'>\n"
    }
   ],
   "source": [
    "z = complex(5.7, 10)\n",
    "print(type(z.imag))"
   ]
  },
  {
   "cell_type": "code",
   "execution_count": 4,
   "metadata": {},
   "outputs": [
    {
     "output_type": "stream",
     "name": "stdout",
     "text": "0.0\n"
    }
   ],
   "source": [
    "z = 3j\n",
    "print(z.real)"
   ]
  },
  {
   "cell_type": "code",
   "execution_count": 5,
   "metadata": {},
   "outputs": [
    {
     "output_type": "stream",
     "name": "stdout",
     "text": "(2+0j)\n2.0 0.0\n"
    }
   ],
   "source": [
    "z = 2 + 0j\n",
    "print(z)\n",
    "print(z.real, z.imag)"
   ]
  },
  {
   "cell_type": "code",
   "execution_count": null,
   "metadata": {},
   "outputs": [],
   "source": []
  }
 ],
 "metadata": {
  "kernelspec": {
   "display_name": "Python 3.7.7 64-bit ('Supercharged_Python': conda)",
   "language": "${KERNEL_SPEC_LANGUAGE}",
   "name": "python37764bitsuperchargedpythoncondae839e5ed49a8480faa20190e7570c37b"
  },
  "language_info": {
   "codemirror_mode": {
    "name": "ipython",
    "version": 2
   },
   "file_extension": ".py",
   "mimetype": "text/x-python",
   "name": "python",
   "nbconvert_exporter": "python",
   "pygments_lexer": "ipython2",
   "version": "3.7.7-final"
  }
 },
 "nbformat": 4,
 "nbformat_minor": 0
}