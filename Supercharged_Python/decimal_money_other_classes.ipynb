{
 "cells": [
  {
   "cell_type": "code",
   "execution_count": 1,
   "metadata": {
    "collapsed": true
   },
   "outputs": [
    {
     "output_type": "stream",
     "name": "stdout",
     "text": "The fractions are 1/2, 1/2, & 1/2.\n"
    }
   ],
   "source": [
    "from fractions import Fraction\n",
    "\n",
    "fr1 = Fraction(1, 2)\n",
    "fr2 = Fraction(2, 4)\n",
    "fr3 = Fraction(100, 200)\n",
    "print('The fractions are %s, %s, & %s.' % (fr1, fr2, fr3))\n"
   ]
  },
  {
   "cell_type": "code",
   "execution_count": 2,
   "metadata": {},
   "outputs": [
    {
     "output_type": "stream",
     "name": "stdout",
     "text": "They are all equal!\n"
    }
   ],
   "source": [
    "if fr1 == fr2 and fr2 == fr3:\n",
    "    print('They are all equal!')"
   ]
  },
  {
   "cell_type": "code",
   "execution_count": 3,
   "metadata": {},
   "outputs": [
    {
     "output_type": "stream",
     "name": "stdout",
     "text": "5\n"
    }
   ],
   "source": [
    "fr = Fraction(5)\n",
    "print(fr)"
   ]
  },
  {
   "cell_type": "code",
   "execution_count": 4,
   "metadata": {},
   "outputs": [
    {
     "output_type": "stream",
     "name": "stdout",
     "text": "1/2\n"
    }
   ],
   "source": [
    "fr = Fraction(0.5)\n",
    "print(fr)"
   ]
  },
  {
   "cell_type": "code",
   "execution_count": 5,
   "metadata": {},
   "outputs": [
    {
     "output_type": "stream",
     "name": "stdout",
     "text": "5764607523034235/576460752303423488\n"
    }
   ],
   "source": [
    "fr2 = Fraction(0.01)\n",
    "print(fr2)"
   ]
  },
  {
   "cell_type": "code",
   "execution_count": 6,
   "metadata": {},
   "outputs": [
    {
     "output_type": "stream",
     "name": "stdout",
     "text": "1/100\n"
    }
   ],
   "source": [
    "fr2 = Fraction('0.01')\n",
    "print(fr2)"
   ]
  },
  {
   "cell_type": "code",
   "execution_count": 7,
   "metadata": {},
   "outputs": [
    {
     "output_type": "stream",
     "name": "stdout",
     "text": "1/100\n"
    }
   ],
   "source": [
    "fr2 = Fraction(0.01).limit_denominator(1000)\n",
    "print(fr2)"
   ]
  },
  {
   "cell_type": "code",
   "execution_count": 8,
   "metadata": {},
   "outputs": [
    {
     "output_type": "stream",
     "name": "stdout",
     "text": "5/4\n"
    }
   ],
   "source": [
    "fr1 = Fraction(1, 2)\n",
    "fr2 = Fraction(1, 3)\n",
    "fr3 = Fraction(5, 12)\n",
    "print(fr1 + fr2 + fr3)"
   ]
  },
  {
   "cell_type": "code",
   "execution_count": 9,
   "metadata": {},
   "outputs": [
    {
     "output_type": "stream",
     "name": "stdout",
     "text": "1/100 times 50 =  1/2\n"
    }
   ],
   "source": [
    "fr1 = Fraction(1, 100)\n",
    "print(fr1, 'times 50 = ', fr1 * 50)"
   ]
  },
  {
   "cell_type": "code",
   "execution_count": 10,
   "metadata": {},
   "outputs": [
    {
     "output_type": "stream",
     "name": "stdout",
     "text": "1/100\n19/25\n"
    }
   ],
   "source": [
    "fr = Fraction('1/7')\n",
    "print(fr1)\n",
    "\n",
    "fr1 += Fraction('3/4')\n",
    "print(fr1)"
   ]
  },
  {
   "cell_type": "code",
   "execution_count": 11,
   "metadata": {},
   "outputs": [
    {
     "output_type": "stream",
     "name": "stdout",
     "text": "numerator is 1\ndenominator is 3\n"
    }
   ],
   "source": [
    "fr1 = Fraction('100/300')\n",
    "print('numerator is', fr1.numerator)\n",
    "print('denominator is', fr1.denominator)"
   ]
  },
  {
   "cell_type": "code",
   "execution_count": null,
   "metadata": {},
   "outputs": [],
   "source": []
  }
 ],
 "metadata": {
  "kernelspec": {
   "display_name": "Python 3.7.5 64-bit",
   "language": "${KERNEL_SPEC_LANGUAGE}",
   "name": "python37564bit8a846704e98245bebe55c2ae2e5fd7e5"
  },
  "language_info": {
   "codemirror_mode": {
    "name": "ipython",
    "version": 2
   },
   "file_extension": ".py",
   "mimetype": "text/x-python",
   "name": "python",
   "nbconvert_exporter": "python",
   "pygments_lexer": "ipython2",
   "version": "3.7.5-final"
  }
 },
 "nbformat": 4,
 "nbformat_minor": 0
}