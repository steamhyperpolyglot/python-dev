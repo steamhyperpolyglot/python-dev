{
 "cells": [
  {
   "cell_type": "code",
   "execution_count": 1,
   "metadata": {},
   "outputs": [
    {
     "output_type": "stream",
     "name": "stdout",
     "text": "The items are 30, 20, 10.\n"
    }
   ],
   "source": [
    "print('The items are {2}, {1}, {0}.'.format(10, 20, 30))"
   ]
  },
  {
   "cell_type": "code",
   "execution_count": 2,
   "metadata": {},
   "outputs": [
    {
     "output_type": "stream",
     "name": "stdout",
     "text": "The items are 40, 30, 20\n"
    }
   ],
   "source": [
    "fss = 'The items are {3}, {2}, {1}'\n",
    "print(fss.format(10, 20, 30, 40))"
   ]
  },
  {
   "cell_type": "code",
   "execution_count": 3,
   "metadata": {},
   "outputs": [
    {
     "output_type": "stream",
     "name": "stdout",
     "text": "a equals 10, b equals 50, c equals 100.\n"
    }
   ],
   "source": [
    "fss = 'a equals {a}, b equals {b}, c equals {c}.'\n",
    "print(fss.format(a=10, c=100, b=50))"
   ]
  },
  {
   "cell_type": "code",
   "execution_count": 4,
   "metadata": {},
   "outputs": [
    {
     "output_type": "execute_result",
     "data": {
      "text/plain": "'200, 300'"
     },
     "metadata": {},
     "execution_count": 4
    }
   ],
   "source": [
    "a_list = [100, 200, 300]\n",
    "'{0[1]:}, {0[2]:}'.format(a_list)"
   ]
  },
  {
   "cell_type": "code",
   "execution_count": 5,
   "metadata": {},
   "outputs": [
    {
     "output_type": "execute_result",
     "data": {
      "text/plain": "'200 300'"
     },
     "metadata": {},
     "execution_count": 5
    }
   ],
   "source": [
    "a_list = [100, 200, 300]\n",
    "'{a[1]:} {a[2]:}'.format(a=a_list)"
   ]
  },
  {
   "cell_type": "code",
   "execution_count": 6,
   "metadata": {},
   "outputs": [
    {
     "output_type": "stream",
     "name": "stdout",
     "text": "Here is a \n newline! \n'Here is a \\n newline! '\n"
    }
   ],
   "source": [
    "test_str = 'Here is a \\n newline! '\n",
    "print(test_str)\n",
    "print(repr(test_str))"
   ]
  },
  {
   "cell_type": "code",
   "execution_count": 7,
   "metadata": {},
   "outputs": [
    {
     "output_type": "stream",
     "name": "stdout",
     "text": "'Here is a \\n newline! '\n"
    }
   ],
   "source": [
    "test_str = 'Here is a \\n newline! '\n",
    "print('{!r}'.format(test_str))"
   ]
  },
  {
   "cell_type": "code",
   "execution_count": 8,
   "metadata": {},
   "outputs": [
    {
     "output_type": "stream",
     "name": "stdout",
     "text": "'ChaCha' loves 'Joanie'\n"
    }
   ],
   "source": [
    "print('{1!r} loves {0!r}'.format('Joanie', 'ChaCha'))"
   ]
  },
  {
   "cell_type": "code",
   "execution_count": 9,
   "metadata": {},
   "outputs": [
    {
     "output_type": "stream",
     "name": "stdout",
     "text": "**       777**999**\n"
    }
   ],
   "source": [
    "n1, n2 = 777, 999\n",
    "print('**{:10}**{:2}**'.format(n1, n2))"
   ]
  },
  {
   "cell_type": "code",
   "execution_count": 10,
   "metadata": {},
   "outputs": [
    {
     "output_type": "stream",
     "name": "stdout",
     "text": "'ChaCha'   loves 'Joanie'  !!\n"
    }
   ],
   "source": [
    "fss = '{1!r:10} loves {0!r:10}!!'\n",
    "print(fss.format('Joanie', 'ChaCha'))"
   ]
  },
  {
   "cell_type": "code",
   "execution_count": 11,
   "metadata": {},
   "outputs": [
    {
     "output_type": "stream",
     "name": "stdout",
     "text": "----Hey Bill G, pick me!\n"
    }
   ],
   "source": [
    "print('{:->24}'.format('Hey Bill G, pick me!'))"
   ]
  },
  {
   "cell_type": "code",
   "execution_count": 1,
   "metadata": {},
   "outputs": [
    {
     "output_type": "stream",
     "name": "stdout",
     "text": "Tom\n@@@Lady\n***Bill\n"
    }
   ],
   "source": [
    "print('{:>7}'.format('Tom'))\n",
    "print('{:@>7}'.format('Lady'))\n",
    "print('{:*>7}'.format('Bill'))"
   ]
  },
  {
   "cell_type": "code",
   "execution_count": 1,
   "metadata": {},
   "outputs": [
    {
     "output_type": "stream",
     "name": "stdout",
     "text": "Tom    \nLady@@@\nBill***\n"
    }
   ],
   "source": [
    "print('{:<7}'.format('Tom'))\n",
    "print('{:@<7}'.format('Lady'))\n",
    "print('{:*<7}'.format('Bill'))"
   ]
  },
  {
   "cell_type": "code",
   "execution_count": 2,
   "metadata": {},
   "outputs": [
    {
     "output_type": "stream",
     "name": "stdout",
     "text": "Tom    Jones\n@@@Lady@@@\n***Bill***\n"
    }
   ],
   "source": [
    "fss = '{:^10}Jones'\n",
    "print(fss.format('Tom'))\n",
    "fss = '{:@^10}'\n",
    "print(fss.format('Lady'))\n",
    "fss = '{:*^10}'\n",
    "print(fss.format('Bill'))"
   ]
  },
  {
   "cell_type": "code",
   "execution_count": 4,
   "metadata": {},
   "outputs": [
    {
     "output_type": "stream",
     "name": "stdout",
     "text": "-   1250\n-0001250\n"
    }
   ],
   "source": [
    "print('{:=8}'.format(-1250))\n",
    "print('{:0=8}'.format(-1250))"
   ]
  },
  {
   "cell_type": "code",
   "execution_count": 6,
   "metadata": {},
   "outputs": [
    {
     "output_type": "stream",
     "name": "stdout",
     "text": "@@@Lady\n"
    }
   ],
   "source": [
    "print(format('Lady', '@>7'))"
   ]
  },
  {
   "cell_type": "code",
   "execution_count": 7,
   "metadata": {},
   "outputs": [
    {
     "output_type": "stream",
     "name": "stdout",
     "text": "results> 25,+25,25\n"
    }
   ],
   "source": [
    "print('results>{: },{:+},{:-}'.format(25, 25, 25))"
   ]
  },
  {
   "cell_type": "code",
   "execution_count": 9,
   "metadata": {},
   "outputs": [
    {
     "output_type": "stream",
     "name": "stdout",
     "text": "results> -25,-25,-25\n"
    }
   ],
   "source": [
    "print('results> {: },{:+},{:-}'.format(-25, -25, -25))"
   ]
  },
  {
   "cell_type": "code",
   "execution_count": 10,
   "metadata": {},
   "outputs": [
    {
     "output_type": "stream",
     "name": "stdout",
     "text": "0000125  0000025156.\n"
    }
   ],
   "source": [
    "i, j = 125, 25156\n",
    "print('{:07}  {:010}.'.format(i, j))"
   ]
  },
  {
   "cell_type": "code",
   "execution_count": 11,
   "metadata": {},
   "outputs": [
    {
     "output_type": "stream",
     "name": "stdout",
     "text": "00000375\n"
    }
   ],
   "source": [
    "print('{:08}'.format(375))"
   ]
  },
  {
   "cell_type": "code",
   "execution_count": 12,
   "metadata": {},
   "outputs": [
    {
     "output_type": "stream",
     "name": "stdout",
     "text": "0000000+25 +000000025\n"
    }
   ],
   "source": [
    "print('{:0>+10} {:+010}'.format(25, 25))"
   ]
  },
  {
   "cell_type": "code",
   "execution_count": 13,
   "metadata": {},
   "outputs": [
    {
     "output_type": "stream",
     "name": "stdout",
     "text": "The USA owes 21,000,000,000,000 dollars.\nThe sun is 93,000,000 miles away\n"
    }
   ],
   "source": [
    "fss1 = 'The USA owes {:,} dollars.'\n",
    "print(fss1.format(21000000000000))\n",
    "fss2 = 'The sun is {:,} miles away'\n",
    "print(fss2.format(93000000))"
   ]
  },
  {
   "cell_type": "code",
   "execution_count": 15,
   "metadata": {},
   "outputs": [
    {
     "output_type": "stream",
     "name": "stdout",
     "text": "The amount on the check was $***4,500,000\n"
    }
   ],
   "source": [
    "n = 4500000\n",
    "print('The amount on the check was ${:*>12,}'.format(n))"
   ]
  },
  {
   "cell_type": "code",
   "execution_count": 16,
   "metadata": {},
   "outputs": [
    {
     "output_type": "stream",
     "name": "stdout",
     "text": "The amount is 000,013,000\n"
    }
   ],
   "source": [
    "print('The amount is {:011,}'.format(13000))"
   ]
  },
  {
   "cell_type": "code",
   "execution_count": 17,
   "metadata": {},
   "outputs": [
    {
     "output_type": "stream",
     "name": "stdout",
     "text": "The amount is 0,000,013,000\n"
    }
   ],
   "source": [
    "n = 13000\n",
    "print('The amount is {:012,}'.format(n))"
   ]
  },
  {
   "cell_type": "code",
   "execution_count": 19,
   "metadata": {},
   "outputs": [
    {
     "output_type": "stream",
     "name": "stdout",
     "text": "The amount is 0000013,000\n"
    }
   ],
   "source": [
    "print('The amount is {:0>11,}'.format(n))"
   ]
  },
  {
   "cell_type": "markdown",
   "metadata": {},
   "source": [
    "## Controlling Precision"
   ]
  },
  {
   "cell_type": "code",
   "execution_count": 21,
   "metadata": {},
   "outputs": [
    {
     "output_type": "stream",
     "name": "stdout",
     "text": "3.14 + 1.62 = 4.76\n"
    }
   ],
   "source": [
    "pi = 3.14159265\n",
    "phi = 1.618\n",
    "\n",
    "fss = '{:.3} + {:.3} = {:.3}'\n",
    "print(fss.format(pi, phi, pi + phi))"
   ]
  },
  {
   "cell_type": "code",
   "execution_count": null,
   "metadata": {},
   "outputs": [],
   "source": []
  }
 ],
 "metadata": {
  "language_info": {
   "codemirror_mode": {
    "name": "ipython",
    "version": 3
   },
   "file_extension": ".py",
   "mimetype": "text/x-python",
   "name": "python",
   "nbconvert_exporter": "python",
   "pygments_lexer": "ipython3",
   "version": "3.7.5-final"
  },
  "orig_nbformat": 2,
  "kernelspec": {
   "name": "python37564bit8a846704e98245bebe55c2ae2e5fd7e5",
   "display_name": "Python 3.7.5 64-bit"
  }
 },
 "nbformat": 4,
 "nbformat_minor": 2
}