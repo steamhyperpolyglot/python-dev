{
 "cells": [
  {
   "cell_type": "code",
   "execution_count": null,
   "outputs": [],
   "source": [
    "2 + 2"
   ],
   "metadata": {
    "collapsed": false,
    "pycharm": {
     "name": "#%% code\n"
    }
   }
  },
  {
   "cell_type": "code",
   "execution_count": 1,
   "outputs": [
    {
     "name": "stdout",
     "output_type": "stream",
     "text": [
      "Rop\n"
     ]
    }
   ],
   "source": [
    "a_str = 'RoboCop'\n",
    "b_str = a_str[::3]  # Get every third character\n",
    "print(b_str)"
   ],
   "metadata": {
    "collapsed": false,
    "pycharm": {
     "name": "#%% code\n"
    }
   }
  },
  {
   "cell_type": "code",
   "execution_count": 2,
   "outputs": [
    {
     "name": "stdout",
     "output_type": "stream",
     "text": [
      "ADGJM\n"
     ]
    }
   ],
   "source": [
    "a_str = 'AbcDefGhiJklMno'\n",
    "b_str = a_str[::3]\n",
    "print(b_str)"
   ],
   "metadata": {
    "collapsed": false,
    "pycharm": {
     "name": "#%% code\n"
    }
   }
  },
  {
   "cell_type": "code",
   "execution_count": 3,
   "outputs": [
    {
     "name": "stdout",
     "output_type": "stream",
     "text": [
      "!wow boB woW\n",
      "racecaR\n"
     ]
    }
   ],
   "source": [
    "def reverse_str(s):\n",
    "    return s[::-1]\n",
    "\n",
    "print(reverse_str('Wow Bob wow!'))\n",
    "print(reverse_str('Racecar'))"
   ],
   "metadata": {
    "collapsed": false,
    "pycharm": {
     "name": "#%% code\n"
    }
   }
  },
  {
   "cell_type": "code",
   "execution_count": 2,
   "outputs": [
    {
     "name": "stdout",
     "output_type": "stream",
     "text": [
      "65\n",
      "A\n"
     ]
    }
   ],
   "source": [
    "print(ord('A'))\n",
    "print(chr(65))"
   ],
   "metadata": {
    "collapsed": false,
    "pycharm": {
     "name": "#%% code\n"
    }
   }
  },
  {
   "cell_type": "code",
   "execution_count": 1,
   "metadata": {},
   "outputs": [
    {
     "output_type": "stream",
     "name": "stdout",
     "text": "First char is a consonant.\n"
    }
   ],
   "source": [
    "s = 'Helephant'\n",
    "if s[0] not in 'aeiou':\n",
    "    print('First char is a consonant.')"
   ]
  },
  {
   "cell_type": "code",
   "execution_count": 6,
   "metadata": {},
   "outputs": [
    {
     "output_type": "stream",
     "name": "stdout",
     "text": "First char is a consonant.\n"
    }
   ],
   "source": [
    "s = 'elephant'\n",
    "if s[0] in 'aeiouAEIOU':\n",
    "    print('First char is a consonant.')"
   ]
  },
  {
   "cell_type": "code",
   "execution_count": 7,
   "metadata": {},
   "outputs": [
    {
     "output_type": "stream",
     "name": "stdout",
     "text": "First char is a vowel.\n"
    }
   ],
   "source": [
    "s = 'elephant'\n",
    "if s[0].upper() in 'AEIOU':\n",
    "    print('First char is a vowel.')"
   ]
  },
  {
   "cell_type": "code",
   "execution_count": 8,
   "metadata": {},
   "outputs": [
    {
     "output_type": "stream",
     "name": "stdout",
     "text": "True\nFalse\n"
    }
   ],
   "source": [
    "print('' in 'cat')\n",
    "print([] in [1, 2, 3])"
   ]
  },
  {
   "cell_type": "code",
   "execution_count": 9,
   "metadata": {},
   "outputs": [
    {
     "output_type": "stream",
     "name": "stdout",
     "text": "C , type: <class 'str'>\na , type: <class 'str'>\nt , type: <class 'str'>\n"
    }
   ],
   "source": [
    "s = 'Cat'\n",
    "for ch in s:\n",
    "    print(ch, ', type:', type(ch))"
   ]
  },
  {
   "cell_type": "code",
   "execution_count": 10,
   "metadata": {},
   "outputs": [
    {
     "output_type": "stream",
     "name": "stdout",
     "text": "67  97  116"
    }
   ],
   "source": [
    "s = 'Cat'\n",
    "for ch in s:\n",
    "    print(ord(ch), end='  ')"
   ]
  },
  {
   "cell_type": "code",
   "execution_count": 2,
   "metadata": {},
   "outputs": [
    {
     "output_type": "stream",
     "name": "stdout",
     "text": "Big Bad John\n"
    }
   ],
   "source": [
    "a_str = 'Big '\n",
    "a_str = a_str + 'Bad '\n",
    "a_str = a_str + 'John'\n",
    "print(a_str)"
   ]
  },
  {
   "cell_type": "code",
   "execution_count": 5,
   "metadata": {},
   "outputs": [
    {
     "output_type": "stream",
     "name": "stdout",
     "text": "ABCDEFGHIJKLMNOPQRSTUVWXYZ\n"
    }
   ],
   "source": [
    "n = ord('A')\n",
    "s = ''\n",
    "for i in range(n, n + 26):\n",
    "    s += chr(i)\n",
    "print(s)"
   ]
  },
  {
   "cell_type": "markdown",
   "metadata": {},
   "source": [
    "Joining strings together"
   ]
  },
  {
   "cell_type": "code",
   "execution_count": 7,
   "metadata": {},
   "outputs": [
    {
     "output_type": "stream",
     "name": "stdout",
     "text": "ABCDEFGHIJKLMNOPQRSTUVWXYZ\n"
    }
   ],
   "source": [
    "n = ord('A')\n",
    "a_lst = []\n",
    "for i in range(n, n + 26):\n",
    "    a_lst.append(chr(i))\n",
    "s = ''.join(a_lst)\n",
    "print(s)"
   ]
  },
  {
   "cell_type": "code",
   "execution_count": 8,
   "metadata": {},
   "outputs": [
    {
     "output_type": "stream",
     "name": "stdout",
     "text": "John, Paul, George, Ringo\n"
    }
   ],
   "source": [
    "def print_nice(a_lst):\n",
    "    s = ''\n",
    "    for item in a_lst:\n",
    "        s += item + ', '\n",
    "    \n",
    "    if len(s) > 0:\n",
    "        s = s[:-2]\n",
    "    print(s)\n",
    "\n",
    "print_nice(['John', 'Paul', 'George', 'Ringo'])"
   ]
  },
  {
   "cell_type": "code",
   "execution_count": 9,
   "metadata": {},
   "outputs": [
    {
     "output_type": "stream",
     "name": "stdout",
     "text": "Jaxx has 4 letters.\nCutie Pie has 9 letters.\n"
    }
   ],
   "source": [
    "dog1 = 'Jaxx'\n",
    "dog2 = 'Cutie Pie'\n",
    "print(dog1, 'has', len(dog1), 'letters.')\n",
    "print(dog2, 'has', len(dog2), 'letters.')"
   ]
  },
  {
   "cell_type": "code",
   "execution_count": 2,
   "metadata": {},
   "outputs": [
    {
     "output_type": "stream",
     "name": "stdout",
     "text": "!wow ,boB ,woW\n  !,,BWbooowww\n"
    }
   ],
   "source": [
    "a_str = ''.join(reversed('Wow, Bob, wow!'))\n",
    "print(a_str)\n",
    "\n",
    "b_str = ''.join(sorted('Wow, Bob, wow!'))\n",
    "print(b_str)"
   ]
  },
  {
   "cell_type": "code",
   "execution_count": 3,
   "metadata": {},
   "outputs": [
    {
     "output_type": "stream",
     "name": "stdout",
     "text": "0b1010 0o12 0xa\n"
    }
   ],
   "source": [
    "print(bin(10), oct(10), hex(10))"
   ]
  },
  {
   "cell_type": "code",
   "execution_count": 4,
   "metadata": {},
   "outputs": [
    {
     "output_type": "stream",
     "name": "stdout",
     "text": "First letter is uppercase.\nNot all chars are uppercase.\n"
    }
   ],
   "source": [
    "h_str = 'Hello'\n",
    "\n",
    "if h_str[0].isupper():\n",
    "    print('First letter is uppercase.')\n",
    "if h_str.isupper():\n",
    "    print('All chars are uppercase.')\n",
    "else:\n",
    "    print('Not all chars are uppercase.')"
   ]
  },
  {
   "cell_type": "code",
   "execution_count": 6,
   "metadata": {},
   "outputs": [
    {
     "output_type": "stream",
     "name": "stdout",
     "text": "True\n"
    }
   ],
   "source": [
    "me_str = 'John Bennett, PhD'\n",
    "is_doc = me_str.endswith('PhD')\n",
    "print(is_doc)"
   ]
  },
  {
   "cell_type": "code",
   "execution_count": 7,
   "metadata": {},
   "outputs": [
    {
     "output_type": "stream",
     "name": "stdout",
     "text": "3\n"
    }
   ],
   "source": [
    "frank_str = 'doo be doo be doo'\n",
    "\n",
    "n = frank_str.count('doo')\n",
    "print(n)"
   ]
  },
  {
   "cell_type": "markdown",
   "metadata": {},
   "source": [
    "Find the positions of all occurences of a substring."
   ]
  },
  {
   "cell_type": "code",
   "execution_count": 8,
   "metadata": {},
   "outputs": [
    {
     "output_type": "stream",
     "name": "stdout",
     "text": "0 7 14"
    }
   ],
   "source": [
    "frank_str = 'doo be doo be doo...'\n",
    "n = -1\n",
    "while True:\n",
    "    n = frank_str.find('doo', n + 1)\n",
    "    if n == -1:\n",
    "        break\n",
    "    print(n, end=' ')"
   ]
  },
  {
   "cell_type": "code",
   "execution_count": 9,
   "metadata": {},
   "outputs": [
    {
     "output_type": "stream",
     "name": "stdout",
     "text": "25 Hues of Gray\n"
    }
   ],
   "source": [
    "# Using the replace method\n",
    "title = '25 Hues of Grey'\n",
    "new_title = title.replace('Grey', 'Gray')\n",
    "print(new_title)"
   ]
  },
  {
   "cell_type": "code",
   "execution_count": 11,
   "metadata": {},
   "outputs": [
    {
     "output_type": "stream",
     "name": "stdout",
     "text": "['Moe', '', '', 'Larry', 'Curly', '', 'Shemp']\n"
    }
   ],
   "source": [
    "# Splitting a string\n",
    "stooge_list = 'Moe   Larry Curly  Shemp'.split(' ')\n",
    "print(stooge_list)"
   ]
  },
  {
   "cell_type": "code",
   "execution_count": 12,
   "metadata": {},
   "outputs": [
    {
     "output_type": "stream",
     "name": "stdout",
     "text": "['Moe', ' Larry', ' Curly', ' Shemp']\n"
    }
   ],
   "source": [
    "stooge_list = 'Moe, Larry, Curly, Shemp'.split(',')\n",
    "print(stooge_list)"
   ]
  },
  {
   "cell_type": "code",
   "execution_count": 14,
   "metadata": {},
   "outputs": [
    {
     "output_type": "stream",
     "name": "stdout",
     "text": "Will Shakes   \n"
    }
   ],
   "source": [
    "# Stripping a string of spaces\n",
    "name_str = '   Will Shakes   '\n",
    "new_str = name_str.strip()\n",
    "print(name_str)"
   ]
  },
  {
   "cell_type": "code",
   "execution_count": 15,
   "metadata": {},
   "outputs": [
    {
     "output_type": "stream",
     "name": "stdout",
     "text": "##Help!###\n"
    }
   ],
   "source": [
    "new_str = 'Help!'.center(10, '#')\n",
    "print(new_str)"
   ]
  },
  {
   "cell_type": "code",
   "execution_count": 16,
   "metadata": {},
   "outputs": [
    {
     "output_type": "stream",
     "name": "stdout",
     "text": "000750\n"
    }
   ],
   "source": [
    "new_str = '750'.rjust(6, '0')\n",
    "print(new_str)"
   ]
  },
  {
   "cell_type": "code",
   "execution_count": 17,
   "metadata": {},
   "outputs": [
    {
     "output_type": "stream",
     "name": "stdout",
     "text": "0000012\n"
    }
   ],
   "source": [
    "s = '12'\n",
    "print(s.zfill(7))"
   ]
  },
  {
   "cell_type": "code",
   "execution_count": null,
   "metadata": {},
   "outputs": [],
   "source": []
  }
 ],
 "metadata": {
  "kernelspec": {
   "name": "python37764bitsuperchargedpythoncondae839e5ed49a8480faa20190e7570c37b",
   "language": "python",
   "display_name": "Python 3.7.7 64-bit ('Supercharged_Python': conda)"
  },
  "language_info": {
   "codemirror_mode": {
    "name": "ipython",
    "version": 2
   },
   "file_extension": ".py",
   "mimetype": "text/x-python",
   "name": "python",
   "nbconvert_exporter": "python",
   "pygments_lexer": "ipython2",
   "version": "3.7.7-final"
  }
 },
 "nbformat": 4,
 "nbformat_minor": 0
}