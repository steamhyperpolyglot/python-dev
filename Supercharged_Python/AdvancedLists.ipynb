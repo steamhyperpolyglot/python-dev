{
 "cells": [
  {
   "cell_type": "code",
   "execution_count": 1,
   "metadata": {},
   "outputs": [
    {
     "output_type": "stream",
     "name": "stdout",
     "text": "Before sorting:\n\n[3, 2, 17, 2.5]\n\n\nAfter sorting:\n\n[2, 2.5, 3, 17]\n"
    }
   ],
   "source": [
    "num_list = [3, 2, 17, 2.5]\n",
    "print('Before sorting:\\n')\n",
    "print(num_list)\n",
    "print('\\n')\n",
    "num_list.sort()\n",
    "print('After sorting:\\n')\n",
    "print(num_list)"
   ]
  },
  {
   "cell_type": "code",
   "execution_count": 2,
   "metadata": {},
   "outputs": [
    {
     "output_type": "stream",
     "name": "stdout",
     "text": "[1, 2, 3]\n"
    }
   ],
   "source": [
    "my_list = []        # Must do this before you append!\n",
    "my_list.append(1)\n",
    "my_list.append(2)\n",
    "my_list.append(3)\n",
    "print(my_list)"
   ]
  },
  {
   "cell_type": "code",
   "execution_count": 5,
   "metadata": {},
   "outputs": [
    {
     "output_type": "stream",
     "name": "stdout",
     "text": "[1.0, 9.8, 1.0]\n"
    }
   ],
   "source": [
    "this_scores = [1.0, 1.0, 9.8, 1.0]\n",
    "this_scores.remove(1.0)\n",
    "print(this_scores)"
   ]
  },
  {
   "cell_type": "code",
   "execution_count": 6,
   "metadata": {},
   "outputs": [
    {
     "output_type": "stream",
     "name": "stdout",
     "text": "a_list:  [2, 5, 10] \n\nb_list:  [2, 5, 10] \n\na_list (after appending):  [2, 5, 10, 100, 200, 1] \n\nb_list (after appending):  [2, 5, 10, 100, 200, 1] \n\n"
    }
   ],
   "source": [
    "a_list = [2, 5, 10]\n",
    "b_list = a_list\n",
    "print('a_list: ', a_list, '\\n')\n",
    "print('b_list: ', b_list, '\\n')\n",
    "b_list.append(100)\n",
    "a_list.append(200)\n",
    "b_list.append(1)\n",
    "print('a_list (after appending): ', a_list, '\\n')\n",
    "print('b_list (after appending): ', b_list, '\\n')"
   ]
  },
  {
   "cell_type": "code",
   "execution_count": 1,
   "metadata": {},
   "outputs": [
    {
     "output_type": "stream",
     "name": "stdout",
     "text": "my_list:  [1, 10, 5]\nyr_list:  [1, 10, 5]\n"
    }
   ],
   "source": [
    "# Member by member copy\n",
    "my_list = [1, 10, 5]\n",
    "print('my_list: ', my_list)\n",
    "\n",
    "yr_list = my_list[:]\n",
    "print('yr_list: ', yr_list)"
   ]
  },
  {
   "cell_type": "code",
   "execution_count": 2,
   "metadata": {},
   "outputs": [
    {
     "output_type": "stream",
     "name": "stdout",
     "text": "100\n"
    }
   ],
   "source": [
    "my_list = [100, 500, 1000]\n",
    "print(my_list[0])"
   ]
  },
  {
   "cell_type": "code",
   "execution_count": 3,
   "metadata": {},
   "outputs": [
    {
     "output_type": "stream",
     "name": "stdout",
     "text": "100\n"
    }
   ],
   "source": [
    "# Indexing\n",
    "my_list = [100, 500, 1000]\n",
    "print(my_list[0])"
   ]
  },
  {
   "cell_type": "code",
   "execution_count": 2,
   "metadata": {},
   "outputs": [
    {
     "output_type": "stream",
     "name": "stdout",
     "text": "100\n200\n300\n100\n200\n300\n"
    }
   ],
   "source": [
    "a_list = [100, 200, 300, 400, 500, 600]\n",
    "print(a_list[0])\n",
    "print(a_list[1])\n",
    "print(a_list[2])\n",
    "print(a_list[0], a_list[1], a_list[2], sep='\\n')"
   ]
  },
  {
   "cell_type": "code",
   "execution_count": 4,
   "metadata": {},
   "outputs": [
    {
     "output_type": "stream",
     "name": "stdout",
     "text": "Using negative indexes...\n\n600\n400\n"
    }
   ],
   "source": [
    "# Negative indexes\n",
    "print('Using negative indexes...\\n')\n",
    "\n",
    "a_list = [100, 200, 300, 400, 500, 600]\n",
    "print(a_list[-1])\n",
    "print(a_list[-3])"
   ]
  },
  {
   "cell_type": "code",
   "execution_count": 5,
   "metadata": {},
   "outputs": [
    {
     "output_type": "stream",
     "name": "stdout",
     "text": "Tom\nDick\nJane\n"
    }
   ],
   "source": [
    "# using enumerate\n",
    "a_list = ['Tom', 'Dick', 'Jane']\n",
    "\n",
    "for s in a_list:\n",
    "    print(s)"
   ]
  },
  {
   "cell_type": "code",
   "execution_count": 6,
   "metadata": {},
   "outputs": [
    {
     "output_type": "stream",
     "name": "stdout",
     "text": "Tom\nDick\nJane\n"
    }
   ],
   "source": [
    "# Using a range\n",
    "a_list = ['Tom', 'Dick', 'Jane']\n",
    "for i in range(len(a_list)):\n",
    "    print(a_list[i])"
   ]
  },
  {
   "cell_type": "code",
   "execution_count": 7,
   "metadata": {},
   "outputs": [
    {
     "output_type": "execute_result",
     "data": {
      "text/plain": "[(1, 'Tom'), (2, 'Dick'), (3, 'Jane')]"
     },
     "metadata": {},
     "execution_count": 7
    }
   ],
   "source": [
    "# Using the enumerate() function\n",
    "a_list = ['Tom', 'Dick', 'Jane']\n",
    "list(enumerate(a_list, 1))"
   ]
  },
  {
   "cell_type": "code",
   "execution_count": 8,
   "metadata": {},
   "outputs": [
    {
     "output_type": "stream",
     "name": "stdout",
     "text": "1. Tom\n2. Dick\n3. Jane\n"
    }
   ],
   "source": [
    "# Using enumerate() function with for loop\n",
    "a_list = ['Tom', 'Dick', 'Jane']\n",
    "\n",
    "for item_num, name_str in enumerate(a_list, 1):\n",
    "    print(item_num,  '. ', name_str, sep='')"
   ]
  },
  {
   "cell_type": "markdown",
   "metadata": {},
   "source": [
    "## Working with Slices"
   ]
  },
  {
   "cell_type": "code",
   "execution_count": 9,
   "metadata": {},
   "outputs": [
    {
     "output_type": "stream",
     "name": "stdout",
     "text": "[2, 5]\n[20, 30]\n"
    }
   ],
   "source": [
    "a_list = [1, 2, 5, 10, 20, 30]\n",
    "\n",
    "b_list = a_list[1:3]\n",
    "c_list = a_list[4:]\n",
    "\n",
    "print(b_list)\n",
    "print(c_list)"
   ]
  },
  {
   "cell_type": "code",
   "execution_count": 10,
   "metadata": {},
   "outputs": [
    {
     "output_type": "stream",
     "name": "stdout",
     "text": "Using Slices with stepping...\n[300, 500]\n"
    }
   ],
   "source": [
    "print('Using Slices with stepping...')\n",
    "a_list = [100, 200, 300, 400, 500, 600]\n",
    "b_list = a_list[2:5:2]\n",
    "print(b_list)"
   ]
  },
  {
   "cell_type": "code",
   "execution_count": 11,
   "metadata": {},
   "outputs": [
    {
     "output_type": "stream",
     "name": "stdout",
     "text": "Using Slices but to get a reversed list...\n[300, 200, 100]\n"
    }
   ],
   "source": [
    "print('Using Slices but to get a reversed list...')\n",
    "a_list = [100, 200, 300]\n",
    "rev_list = a_list[::-1]\n",
    "print(rev_list)"
   ]
  },
  {
   "cell_type": "code",
   "execution_count": 13,
   "metadata": {},
   "outputs": [
    {
     "output_type": "stream",
     "name": "stdout",
     "text": "Assigning into slices...\nFinal list:  [10, 707, 777, 50, 60]\n"
    }
   ],
   "source": [
    "print('Assigning into slices...')\n",
    "my_list = [10, 20, 30, 40, 50, 60]\n",
    "my_list [1:4] = [707, 777]\n",
    "print('Final list: ', my_list)"
   ]
  },
  {
   "cell_type": "code",
   "execution_count": 14,
   "metadata": {},
   "outputs": [
    {
     "output_type": "stream",
     "name": "stdout",
     "text": "Using none\nFalse\nFalse\nTrue\nTrue\n"
    }
   ],
   "source": [
    "print('Using none')\n",
    "a = [1, 2, 3]\n",
    "print(None in a)\n",
    "print([] in a)\n",
    "\n",
    "b = [1, 2, 3, [], None]\n",
    "print(None in b)\n",
    "print([] in b)"
   ]
  },
  {
   "cell_type": "markdown",
   "metadata": {},
   "source": [
    "## Using Shallow vs Deep Copying"
   ]
  },
  {
   "cell_type": "code",
   "execution_count": 15,
   "metadata": {},
   "outputs": [
    {
     "output_type": "stream",
     "name": "stdout",
     "text": "Using Shallow versus Deep Copying\n\nb_list:  [0, 0, [0, 0]]\nb_list:  [1, 2, [0, 0]]\n"
    }
   ],
   "source": [
    "print(\"Using Shallow versus Deep Copying\\n\")\n",
    "a_list = [1, 2, [5, 10]]\n",
    "b_list = a_list[:]  # Member-by-member copy\n",
    "\n",
    "b_list[0] = 0\n",
    "b_list[1] = 0\n",
    "b_list[2][0] = 0\n",
    "b_list[2][1] = 0\n",
    "\n",
    "print('b_list: ', b_list)\n",
    "print('b_list: ', a_list)"
   ]
  },
  {
   "cell_type": "code",
   "execution_count": 16,
   "metadata": {},
   "outputs": [
    {
     "output_type": "stream",
     "name": "stdout",
     "text": "Let's do some deep copying...\n\n[1, 2, [5, 10]]\n"
    }
   ],
   "source": [
    "import copy\n",
    "\n",
    "print(\"Let's do some deep copying...\\n\")\n",
    "a_list = [1, 2, [5, 10]]\n",
    "b_list = copy.deepcopy(a_list)  # deep copy\n",
    "print(b_list)"
   ]
  },
  {
   "cell_type": "code",
   "execution_count": null,
   "metadata": {},
   "outputs": [],
   "source": []
  }
 ],
 "metadata": {
  "language_info": {
   "codemirror_mode": {
    "name": "ipython",
    "version": 3
   },
   "file_extension": ".py",
   "mimetype": "text/x-python",
   "name": "python",
   "nbconvert_exporter": "python",
   "pygments_lexer": "ipython3",
   "version": "3.7.7-final"
  },
  "orig_nbformat": 2,
  "kernelspec": {
   "name": "python37764bitsuperchargedpythoncondae839e5ed49a8480faa20190e7570c37b",
   "display_name": "Python 3.7.7 64-bit ('Supercharged_Python': conda)"
  }
 },
 "nbformat": 4,
 "nbformat_minor": 2
}