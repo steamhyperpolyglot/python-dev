{
 "cells": [
  {
   "cell_type": "code",
   "execution_count": 1,
   "metadata": {},
   "outputs": [
    {
     "output_type": "stream",
     "name": "stdout",
     "text": "Before sorting:\n\n[3, 2, 17, 2.5]\n\n\nAfter sorting:\n\n[2, 2.5, 3, 17]\n"
    }
   ],
   "source": [
    "num_list = [3, 2, 17, 2.5]\n",
    "print('Before sorting:\\n')\n",
    "print(num_list)\n",
    "print('\\n')\n",
    "num_list.sort()\n",
    "print('After sorting:\\n')\n",
    "print(num_list)"
   ]
  },
  {
   "cell_type": "code",
   "execution_count": 2,
   "metadata": {},
   "outputs": [
    {
     "output_type": "stream",
     "name": "stdout",
     "text": "[1, 2, 3]\n"
    }
   ],
   "source": [
    "my_list = []        # Must do this before you append!\n",
    "my_list.append(1)\n",
    "my_list.append(2)\n",
    "my_list.append(3)\n",
    "print(my_list)"
   ]
  },
  {
   "cell_type": "code",
   "execution_count": 5,
   "metadata": {},
   "outputs": [
    {
     "output_type": "stream",
     "name": "stdout",
     "text": "[1.0, 9.8, 1.0]\n"
    }
   ],
   "source": [
    "this_scores = [1.0, 1.0, 9.8, 1.0]\n",
    "this_scores.remove(1.0)\n",
    "print(this_scores)"
   ]
  },
  {
   "cell_type": "code",
   "execution_count": 6,
   "metadata": {},
   "outputs": [
    {
     "output_type": "stream",
     "name": "stdout",
     "text": "a_list:  [2, 5, 10] \n\nb_list:  [2, 5, 10] \n\na_list (after appending):  [2, 5, 10, 100, 200, 1] \n\nb_list (after appending):  [2, 5, 10, 100, 200, 1] \n\n"
    }
   ],
   "source": [
    "a_list = [2, 5, 10]\n",
    "b_list = a_list\n",
    "print('a_list: ', a_list, '\\n')\n",
    "print('b_list: ', b_list, '\\n')\n",
    "b_list.append(100)\n",
    "a_list.append(200)\n",
    "b_list.append(1)\n",
    "print('a_list (after appending): ', a_list, '\\n')\n",
    "print('b_list (after appending): ', b_list, '\\n')"
   ]
  },
  {
   "cell_type": "code",
   "execution_count": 1,
   "metadata": {},
   "outputs": [
    {
     "output_type": "stream",
     "name": "stdout",
     "text": "my_list:  [1, 10, 5]\nyr_list:  [1, 10, 5]\n"
    }
   ],
   "source": [
    "# Member by member copy\n",
    "my_list = [1, 10, 5]\n",
    "print('my_list: ', my_list)\n",
    "\n",
    "yr_list = my_list[:]\n",
    "print('yr_list: ', yr_list)"
   ]
  },
  {
   "cell_type": "code",
   "execution_count": 2,
   "metadata": {},
   "outputs": [
    {
     "output_type": "stream",
     "name": "stdout",
     "text": "100\n"
    }
   ],
   "source": [
    "my_list = [100, 500, 1000]\n",
    "print(my_list[0])"
   ]
  },
  {
   "cell_type": "code",
   "execution_count": 3,
   "metadata": {},
   "outputs": [
    {
     "output_type": "stream",
     "name": "stdout",
     "text": "100\n"
    }
   ],
   "source": [
    "# Indexing\n",
    "my_list = [100, 500, 1000]\n",
    "print(my_list[0])"
   ]
  },
  {
   "cell_type": "code",
   "execution_count": 2,
   "metadata": {},
   "outputs": [
    {
     "output_type": "stream",
     "name": "stdout",
     "text": "100\n200\n300\n100\n200\n300\n"
    }
   ],
   "source": [
    "a_list = [100, 200, 300, 400, 500, 600]\n",
    "print(a_list[0])\n",
    "print(a_list[1])\n",
    "print(a_list[2])\n",
    "print(a_list[0], a_list[1], a_list[2], sep='\\n')"
   ]
  },
  {
   "cell_type": "code",
   "execution_count": 4,
   "metadata": {},
   "outputs": [
    {
     "output_type": "stream",
     "name": "stdout",
     "text": "Using negative indexes...\n\n600\n400\n"
    }
   ],
   "source": [
    "# Negative indexes\n",
    "print('Using negative indexes...\\n')\n",
    "\n",
    "a_list = [100, 200, 300, 400, 500, 600]\n",
    "print(a_list[-1])\n",
    "print(a_list[-3])"
   ]
  },
  {
   "cell_type": "code",
   "execution_count": 5,
   "metadata": {},
   "outputs": [
    {
     "output_type": "stream",
     "name": "stdout",
     "text": "Tom\nDick\nJane\n"
    }
   ],
   "source": [
    "# using enumerate\n",
    "a_list = ['Tom', 'Dick', 'Jane']\n",
    "\n",
    "for s in a_list:\n",
    "    print(s)"
   ]
  },
  {
   "cell_type": "code",
   "execution_count": 6,
   "metadata": {},
   "outputs": [
    {
     "output_type": "stream",
     "name": "stdout",
     "text": "Tom\nDick\nJane\n"
    }
   ],
   "source": [
    "# Using a range\n",
    "a_list = ['Tom', 'Dick', 'Jane']\n",
    "for i in range(len(a_list)):\n",
    "    print(a_list[i])"
   ]
  },
  {
   "cell_type": "code",
   "execution_count": 7,
   "metadata": {},
   "outputs": [
    {
     "output_type": "execute_result",
     "data": {
      "text/plain": "[(1, 'Tom'), (2, 'Dick'), (3, 'Jane')]"
     },
     "metadata": {},
     "execution_count": 7
    }
   ],
   "source": [
    "# Using the enumerate() function\n",
    "a_list = ['Tom', 'Dick', 'Jane']\n",
    "list(enumerate(a_list, 1))"
   ]
  },
  {
   "cell_type": "code",
   "execution_count": 8,
   "metadata": {},
   "outputs": [
    {
     "output_type": "stream",
     "name": "stdout",
     "text": "1. Tom\n2. Dick\n3. Jane\n"
    }
   ],
   "source": [
    "# Using enumerate() function with for loop\n",
    "a_list = ['Tom', 'Dick', 'Jane']\n",
    "\n",
    "for item_num, name_str in enumerate(a_list, 1):\n",
    "    print(item_num,  '. ', name_str, sep='')"
   ]
  },
  {
   "cell_type": "markdown",
   "metadata": {},
   "source": [
    "## Working with Slices"
   ]
  },
  {
   "cell_type": "code",
   "execution_count": 9,
   "metadata": {},
   "outputs": [
    {
     "output_type": "stream",
     "name": "stdout",
     "text": "[2, 5]\n[20, 30]\n"
    }
   ],
   "source": [
    "a_list = [1, 2, 5, 10, 20, 30]\n",
    "\n",
    "b_list = a_list[1:3]\n",
    "c_list = a_list[4:]\n",
    "\n",
    "print(b_list)\n",
    "print(c_list)"
   ]
  },
  {
   "cell_type": "code",
   "execution_count": 10,
   "metadata": {},
   "outputs": [
    {
     "output_type": "stream",
     "name": "stdout",
     "text": "Using Slices with stepping...\n[300, 500]\n"
    }
   ],
   "source": [
    "print('Using Slices with stepping...')\n",
    "a_list = [100, 200, 300, 400, 500, 600]\n",
    "b_list = a_list[2:5:2]\n",
    "print(b_list)"
   ]
  },
  {
   "cell_type": "code",
   "execution_count": 11,
   "metadata": {},
   "outputs": [
    {
     "output_type": "stream",
     "name": "stdout",
     "text": "Using Slices but to get a reversed list...\n[300, 200, 100]\n"
    }
   ],
   "source": [
    "print('Using Slices but to get a reversed list...')\n",
    "a_list = [100, 200, 300]\n",
    "rev_list = a_list[::-1]\n",
    "print(rev_list)"
   ]
  },
  {
   "cell_type": "code",
   "execution_count": 13,
   "metadata": {},
   "outputs": [
    {
     "output_type": "stream",
     "name": "stdout",
     "text": "Assigning into slices...\nFinal list:  [10, 707, 777, 50, 60]\n"
    }
   ],
   "source": [
    "print('Assigning into slices...')\n",
    "my_list = [10, 20, 30, 40, 50, 60]\n",
    "my_list [1:4] = [707, 777]\n",
    "print('Final list: ', my_list)"
   ]
  },
  {
   "cell_type": "code",
   "execution_count": 14,
   "metadata": {},
   "outputs": [
    {
     "output_type": "stream",
     "name": "stdout",
     "text": "Using none\nFalse\nFalse\nTrue\nTrue\n"
    }
   ],
   "source": [
    "print('Using none')\n",
    "a = [1, 2, 3]\n",
    "print(None in a)\n",
    "print([] in a)\n",
    "\n",
    "b = [1, 2, 3, [], None]\n",
    "print(None in b)\n",
    "print([] in b)"
   ]
  },
  {
   "cell_type": "markdown",
   "metadata": {},
   "source": [
    "## Using Shallow vs Deep Copying"
   ]
  },
  {
   "cell_type": "code",
   "execution_count": 15,
   "metadata": {},
   "outputs": [
    {
     "output_type": "stream",
     "name": "stdout",
     "text": "Using Shallow versus Deep Copying\n\nb_list:  [0, 0, [0, 0]]\nb_list:  [1, 2, [0, 0]]\n"
    }
   ],
   "source": [
    "print(\"Using Shallow versus Deep Copying\\n\")\n",
    "a_list = [1, 2, [5, 10]]\n",
    "b_list = a_list[:]  # Member-by-member copy\n",
    "\n",
    "b_list[0] = 0\n",
    "b_list[1] = 0\n",
    "b_list[2][0] = 0\n",
    "b_list[2][1] = 0\n",
    "\n",
    "print('b_list: ', b_list)\n",
    "print('b_list: ', a_list)"
   ]
  },
  {
   "cell_type": "code",
   "execution_count": 16,
   "metadata": {},
   "outputs": [
    {
     "output_type": "stream",
     "name": "stdout",
     "text": "Let's do some deep copying...\n\n[1, 2, [5, 10]]\n"
    }
   ],
   "source": [
    "import copy\n",
    "\n",
    "print(\"Let's do some deep copying...\\n\")\n",
    "a_list = [1, 2, [5, 10]]\n",
    "b_list = copy.deepcopy(a_list)  # deep copy\n",
    "print(b_list)"
   ]
  },
  {
   "cell_type": "code",
   "execution_count": 1,
   "metadata": {},
   "outputs": [
    {
     "output_type": "stream",
     "name": "stdout",
     "text": "Length of the list is 4\nMax and min are 120 -5\n"
    }
   ],
   "source": [
    "a_list = [100, -3, -5, 120]\n",
    "print('Length of the list is', len(a_list))\n",
    "print('Max and min are', max(a_list), min(a_list))"
   ]
  },
  {
   "cell_type": "code",
   "execution_count": 2,
   "metadata": {},
   "outputs": [
    {
     "output_type": "stream",
     "name": "stdout",
     "text": "a_tup (before sorting) : (30, 55, 15, 45)\na_tup (after sorting) : [15, 30, 45, 55]\n"
    }
   ],
   "source": [
    "# Sorting a tuple\n",
    "a_tup = (30, 55, 15, 45)\n",
    "print('a_tup (before sorting) :', a_tup)\n",
    "print('a_tup (after sorting) :', sorted(a_tup))"
   ]
  },
  {
   "cell_type": "code",
   "execution_count": 3,
   "metadata": {},
   "outputs": [
    {
     "output_type": "stream",
     "name": "stdout",
     "text": "0 5 3 1"
    }
   ],
   "source": [
    "# Reversing a tuple\n",
    "a_tup = (1, 3, 5, 0)\n",
    "for i in reversed(a_tup):\n",
    "    print(i, end=' ')"
   ]
  },
  {
   "cell_type": "code",
   "execution_count": 4,
   "metadata": {},
   "outputs": [
    {
     "output_type": "stream",
     "name": "stdout",
     "text": "(0, 5, 3, 1)\n"
    }
   ],
   "source": [
    "# Another one liner to do it\n",
    "a_tup = (1, 3, 5, 0)\n",
    "print(tuple(reversed(a_tup)))"
   ]
  },
  {
   "cell_type": "code",
   "execution_count": 5,
   "metadata": {},
   "outputs": [
    {
     "output_type": "stream",
     "name": "stdout",
     "text": "The average is  26.56857142857143\n"
    }
   ],
   "source": [
    "# Using the sum function\n",
    "num_list = [2.45, 1, -10, 55.5, 100.03, 40, -3]\n",
    "print('The average is ', sum(num_list) / len(num_list))"
   ]
  },
  {
   "cell_type": "code",
   "execution_count": 6,
   "metadata": {},
   "outputs": [
    {
     "output_type": "stream",
     "name": "stdout",
     "text": "[10, 20, 30, 40]\n[10, 20, 30, 40, 33]\n[44, 10, 20, 30, 40, 33]\n"
    }
   ],
   "source": [
    "a_list = [10, 20, 40]\n",
    "a_list.insert(2, 30)    # At index 2 (third), insert 30\n",
    "print(a_list)\n",
    "a_list.insert(100, 33)\n",
    "print(a_list)\n",
    "a_list.insert(-100, 44)\n",
    "print(a_list)"
   ]
  },
  {
   "cell_type": "code",
   "execution_count": 7,
   "metadata": {},
   "outputs": [
    {
     "output_type": "stream",
     "name": "stdout",
     "text": "Before removing item:\n[15, 25, 15, 25]\n\nBefore removing item:\n[15, 15, 25]\n"
    }
   ],
   "source": [
    "my_list = [15, 25, 15, 25]\n",
    "print('Before removing item:')\n",
    "print(my_list)\n",
    "my_list.remove(25)\n",
    "print('\\nBefore removing item:')\n",
    "print(my_list)"
   ]
  },
  {
   "cell_type": "code",
   "execution_count": 8,
   "metadata": {},
   "outputs": [
    {
     "output_type": "stream",
     "name": "stdout",
     "text": "8.675\n"
    }
   ],
   "source": [
    "def eval_scores(a_list):\n",
    "    a_list.remove(max(a_list))\n",
    "    a_list.remove(min(a_list))\n",
    "    return sum(a_list) / len(a_list)\n",
    "\n",
    "the_scores = [8.5, 6.0, 8.5, 8.7, 9.9, 9.0]\n",
    "print(eval_scores(the_scores))"
   ]
  },
  {
   "cell_type": "code",
   "execution_count": 9,
   "metadata": {},
   "outputs": [
    {
     "output_type": "stream",
     "name": "stdout",
     "text": "3\n1\n0\n1\n"
    }
   ],
   "source": [
    "yr_list = [1, 2, 1, 1, [3, 4]]\n",
    "print(yr_list.count(1))\n",
    "print(yr_list.count(2))\n",
    "print(yr_list.count(3))\n",
    "print(yr_list.count([3, 4]))"
   ]
  },
  {
   "cell_type": "code",
   "execution_count": 10,
   "metadata": {},
   "outputs": [
    {
     "output_type": "stream",
     "name": "stdout",
     "text": "3\n"
    }
   ],
   "source": [
    "beat_list = ['John', 'Paul', 'George', 'Ringo']\n",
    "print(beat_list.index('Ringo'))"
   ]
  },
  {
   "cell_type": "code",
   "execution_count": 12,
   "metadata": {},
   "outputs": [
    {
     "output_type": "stream",
     "name": "stdout",
     "text": "Here is the sorted list:\n"
    }
   ],
   "source": [
    "# List methods: Reorganizing\n",
    "def main():\n",
    "    my_list = []    # Start with empty list\n",
    "    while True:\n",
    "        s = input('Enter next name: ')\n",
    "        if len(s) == 0:\n",
    "            break\n",
    "        my_list.append(s)\n",
    "    my_list.sort()  # Place all elems in order.\n",
    "    print('Here is the sorted list:')\n",
    "    for a_word in my_list:\n",
    "        print(a_word, end=' ')\n",
    "\n",
    "main()"
   ]
  },
  {
   "cell_type": "code",
   "execution_count": 1,
   "metadata": {},
   "outputs": [
    {
     "output_type": "stream",
     "name": "stdout",
     "text": "a_list (before sorting): ['john', 'paul', 'George', 'brain', 'Ringo']\nb_list (before sorting): ['brain', 'George', 'john', 'paul', 'Ringo']\n"
    }
   ],
   "source": [
    "# Sorting while ignoring case-sensitivity\n",
    "def ignore_case(s):\n",
    "    return s.casefold()\n",
    "\n",
    "a_list = ['john', 'paul', 'George', 'brain', 'Ringo']\n",
    "b_list = a_list[:]\n",
    "print('a_list (before sorting):', a_list)\n",
    "a_list.sort()\n",
    "b_list.sort(key=ignore_case)\n",
    "print('b_list (before sorting):', b_list)"
   ]
  },
  {
   "cell_type": "code",
   "execution_count": 2,
   "metadata": {},
   "outputs": [
    {
     "output_type": "stream",
     "name": "stdout",
     "text": "Ringo George Paul John Brain"
    }
   ],
   "source": [
    "my_list = ['Brain', 'John', 'Paul', 'George', 'Ringo']\n",
    "my_list.reverse()   # Reverse elems in place.\n",
    "for a_word in my_list:\n",
    "    print(a_word, end=' ')"
   ]
  },
  {
   "cell_type": "code",
   "execution_count": 2,
   "metadata": {},
   "outputs": [
    {
     "output_type": "stream",
     "name": "stdout",
     "text": "triangle_num: 15\nfact_num: 120\n"
    }
   ],
   "source": [
    "import functools\n",
    "\n",
    "def add_func(a, b):\n",
    "    return a + b\n",
    "\n",
    "def mul_func(a, b):\n",
    "    return a * b\n",
    "\n",
    "n = 5\n",
    "a_list = list(range(1, n + 1))\n",
    "\n",
    "triangle_num = functools.reduce(add_func, a_list)\n",
    "fact_num = functools.reduce(mul_func, a_list)\n",
    "print('triangle_num:', triangle_num)\n",
    "print('fact_num:', fact_num)"
   ]
  },
  {
   "cell_type": "code",
   "execution_count": 3,
   "metadata": {},
   "outputs": [
    {
     "output_type": "stream",
     "name": "stdout",
     "text": "10\n25\n"
    }
   ],
   "source": [
    "# Lambda functions\n",
    "my_f = lambda x, y: x + y\n",
    "\n",
    "sum1 = my_f(3, 7)\n",
    "print(sum1)\n",
    "sum2 = my_f(10, 15)\n",
    "print(sum2)"
   ]
  },
  {
   "cell_type": "code",
   "execution_count": 4,
   "metadata": {},
   "outputs": [
    {
     "output_type": "stream",
     "name": "stdout",
     "text": "[0, 0, 0, 0, 1, 2, 0, 2, 4]\n"
    }
   ],
   "source": [
    "mult_list = []\n",
    "for i in range(3):\n",
    "    for j in range(3):\n",
    "        mult_list.append(i * j)\n",
    "\n",
    "print(mult_list)"
   ]
  },
  {
   "cell_type": "code",
   "execution_count": 5,
   "metadata": {},
   "outputs": [
    {
     "output_type": "stream",
     "name": "stdout",
     "text": "[0, 0, 0, 0, 1, 2, 0, 2, 4]\n"
    }
   ],
   "source": [
    "mult_list = [i * j for i in range(3) for j in range(3)]\n",
    "print(mult_list)"
   ]
  },
  {
   "cell_type": "code",
   "execution_count": 7,
   "metadata": {},
   "outputs": [
    {
     "output_type": "stream",
     "name": "stdout",
     "text": "[10, 12, 13, 15]\n"
    }
   ],
   "source": [
    "my_list = [10, -10, -1, 12, -500, 13, 15, -3]\n",
    "\n",
    "new_list = []\n",
    "for i in my_list:\n",
    "    if i > 0:\n",
    "        new_list.append(i)\n",
    "\n",
    "print(new_list)"
   ]
  },
  {
   "cell_type": "code",
   "execution_count": 8,
   "metadata": {},
   "outputs": [
    {
     "output_type": "stream",
     "name": "stdout",
     "text": "{2, 5}\n"
    }
   ],
   "source": [
    "a_list = [5, 5, 5, -20, 2, -1, 2]\n",
    "my_set = set()\n",
    "for i in a_list:\n",
    "    if i > 0:\n",
    "        my_set.add(i)\n",
    "\n",
    "print(my_set)"
   ]
  },
  {
   "cell_type": "code",
   "execution_count": 9,
   "metadata": {},
   "outputs": [
    {
     "output_type": "stream",
     "name": "stdout",
     "text": "[100, 200, 150]\n"
    }
   ],
   "source": [
    "def set_list_vals(list_arg):\n",
    "    list_arg[0] = 100\n",
    "    list_arg[1] = 200\n",
    "    list_arg[2] = 150\n",
    "\n",
    "a_list = [0, 0, 0]\n",
    "set_list_vals(a_list)\n",
    "print(a_list)"
   ]
  },
  {
   "cell_type": "markdown",
   "metadata": {},
   "source": [
    "## Multi-dimensional List"
   ]
  },
  {
   "cell_type": "code",
   "execution_count": 10,
   "metadata": {},
   "outputs": [
    {
     "output_type": "stream",
     "name": "stdout",
     "text": "[[10, 11, 21], [20, 21, 22], [25, 15, 15]]\n"
    }
   ],
   "source": [
    "mat = [[10, 11, 21], [20, 21, 22], [25, 15, 15]]\n",
    "print(mat)"
   ]
  },
  {
   "cell_type": "code",
   "execution_count": 11,
   "metadata": {},
   "outputs": [
    {
     "output_type": "stream",
     "name": "stdout",
     "text": "3\n4\n2\n3\n"
    }
   ],
   "source": [
    "weird_mat = [[1, 2, 3, 4], [0, 5], [9, 8, 3]]\n",
    "print(len(weird_mat))\n",
    "\n",
    "print(len(weird_mat[0]))\n",
    "print(len(weird_mat[1]))\n",
    "print(len(weird_mat[2]))"
   ]
  },
  {
   "cell_type": "code",
   "execution_count": 12,
   "metadata": {},
   "outputs": [
    {
     "output_type": "stream",
     "name": "stdout",
     "text": "I am Hen-er-y the Eighth,I am!\n"
    }
   ],
   "source": [
    "my_str = 'I am Hen-er-y the Eighth,' 'I am!'\n",
    "print(my_str)"
   ]
  },
  {
   "cell_type": "code",
   "execution_count": 13,
   "metadata": {},
   "outputs": [
    {
     "output_type": "stream",
     "name": "stdout",
     "text": "John\nPaul\nGeorge\nRingo\n"
    }
   ],
   "source": [
    "beat_list = ['John', 'Paul', 'George', 'Ringo']\n",
    "for i in range(len(beat_list)):\n",
    "    print(beat_list[i])"
   ]
  },
  {
   "cell_type": "code",
   "execution_count": 14,
   "metadata": {},
   "outputs": [
    {
     "output_type": "stream",
     "name": "stdout",
     "text": "1. John\n2. Paul\n3. George\n4. Ringo\n"
    }
   ],
   "source": [
    "beat_list = ['John', 'Paul', 'George', 'Ringo']\n",
    "for i, name in enumerate(beat_list, 1):\n",
    "    print(i, '. ', name, sep='')"
   ]
  },
  {
   "cell_type": "code",
   "execution_count": 15,
   "metadata": {},
   "outputs": [
    {
     "output_type": "stream",
     "name": "stdout",
     "text": "s1: A string....with more stuff!\ns2: A string.\n"
    }
   ],
   "source": [
    "s1 = s2 = 'A string.'\n",
    "s1 += '...with more stuff!'\n",
    "print('s1:', s1)\n",
    "print('s2:', s2)"
   ]
  },
  {
   "cell_type": "code",
   "execution_count": 16,
   "metadata": {},
   "outputs": [
    {
     "output_type": "stream",
     "name": "stdout",
     "text": "a_list: [10, 20, 30, 40]\nb_list: [10, 20, 30, 40]\n"
    }
   ],
   "source": [
    "a_list = b_list = [10, 20]\n",
    "a_list += [30, 40]\n",
    "print('a_list:', a_list)\n",
    "print('b_list:', b_list)"
   ]
  },
  {
   "cell_type": "code",
   "execution_count": 17,
   "metadata": {},
   "outputs": [
    {
     "output_type": "stream",
     "name": "stdout",
     "text": "abcdefghijklmnopqrstuvwxyz\n"
    }
   ],
   "source": [
    "str_list = []\n",
    "n = ord('a')\n",
    "for i in range(n, n + 26):\n",
    "    str_list += chr(i)\n",
    "alphabet_str = ''.join(str_list)\n",
    "print(alphabet_str)"
   ]
  },
  {
   "cell_type": "code",
   "execution_count": 18,
   "metadata": {},
   "outputs": [
    {
     "output_type": "stream",
     "name": "stdout",
     "text": "10 20 30\n"
    }
   ],
   "source": [
    "tup = 10, 20, 30\n",
    "a, b, c = tup\n",
    "print(a, b, c)"
   ]
  },
  {
   "cell_type": "code",
   "execution_count": 19,
   "metadata": {},
   "outputs": [
    {
     "output_type": "stream",
     "name": "stdout",
     "text": "100\n200\n[300, 400, 500, 600]\n"
    }
   ],
   "source": [
    "big, bigger, *many = 100, 200, 300, 400, 500, 600\n",
    "print(big, bigger, many, sep='\\n')"
   ]
  },
  {
   "cell_type": "code",
   "execution_count": 21,
   "metadata": {},
   "outputs": [
    {
     "output_type": "stream",
     "name": "stdout",
     "text": "10\n"
    }
   ],
   "source": [
    "# Return multiple values\n",
    "def double_me(n):\n",
    "    return n * 2\n",
    "\n",
    "a = 10\n",
    "double_me(a)\n",
    "print(a)"
   ]
  },
  {
   "cell_type": "code",
   "execution_count": 22,
   "metadata": {},
   "outputs": [
    {
     "output_type": "stream",
     "name": "stdout",
     "text": "x1:  1.618033988749895\nx2:  -0.6180339887498949\n"
    }
   ],
   "source": [
    "# Using a quadratic equation\n",
    "def quad(a, b, c):\n",
    "    determin = (b * b - 4 * a * c) ** .5\n",
    "    x1 = (-b + determin) / (2 * a)\n",
    "    x2 = (-b - determin) / (2 * a)\n",
    "    return x1, x2\n",
    "\n",
    "x1, x2 = quad(1, -1, -1)\n",
    "print('x1: ', x1)\n",
    "print('x2: ', x2)"
   ]
  },
  {
   "cell_type": "code",
   "execution_count": 23,
   "metadata": {},
   "outputs": [
    {
     "output_type": "stream",
     "name": "stdout",
     "text": "No divisor found\n7 divides evenly into 49\n"
    }
   ],
   "source": [
    "def find_divisor(n, max):\n",
    "    for i in range(2, max + 1):\n",
    "        if n % i == 0:\n",
    "            print(i, 'divides evenly into', n)\n",
    "            break\n",
    "    else:\n",
    "        print('No divisor found')\n",
    "\n",
    "find_divisor(49, 6)\n",
    "find_divisor(49, 7)"
   ]
  },
  {
   "cell_type": "code",
   "execution_count": 24,
   "metadata": {},
   "outputs": [
    {
     "output_type": "stream",
     "name": "stdout",
     "text": "True\n"
    }
   ],
   "source": [
    "test_str = input('Enter test string: ')\n",
    "a_list = [c.upper() for c in test_str if c.isalnum()]\n",
    "print(a_list == a_list[::-1])"
   ]
  },
  {
   "cell_type": "code",
   "execution_count": 25,
   "metadata": {},
   "outputs": [
    {
     "output_type": "stream",
     "name": "stdout",
     "text": "True\nFalse\n"
    }
   ],
   "source": [
    "s1 = 'I am what I am and that is all that I am.'\n",
    "s2 = 'I am what I am' + ' and that is all that I am.'\n",
    "print(s1 == s2)\n",
    "print(s1 is s2)"
   ]
  },
  {
   "cell_type": "code",
   "execution_count": 26,
   "metadata": {},
   "outputs": [
    {
     "output_type": "stream",
     "name": "stdout",
     "text": "5 7 9 11 13"
    }
   ],
   "source": [
    "for i in range(5):\n",
    "    n = i * 2\n",
    "    m = 5\n",
    "    print(n + m, end=' ')"
   ]
  },
  {
   "cell_type": "code",
   "execution_count": 27,
   "metadata": {},
   "outputs": [
    {
     "output_type": "stream",
     "name": "stdout",
     "text": "Help on module enum:\n\nNAME\n    enum\n\nMODULE REFERENCE\n    https://docs.python.org/3.7/library/enum\n    \n    The following documentation is automatically generated from the Python\n    source files.  It may be incomplete, incorrect or include features that\n    are considered implementation detail and may vary between Python\n    implementations.  When in doubt, consult the module reference at the\n    location listed above.\n\nCLASSES\n    builtins.int(builtins.object)\n        IntEnum(builtins.int, Enum)\n        IntFlag(builtins.int, Flag)\n    builtins.object\n        Enum\n            Flag\n                IntFlag(builtins.int, Flag)\n            IntEnum(builtins.int, Enum)\n        auto\n    builtins.type(builtins.object)\n        EnumMeta\n    \n    class Enum(builtins.object)\n     |  Enum(value, names=None, *, module=None, qualname=None, type=None, start=1)\n     |  \n     |  Generic enumeration.\n     |  \n     |  Derive from this class to define new enumerations.\n     |  \n     |  Data descriptors defined here:\n     |  \n     |  name\n     |      The name of the Enum member.\n     |  \n     |  value\n     |      The value of the Enum member.\n     |  \n     |  ----------------------------------------------------------------------\n     |  Data descriptors inherited from EnumMeta:\n     |  \n     |  __members__\n     |      Returns a mapping of member name->value.\n     |      \n     |      This mapping lists all enum members, including aliases. Note that this\n     |      is a read-only view of the internal mapping.\n    \n    class EnumMeta(builtins.type)\n     |  EnumMeta(cls, bases, classdict)\n     |  \n     |  Metaclass for Enum\n     |  \n     |  Method resolution order:\n     |      EnumMeta\n     |      builtins.type\n     |      builtins.object\n     |  \n     |  Methods defined here:\n     |  \n     |  __bool__(self)\n     |      classes/types should always be True.\n     |  \n     |  __call__(cls, value, names=None, *, module=None, qualname=None, type=None, start=1)\n     |      Either returns an existing member, or creates a new enum class.\n     |      \n     |      This method is used both when an enum class is given a value to match\n     |      to an enumeration member (i.e. Color(3)) and for the functional API\n     |      (i.e. Color = Enum('Color', names='RED GREEN BLUE')).\n     |      \n     |      When used for the functional API:\n     |      \n     |      `value` will be the name of the new class.\n     |      \n     |      `names` should be either a string of white-space/comma delimited names\n     |      (values will start at `start`), or an iterator/mapping of name, value pairs.\n     |      \n     |      `module` should be set to the module this class is being created in;\n     |      if it is not set, an attempt to find that module will be made, but if\n     |      it fails the class will not be picklable.\n     |      \n     |      `qualname` should be set to the actual location this class can be found\n     |      at in its module; by default it is set to the global scope.  If this is\n     |      not correct, unpickling will fail in some circumstances.\n     |      \n     |      `type`, if set, will be mixed in as the first base class.\n     |  \n     |  __contains__(cls, member)\n     |  \n     |  __delattr__(cls, attr)\n     |      Implement delattr(self, name).\n     |  \n     |  __dir__(self)\n     |      Specialized __dir__ implementation for types.\n     |  \n     |  __getattr__(cls, name)\n     |      Return the enum member matching `name`\n     |      \n     |      We use __getattr__ instead of descriptors or inserting into the enum\n     |      class' __dict__ in order to support `name` and `value` being both\n     |      properties for enum members (which live in the class' __dict__) and\n     |      enum members themselves.\n     |  \n     |  __getitem__(cls, name)\n     |  \n     |  __iter__(cls)\n     |  \n     |  __len__(cls)\n     |  \n     |  __repr__(cls)\n     |      Return repr(self).\n     |  \n     |  __reversed__(cls)\n     |  \n     |  __setattr__(cls, name, value)\n     |      Block attempts to reassign Enum members.\n     |      \n     |      A simple assignment to the class namespace only changes one of the\n     |      several possible ways to get an Enum member from the Enum class,\n     |      resulting in an inconsistent Enumeration.\n     |  \n     |  ----------------------------------------------------------------------\n     |  Class methods defined here:\n     |  \n     |  __prepare__(cls, bases) from builtins.type\n     |      __prepare__() -> dict\n     |      used to create the namespace for the class statement\n     |  \n     |  ----------------------------------------------------------------------\n     |  Static methods defined here:\n     |  \n     |  __new__(metacls, cls, bases, classdict)\n     |      Create and return a new object.  See help(type) for accurate signature.\n     |  \n     |  ----------------------------------------------------------------------\n     |  Data descriptors defined here:\n     |  \n     |  __members__\n     |      Returns a mapping of member name->value.\n     |      \n     |      This mapping lists all enum members, including aliases. Note that this\n     |      is a read-only view of the internal mapping.\n     |  \n     |  ----------------------------------------------------------------------\n     |  Methods inherited from builtins.type:\n     |  \n     |  __getattribute__(self, name, /)\n     |      Return getattr(self, name).\n     |  \n     |  __init__(self, /, *args, **kwargs)\n     |      Initialize self.  See help(type(self)) for accurate signature.\n     |  \n     |  __instancecheck__(self, instance, /)\n     |      Check if an object is an instance.\n     |  \n     |  __sizeof__(self, /)\n     |      Return memory consumption of the type object.\n     |  \n     |  __subclasscheck__(self, subclass, /)\n     |      Check if a class is a subclass.\n     |  \n     |  __subclasses__(self, /)\n     |      Return a list of immediate subclasses.\n     |  \n     |  mro(self, /)\n     |      Return a type's method resolution order.\n     |  \n     |  ----------------------------------------------------------------------\n     |  Data descriptors inherited from builtins.type:\n     |  \n     |  __abstractmethods__\n     |  \n     |  __dict__\n     |  \n     |  __text_signature__\n     |  \n     |  ----------------------------------------------------------------------\n     |  Data and other attributes inherited from builtins.type:\n     |  \n     |  __base__ = <class 'type'>\n     |      type(object_or_name, bases, dict)\n     |      type(object) -> the object's type\n     |      type(name, bases, dict) -> a new type\n     |  \n     |  __bases__ = (<class 'type'>,)\n     |  \n     |  __basicsize__ = 864\n     |  \n     |  __dictoffset__ = 264\n     |  \n     |  __flags__ = 2148292097\n     |  \n     |  __itemsize__ = 40\n     |  \n     |  __mro__ = (<class 'enum.EnumMeta'>, <class 'type'>, <class 'object'>)\n     |  \n     |  __weakrefoffset__ = 368\n    \n    class Flag(Enum)\n     |  Flag(value, names=None, *, module=None, qualname=None, type=None, start=1)\n     |  \n     |  Support for flags\n     |  \n     |  Method resolution order:\n     |      Flag\n     |      Enum\n     |      builtins.object\n     |  \n     |  Data descriptors inherited from Enum:\n     |  \n     |  name\n     |      The name of the Enum member.\n     |  \n     |  value\n     |      The value of the Enum member.\n     |  \n     |  ----------------------------------------------------------------------\n     |  Data descriptors inherited from EnumMeta:\n     |  \n     |  __members__\n     |      Returns a mapping of member name->value.\n     |      \n     |      This mapping lists all enum members, including aliases. Note that this\n     |      is a read-only view of the internal mapping.\n    \n    class IntEnum(builtins.int, Enum)\n     |  IntEnum(value, names=None, *, module=None, qualname=None, type=None, start=1)\n     |  \n     |  Enum where members are also (and must be) ints\n     |  \n     |  Method resolution order:\n     |      IntEnum\n     |      builtins.int\n     |      Enum\n     |      builtins.object\n     |  \n     |  Data descriptors inherited from Enum:\n     |  \n     |  name\n     |      The name of the Enum member.\n     |  \n     |  value\n     |      The value of the Enum member.\n     |  \n     |  ----------------------------------------------------------------------\n     |  Data descriptors inherited from EnumMeta:\n     |  \n     |  __members__\n     |      Returns a mapping of member name->value.\n     |      \n     |      This mapping lists all enum members, including aliases. Note that this\n     |      is a read-only view of the internal mapping.\n    \n    class IntFlag(builtins.int, Flag)\n     |  IntFlag(value, names=None, *, module=None, qualname=None, type=None, start=1)\n     |  \n     |  Support for integer-based Flags\n     |  \n     |  Method resolution order:\n     |      IntFlag\n     |      builtins.int\n     |      Flag\n     |      Enum\n     |      builtins.object\n     |  \n     |  Data descriptors inherited from Enum:\n     |  \n     |  name\n     |      The name of the Enum member.\n     |  \n     |  value\n     |      The value of the Enum member.\n     |  \n     |  ----------------------------------------------------------------------\n     |  Data descriptors inherited from EnumMeta:\n     |  \n     |  __members__\n     |      Returns a mapping of member name->value.\n     |      \n     |      This mapping lists all enum members, including aliases. Note that this\n     |      is a read-only view of the internal mapping.\n    \n    class auto(builtins.object)\n     |  Instances are replaced with an appropriate value in Enum class suites.\n     |  \n     |  Data descriptors defined here:\n     |  \n     |  __dict__\n     |      dictionary for instance variables (if defined)\n     |  \n     |  __weakref__\n     |      list of weak references to the object (if defined)\n     |  \n     |  ----------------------------------------------------------------------\n     |  Data and other attributes defined here:\n     |  \n     |  value = <object object>\n\nFUNCTIONS\n    unique(enumeration)\n        Class decorator for enumerations ensuring unique member values.\n\nDATA\n    __all__ = ['EnumMeta', 'Enum', 'IntEnum', 'Flag', 'IntFlag', 'auto', '...\n\nFILE\n    /usr/lib/python3.7/enum.py\n\n\n"
    }
   ],
   "source": [
    "import enum\n",
    "help(enum)"
   ]
  },
  {
   "cell_type": "code",
   "execution_count": 28,
   "metadata": {},
   "outputs": [
    {
     "output_type": "stream",
     "name": "stdout",
     "text": "****************************************\n****************************************\n****************************************\n****************************************\n****************************************\n****************************************\n****************************************\n****************************************\n****************************************\n****************************************\n****************************************\n****************************************\n****************************************\n****************************************\n****************************************\n****************************************\n****************************************\n****************************************\n****************************************\n****************************************\n"
    }
   ],
   "source": [
    "for i in range(20):\n",
    "    for j in range(40):\n",
    "        print('*', end='')\n",
    "    print()"
   ]
  },
  {
   "cell_type": "code",
   "execution_count": 29,
   "metadata": {},
   "outputs": [
    {
     "output_type": "stream",
     "name": "stdout",
     "text": "****************************************\n****************************************\n****************************************\n****************************************\n****************************************\n****************************************\n****************************************\n****************************************\n****************************************\n****************************************\n****************************************\n****************************************\n****************************************\n****************************************\n****************************************\n****************************************\n****************************************\n****************************************\n****************************************\n****************************************\n"
    }
   ],
   "source": [
    "row_of_asterisks = '*' * 40\n",
    "for i in range(20):\n",
    "    print(row_of_asterisks)"
   ]
  },
  {
   "cell_type": "code",
   "execution_count": 30,
   "metadata": {},
   "outputs": [
    {
     "output_type": "stream",
     "name": "stdout",
     "text": "****************************************\n****************************************\n****************************************\n****************************************\n****************************************\n****************************************\n****************************************\n****************************************\n****************************************\n****************************************\n****************************************\n****************************************\n****************************************\n****************************************\n****************************************\n****************************************\n****************************************\n****************************************\n****************************************\n****************************************\n"
    }
   ],
   "source": [
    "row_of_asterisks = '*' * 40\n",
    "list_of_str = []\n",
    "for i in range(20):\n",
    "    list_of_str.append(row_of_asterisks)\n",
    "print('\\n'.join(list_of_str))"
   ]
  },
  {
   "cell_type": "code",
   "execution_count": 31,
   "metadata": {},
   "outputs": [
    {
     "output_type": "stream",
     "name": "stdout",
     "text": "****************************************\n****************************************\n****************************************\n****************************************\n****************************************\n****************************************\n****************************************\n****************************************\n****************************************\n****************************************\n****************************************\n****************************************\n****************************************\n****************************************\n****************************************\n****************************************\n****************************************\n****************************************\n****************************************\n****************************************\n"
    }
   ],
   "source": [
    "print('\\n'.join(['*' * 40] * 20))"
   ]
  },
  {
   "cell_type": "code",
   "execution_count": null,
   "metadata": {},
   "outputs": [],
   "source": []
  }
 ],
 "metadata": {
  "language_info": {
   "codemirror_mode": {
    "name": "ipython",
    "version": 3
   },
   "file_extension": ".py",
   "mimetype": "text/x-python",
   "name": "python",
   "nbconvert_exporter": "python",
   "pygments_lexer": "ipython3",
   "version": "3.7.5-final"
  },
  "orig_nbformat": 2,
  "kernelspec": {
   "name": "python37564bit8a846704e98245bebe55c2ae2e5fd7e5",
   "display_name": "Python 3.7.5 64-bit"
  }
 },
 "nbformat": 4,
 "nbformat_minor": 2
}