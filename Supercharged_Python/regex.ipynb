{
 "cells": [
  {
   "cell_type": "code",
   "execution_count": 2,
   "metadata": {},
   "outputs": [
    {
     "output_type": "stream",
     "name": "stdout",
     "text": "Number accepted.\n"
    }
   ],
   "source": [
    "import re\n",
    "pattern = r'\\d\\d\\d\\d[ -]\\d\\d\\d\\d'\n",
    "\n",
    "s = input('Enter tel. number: ')\n",
    "if re.fullmatch(pattern, s):\n",
    "    print('Number accepted.')\n",
    "else:\n",
    "    print('Incorrect format')"
   ]
  },
  {
   "cell_type": "code",
   "execution_count": 3,
   "metadata": {},
   "outputs": [
    {
     "output_type": "stream",
     "name": "stdout",
     "text": "caab is a match.\ncaaxxb is not a match!\n"
    }
   ],
   "source": [
    "reg1 = re.compile(r'ca*b$')     # Compile the pattern!\n",
    "\n",
    "def test_item(s):\n",
    "    if re.match(reg1, s):\n",
    "        print(s, 'is a match.')\n",
    "    else:\n",
    "        print(s, 'is not a match!')\n",
    "\n",
    "test_item('caab')\n",
    "test_item('caaxxb')"
   ]
  },
  {
   "cell_type": "code",
   "execution_count": 5,
   "metadata": {},
   "outputs": [
    {
     "output_type": "stream",
     "name": "stdout",
     "text": "MAX_REPEAT 0 MAXREPEAT\n  LITERAL 109\nLITERAL 97\nLITERAL 99\nLITERAL 107\n\n 0. INFO 4 0b0 3 MAXREPEAT (to 5)\n 5: REPEAT_ONE 6 0 MAXREPEAT (to 12)\n 9.   LITERAL_UNI_IGNORE 0x6d ('m')\n11.   SUCCESS\n12: LITERAL_UNI_IGNORE 0x61 ('a')\n14. LITERAL_UNI_IGNORE 0x63 ('c')\n16. LITERAL_UNI_IGNORE 0x6b ('k')\n18. SUCCESS\nSuccess.\n"
    }
   ],
   "source": [
    "if re.match('m*ack', 'Mack the Knife', re.I | re.DEBUG):\n",
    "    print('Success.')"
   ]
  },
  {
   "cell_type": "code",
   "execution_count": 7,
   "metadata": {},
   "outputs": [
    {
     "output_type": "stream",
     "name": "stdout",
     "text": "Success!\n"
    }
   ],
   "source": [
    "import re\n",
    "if re.match(r'[+*^/-]', '^'):\n",
    "    print('Success!')"
   ]
  },
  {
   "cell_type": "code",
   "execution_count": 8,
   "metadata": {},
   "outputs": [
    {
     "output_type": "stream",
     "name": "stdout",
     "text": "Success!\n"
    }
   ],
   "source": [
    "pat = r'c.*t'\n",
    "if re.match(pat, 'cat'):\n",
    "    print('Success!')"
   ]
  },
  {
   "cell_type": "code",
   "execution_count": 9,
   "metadata": {},
   "outputs": [
    {
     "output_type": "stream",
     "name": "stdout",
     "text": "abbccc\na\nbb\nccc\n"
    }
   ],
   "source": [
    "pat = r'(a+)(b+)(c+)'\n",
    "m = re.match(pat, 'abbcccee')\n",
    "print(m.group(0))\n",
    "print(m.group(1))\n",
    "print(m.group(2))\n",
    "print(m.group(3))"
   ]
  },
  {
   "cell_type": "code",
   "execution_count": 10,
   "metadata": {},
   "outputs": [
    {
     "output_type": "stream",
     "name": "stdout",
     "text": "0. abbccc\n1. a\n2. bb\n3. ccc\n"
    }
   ],
   "source": [
    "m = re.match(pat, 'abbcccee')\n",
    "for i in range(m.lastindex + 1):\n",
    "    print(i, '. ', m.group(i), sep='')"
   ]
  },
  {
   "cell_type": "code",
   "execution_count": 11,
   "metadata": {},
   "outputs": [
    {
     "output_type": "stream",
     "name": "stdout",
     "text": "\"23\" found at (9, 11)\n"
    }
   ],
   "source": [
    "# Searching a string for pattern.\n",
    "m = re.search(r'\\d{2}', '1 set of 23 owls, 99 doves.')\n",
    "print('\"', m.group(), '\" found at ', m.span(), sep='')"
   ]
  },
  {
   "cell_type": "code",
   "execution_count": 13,
   "metadata": {},
   "outputs": [
    {
     "output_type": "stream",
     "name": "stdout",
     "text": "['1', '23', '999']\n"
    }
   ],
   "source": [
    "s = '1 set of 23 owls, 999 doves.'\n",
    "print(re.findall(r'\\d+', s))"
   ]
  },
  {
   "cell_type": "code",
   "execution_count": 14,
   "metadata": {},
   "outputs": [
    {
     "output_type": "stream",
     "name": "stdout",
     "text": "['1,000.5', '3', '2,000']\n"
    }
   ],
   "source": [
    "# Detecting numbers of with commas and period.\n",
    "s = 'What is 1,000.5 times 3 times 2,000?'\n",
    "print(re.findall(r'\\d[0-9,.]*', s))"
   ]
  },
  {
   "cell_type": "code",
   "execution_count": 15,
   "metadata": {},
   "outputs": [
    {
     "output_type": "stream",
     "name": "stdout",
     "text": "['sophiscated', 'multisyllabic']\n"
    }
   ],
   "source": [
    "# Occurrences of words with 6 or more characters\n",
    "s = 'I do not use sophiscated, multisyllabic words!'\n",
    "print(re.findall(r'\\w{6,}', s))"
   ]
  },
  {
   "cell_type": "code",
   "execution_count": 16,
   "metadata": {},
   "outputs": [
    {
     "output_type": "stream",
     "name": "stdout",
     "text": "['12', '15', '+', '3', '100', '-', '*']\n"
    }
   ],
   "source": [
    "s = '12 15+3 100-*'\n",
    "print(re.findall(r'[+*/-]|\\w+', s))"
   ]
  },
  {
   "cell_type": "code",
   "execution_count": 17,
   "metadata": {},
   "outputs": [
    {
     "output_type": "stream",
     "name": "stdout",
     "text": "[(',000', ''), ('', '.5')]\n"
    }
   ],
   "source": [
    "pat = r'\\d{1,3}(,\\d{3})*(\\.\\d*)?'\n",
    "print(re.findall(pat, '12,000 monkeys and 55.5 cats.'))"
   ]
  },
  {
   "cell_type": "code",
   "execution_count": 18,
   "metadata": {},
   "outputs": [
    {
     "output_type": "stream",
     "name": "stdout",
     "text": "12,000\n55.5\n"
    }
   ],
   "source": [
    "pat = r'(\\d{1,3}(,\\d{3})*(\\.\\d*)?)'\n",
    "lst = re.findall(pat, '12,000 monkeys on 55.5 cats.')\n",
    "for item in lst:\n",
    "    print(item[0])"
   ]
  },
  {
   "cell_type": "markdown",
   "metadata": {},
   "source": [
    "## Searching for Repeated Patterns"
   ]
  },
  {
   "cell_type": "code",
   "execution_count": 22,
   "metadata": {},
   "outputs": [
    {
     "output_type": "stream",
     "name": "stdout",
     "text": "the the ...found at (20, 27)\n"
    }
   ],
   "source": [
    "s = 'The cow jumped over the the moon.'\n",
    "m = re.search(r'(\\w+) \\1', s)\n",
    "print(m.group(), '...found at', m.span())"
   ]
  },
  {
   "cell_type": "code",
   "execution_count": 23,
   "metadata": {},
   "outputs": [
    {
     "output_type": "stream",
     "name": "stdout",
     "text": "of of ...found at (18, 23)\n"
    }
   ],
   "source": [
    "s = 'The United States of of America'\n",
    "m = re.search(r'(\\w+) \\1', s)\n",
    "print(m.group(), '...found at', m.span())"
   ]
  },
  {
   "cell_type": "markdown",
   "metadata": {},
   "source": [
    "## Replacing Text"
   ]
  },
  {
   "cell_type": "code",
   "execution_count": 24,
   "metadata": {},
   "outputs": [
    {
     "output_type": "stream",
     "name": "stdout",
     "text": "Get me a new cat to befriend my cat.\n"
    }
   ],
   "source": [
    "s = 'Get me a new dog to befriend my dog.'\n",
    "s2 = re.sub('dog', 'cat', s)\n",
    "print(s2)"
   ]
  },
  {
   "cell_type": "code",
   "execution_count": 26,
   "metadata": {},
   "outputs": [
    {
     "output_type": "stream",
     "name": "stdout",
     "text": "The cow jumped over the moon.\n"
    }
   ],
   "source": [
    "s = 'The the cow jumped over over the moon.'\n",
    "s2 = re.sub(r'(\\w+) \\1', r'\\1', s, flags = re.I)\n",
    "print(s2)"
   ]
  },
  {
   "cell_type": "markdown",
   "metadata": {},
   "source": [
    "# REGEX (PART TWO)"
   ]
  },
  {
   "cell_type": "code",
   "execution_count": 29,
   "metadata": {},
   "outputs": [
    {
     "output_type": "stream",
     "name": "stdout",
     "text": "['12,000', '100', '53.12']\n"
    }
   ],
   "source": [
    "pat = r'\\d{1,3}(?:,\\d{3})*(?:\\.\\d*)?\\b'\n",
    "s = '12,000 monkeys on 100 typewriters for 53.12 days.'\n",
    "lst = re.findall(pat, s)\n",
    "print(lst)"
   ]
  },
  {
   "cell_type": "code",
   "execution_count": 31,
   "metadata": {},
   "outputs": [
    {
     "output_type": "stream",
     "name": "stdout",
     "text": "['12,000', '100', '53.12']\n"
    }
   ],
   "source": [
    "# More efficient to use the compile() function.\n",
    "regex1 = re.compile(r'\\d{1,3}(?:,\\d{3})*(?:\\.\\d*)?\\b')\n",
    "s = '12,000 monkeys on 100 typewriters for 53.12 days.'\n",
    "lst = re.findall(regex1, s)\n",
    "print(lst)"
   ]
  },
  {
   "cell_type": "code",
   "execution_count": 33,
   "metadata": {},
   "outputs": [
    {
     "output_type": "stream",
     "name": "stdout",
     "text": "<h1>This is an HTML heading.</h1>\n"
    }
   ],
   "source": [
    "pat = r'<.*>'\n",
    "the_line = '<h1>This is an HTML heading.</h1>'\n",
    "m = re.match(pat, the_line)\n",
    "print(m.group())"
   ]
  },
  {
   "cell_type": "code",
   "execution_count": 34,
   "metadata": {},
   "outputs": [
    {
     "output_type": "stream",
     "name": "stdout",
     "text": "<h1>\n"
    }
   ],
   "source": [
    "# using the non-greedy/lazy matching method\n",
    "pat = r'<.*?>'\n",
    "the_line = '<h1>This is an HTML heading.</h1>'\n",
    "m = re.match(pat, the_line)\n",
    "print(m.group())"
   ]
  },
  {
   "cell_type": "code",
   "execution_count": 35,
   "metadata": {},
   "outputs": [
    {
     "output_type": "stream",
     "name": "stdout",
     "text": "There are 6 tags.\n"
    }
   ],
   "source": [
    "# Count the number of HTML tags\n",
    "s = '''<h1>This is the first heading.</h1>\n",
    "<h1>This is the second heading.</h1>\n",
    "<b>This is in bold.</b>'''\n",
    "pat = r'<.*?>'\n",
    "lst = re.findall(pat, s, flags=re.DOTALL)\n",
    "print('There are', len(lst), 'tags.')"
   ]
  },
  {
   "cell_type": "code",
   "execution_count": 36,
   "metadata": {},
   "outputs": [
    {
     "output_type": "stream",
     "name": "stdout",
     "text": "There are 3 sentences.\n"
    }
   ],
   "source": [
    "# Count matches in a string (using non-greedy matching)\n",
    "s = '''Here is a single sentence. Here is\n",
    "another sentence, ending in a period. And\n",
    "here is yet another.'''\n",
    "pat = r'.*?[.?!]'\n",
    "lst = re.findall(pat, s, flags=re.DOTALL)\n",
    "print('There are', len(lst), 'sentences.')"
   ]
  },
  {
   "cell_type": "code",
   "execution_count": 43,
   "metadata": {},
   "outputs": [
    {
     "output_type": "stream",
     "name": "stdout",
     "text": "['See the U.S.A today.', \"It's right here, not\\na world away.\", 'Average temp. is 66.5.']\n-> See the U.S.A today.\n-> It's right here, not\na world away.\n-> Average temp. is 66.5.\n"
    }
   ],
   "source": [
    "pat = r'[A-Z].*?[.!?](?= [A-Z]|$)'\n",
    "s = '''See the U.S.A today. It's right here, not\n",
    "a world away. Average temp. is 66.5.'''\n",
    "m = re.findall(pat, s, flags=re.DOTALL | re.MULTILINE)\n",
    "print(m)\n",
    "for i in m:\n",
    "    print('->', i)"
   ]
  },
  {
   "cell_type": "markdown",
   "metadata": {},
   "source": [
    "## Checking Multiple Patterns"
   ]
  },
  {
   "cell_type": "code",
   "execution_count": 46,
   "metadata": {},
   "outputs": [
    {
     "output_type": "stream",
     "name": "stdout",
     "text": "It passed the test!\n"
    }
   ],
   "source": [
    "pat1 = r'(\\w|[!@#$%^&*+-]){8,12}$'\n",
    "pat2 = r'(?=.*[a-zA-Z])'            # Must include a letter\n",
    "pat3 = r'(?=.*\\d)'                      # Must include a digit.\n",
    "pat4 = r'(?=.*[!@#$%^&*+-])'        # Must include punc. char.\n",
    "\n",
    "pat = pat2 + pat3 + pat4 + pat1\n",
    "passwd = 'HenryThe5!'\n",
    "if re.match(pat, passwd):\n",
    "    print('It passed the test!')\n",
    "else:\n",
    "    print('Insufficiently strong password.')"
   ]
  },
  {
   "cell_type": "markdown",
   "metadata": {},
   "source": [
    "## Negative Look-Ahead"
   ]
  },
  {
   "cell_type": "code",
   "execution_count": 47,
   "metadata": {},
   "outputs": [
    {
     "output_type": "stream",
     "name": "stdout",
     "text": "['abc']\n"
    }
   ],
   "source": [
    "pat = r'abc(?!abc)'\n",
    "s = 'The magic of abcabc'\n",
    "m = re.findall(pat, s)\n",
    "print(m)"
   ]
  },
  {
   "cell_type": "code",
   "execution_count": 48,
   "metadata": {},
   "outputs": [
    {
     "output_type": "stream",
     "name": "stdout",
     "text": "['ABC']\n"
    }
   ],
   "source": [
    "pat = r'abc(?!abc)'\n",
    "s = 'The magic of abcABC'\n",
    "m = re.findall(pat, s, flags=re.I)\n",
    "print(m)"
   ]
  },
  {
   "cell_type": "code",
   "execution_count": 52,
   "metadata": {},
   "outputs": [
    {
     "output_type": "stream",
     "name": "stdout",
     "text": "-> See the U.S.A today.\n-> It's right here, nota world away.\n-> Average temp. is 70.5.\n-> It's fun!\n"
    }
   ],
   "source": [
    "# A negative look-ahead pattern for matching sentences\n",
    "pat = r'[A-Z].*?[.!?](?! [a-z]|\\w)'\n",
    "s = '''See the U.S.A today. It's right here, not\n",
    "a world away. Average temp. is 70.5. It's fun!'''\n",
    "s = re.sub(r'\\n', '', s)\n",
    "m = re.findall(pat, s, flags = re.DOTALL)\n",
    "for i in m:\n",
    "    print('->', i)"
   ]
  },
  {
   "cell_type": "code",
   "execution_count": 53,
   "metadata": {},
   "outputs": [
    {
     "output_type": "stream",
     "name": "stdout",
     "text": "first name =  Jane\nlast name =  Austen\n"
    }
   ],
   "source": [
    "s = 'Jane Austen'\n",
    "pat = r'(?P<first>\\w+) (?P<last>\\w+)'\n",
    "m = re.match(pat, s)\n",
    "print('first name = ', m.group('first'))\n",
    "print('last name = ', m.group('last'))"
   ]
  },
  {
   "cell_type": "code",
   "execution_count": 54,
   "metadata": {},
   "outputs": [
    {
     "output_type": "stream",
     "name": "stdout",
     "text": "Overland, Brian R. \nBennett, John R. \nPublic, John Q. \nAusten, Jane\nShelley, Mary\n"
    }
   ],
   "source": [
    "pat = r'(?P<first>\\w+) (?P<mid>\\w\\. )?(?P<last>\\w+)'\n",
    "\n",
    "def reorg_name(in_s):\n",
    "    m = re.match(pat, in_s)\n",
    "    s = m.group('last') + ', ' + m.group('first')\n",
    "    if m.group('mid'):\n",
    "        s += ' ' + m.group('mid')\n",
    "    return s\n",
    "\n",
    "print(reorg_name('Brian R. Overland'))\n",
    "print(reorg_name('John R. Bennett'))\n",
    "print(reorg_name('John Q. Public'))\n",
    "print(reorg_name('Jane Austen'))\n",
    "print(reorg_name('Mary Shelley'))"
   ]
  },
  {
   "cell_type": "code",
   "execution_count": 55,
   "metadata": {},
   "outputs": [
    {
     "output_type": "stream",
     "name": "stdout",
     "text": "<re.Match object; span=(0, 7), match='The the'>\n"
    }
   ],
   "source": [
    "# pat = r'(\\w+) \\1'\n",
    "pat = r'(?P<word>\\w+) (?P=word)'\n",
    "m = re.search(pat, 'The the dog.', flags=re.I)\n",
    "print(m)"
   ]
  },
  {
   "cell_type": "code",
   "execution_count": 56,
   "metadata": {},
   "outputs": [
    {
     "output_type": "stream",
     "name": "stdout",
     "text": "['3', '5', '7', '8', '10', '11']\n"
    }
   ],
   "source": [
    "# Splitting a string into a list\n",
    "pat = r', *| +'\n",
    "lst = re.split(pat, '3, 5  7 8,10, 11')\n",
    "print(lst)"
   ]
  },
  {
   "cell_type": "code",
   "execution_count": 57,
   "metadata": {},
   "outputs": [
    {
     "output_type": "stream",
     "name": "stdout",
     "text": "([3, 3, '+'], '')\n([32, 6.67, '+', 10, 5, '-', '*'], '')\n"
    }
   ],
   "source": [
    "def sc_oper(scanner, tok): return tok\n",
    "def sc_int(scanner, tok): return int(tok)\n",
    "def sc_float(scanner, tok): return float(tok)\n",
    "\n",
    "scanner = re.Scanner([\n",
    "    (r'[*+/-]', sc_oper),\n",
    "    (r'\\d+\\.\\d*', sc_float),\n",
    "    (r'\\d+', sc_int),\n",
    "    (r'\\s+', None)\n",
    "])\n",
    "\n",
    "print(scanner.scan('3 3+'))\n",
    "print(scanner.scan('32 6.67+ 10 5- *'))"
   ]
  },
  {
   "cell_type": "code",
   "execution_count": 59,
   "metadata": {},
   "outputs": [
    {
     "output_type": "stream",
     "name": "stdout",
     "text": "Answer is 43.67\n"
    }
   ],
   "source": [
    "# using lambda functions with the Scanner\n",
    "the_stk = []\n",
    "\n",
    "def bin_op(tok):\n",
    "    op2, op1 = the_stk.pop(), the_stk.pop()\n",
    "    if tok == '+':\n",
    "        the_stk.append(op1 + op2)\n",
    "    elif tok == '*':\n",
    "        the_stk.append(op1 + op2)\n",
    "    elif tok == '/':\n",
    "        the_stk.append(op1 / op2)\n",
    "    elif tok == '-':\n",
    "        the_stk.append(op1 - op2)\n",
    "\n",
    "scanner = re.Scanner([\n",
    "    (r'[*+/-]', lambda s, t: bin_op(t)),\n",
    "    (r'\\d+\\.\\d*', lambda s, t: the_stk.append(float(t))),\n",
    "    (r'\\d+', lambda s, t: the_stk.append(int(t))),\n",
    "    (r'\\s+', None)\n",
    "])\n",
    "\n",
    "def main():\n",
    "    input_str = input('Enter RPN string: ')\n",
    "    tokens, unknown = scanner.scan(input_str)\n",
    "    if unknown:\n",
    "        print('Unrecognized input:', unknown)\n",
    "    else:\n",
    "        print('Answer is', the_stk.pop())\n",
    "\n",
    "main()"
   ]
  },
  {
   "cell_type": "code",
   "execution_count": null,
   "metadata": {},
   "outputs": [],
   "source": []
  }
 ],
 "metadata": {
  "language_info": {
   "codemirror_mode": {
    "name": "ipython",
    "version": 3
   },
   "file_extension": ".py",
   "mimetype": "text/x-python",
   "name": "python",
   "nbconvert_exporter": "python",
   "pygments_lexer": "ipython3",
   "version": "3.7.7-final"
  },
  "orig_nbformat": 2,
  "kernelspec": {
   "name": "python37764bitsuperchargedpythoncondae839e5ed49a8480faa20190e7570c37b",
   "display_name": "Python 3.7.7 64-bit ('Supercharged_Python': conda)"
  }
 },
 "nbformat": 4,
 "nbformat_minor": 2
}