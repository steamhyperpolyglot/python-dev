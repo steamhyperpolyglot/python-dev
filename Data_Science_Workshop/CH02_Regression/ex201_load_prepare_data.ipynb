{
 "cells": [
  {
   "cell_type": "code",
   "execution_count": 1,
   "metadata": {},
   "outputs": [
    {
     "output_type": "execute_result",
     "data": {
      "text/plain": "      CRIM   ZN   INDUS   CHAS    NOX     RM   AGE     DIS  RAD  TAX  PTRATIO  \\\n0  0.00632  18.0    2.31     0  0.538  6.575  65.2  4.0900    1  296     15.3   \n1  0.02731   0.0    7.07     0  0.469  6.421  78.9  4.9671    2  242     17.8   \n2  0.02729   0.0    7.07     0  0.469  7.185  61.1  4.9671    2  242     17.8   \n3  0.03237   0.0    2.18     0  0.458  6.998  45.8  6.0622    3  222     18.7   \n4  0.06905   0.0    2.18     0  0.458  7.147  54.2  6.0622    3  222     18.7   \n\n   LSTAT  MEDV  \n0   4.98  24.0  \n1   9.14  21.6  \n2   4.03  34.7  \n3   2.94  33.4  \n4   5.33  36.2  ",
      "text/html": "<div>\n<style scoped>\n    .dataframe tbody tr th:only-of-type {\n        vertical-align: middle;\n    }\n\n    .dataframe tbody tr th {\n        vertical-align: top;\n    }\n\n    .dataframe thead th {\n        text-align: right;\n    }\n</style>\n<table border=\"1\" class=\"dataframe\">\n  <thead>\n    <tr style=\"text-align: right;\">\n      <th></th>\n      <th>CRIM</th>\n      <th>ZN</th>\n      <th>INDUS</th>\n      <th>CHAS</th>\n      <th>NOX</th>\n      <th>RM</th>\n      <th>AGE</th>\n      <th>DIS</th>\n      <th>RAD</th>\n      <th>TAX</th>\n      <th>PTRATIO</th>\n      <th>LSTAT</th>\n      <th>MEDV</th>\n    </tr>\n  </thead>\n  <tbody>\n    <tr>\n      <th>0</th>\n      <td>0.00632</td>\n      <td>18.0</td>\n      <td>2.31</td>\n      <td>0</td>\n      <td>0.538</td>\n      <td>6.575</td>\n      <td>65.2</td>\n      <td>4.0900</td>\n      <td>1</td>\n      <td>296</td>\n      <td>15.3</td>\n      <td>4.98</td>\n      <td>24.0</td>\n    </tr>\n    <tr>\n      <th>1</th>\n      <td>0.02731</td>\n      <td>0.0</td>\n      <td>7.07</td>\n      <td>0</td>\n      <td>0.469</td>\n      <td>6.421</td>\n      <td>78.9</td>\n      <td>4.9671</td>\n      <td>2</td>\n      <td>242</td>\n      <td>17.8</td>\n      <td>9.14</td>\n      <td>21.6</td>\n    </tr>\n    <tr>\n      <th>2</th>\n      <td>0.02729</td>\n      <td>0.0</td>\n      <td>7.07</td>\n      <td>0</td>\n      <td>0.469</td>\n      <td>7.185</td>\n      <td>61.1</td>\n      <td>4.9671</td>\n      <td>2</td>\n      <td>242</td>\n      <td>17.8</td>\n      <td>4.03</td>\n      <td>34.7</td>\n    </tr>\n    <tr>\n      <th>3</th>\n      <td>0.03237</td>\n      <td>0.0</td>\n      <td>2.18</td>\n      <td>0</td>\n      <td>0.458</td>\n      <td>6.998</td>\n      <td>45.8</td>\n      <td>6.0622</td>\n      <td>3</td>\n      <td>222</td>\n      <td>18.7</td>\n      <td>2.94</td>\n      <td>33.4</td>\n    </tr>\n    <tr>\n      <th>4</th>\n      <td>0.06905</td>\n      <td>0.0</td>\n      <td>2.18</td>\n      <td>0</td>\n      <td>0.458</td>\n      <td>7.147</td>\n      <td>54.2</td>\n      <td>6.0622</td>\n      <td>3</td>\n      <td>222</td>\n      <td>18.7</td>\n      <td>5.33</td>\n      <td>36.2</td>\n    </tr>\n  </tbody>\n</table>\n</div>"
     },
     "metadata": {},
     "execution_count": 1
    }
   ],
   "source": [
    "import matplotlib as mpl\n",
    "import seaborn as sns\n",
    "import matplotlib.pyplot as plt\n",
    "import statsmodels.formula.api as smf\n",
    "import statsmodels.graphics.api as smg\n",
    "import pandas as pd\n",
    "import numpy as np\n",
    "import patsy\n",
    "from statsmodels.graphics.correlation import plot_corr\n",
    "from sklearn.model_selection import train_test_split\n",
    "plt.style.use('seaborn')\n",
    "\n",
    "rawBostonData = pd.read_csv('.\\Dataset\\Boston.csv')\n",
    "rawBostonData.head()"
   ]
  },
  {
   "cell_type": "code",
   "execution_count": 2,
   "metadata": {},
   "outputs": [
    {
     "output_type": "execute_result",
     "data": {
      "text/plain": "['CRIM',\n ' ZN ',\n 'INDUS ',\n 'CHAS',\n 'NOX',\n 'RM',\n 'AGE',\n 'DIS',\n 'RAD',\n 'TAX',\n 'PTRATIO',\n 'LSTAT',\n 'MEDV']"
     },
     "metadata": {},
     "execution_count": 2
    }
   ],
   "source": [
    "rawBostonData = rawBostonData.dropna()\n",
    "rawBostonData = rawBostonData.drop_duplicates()\n",
    "list(rawBostonData.columns)"
   ]
  },
  {
   "cell_type": "code",
   "execution_count": 3,
   "metadata": {},
   "outputs": [
    {
     "output_type": "execute_result",
     "data": {
      "text/plain": "   crimeRatePerCapita  non-retailLandProptn  INDUS   riverDummy  \\\n0             0.00632                  18.0    2.31           0   \n1             0.02731                   0.0    7.07           0   \n2             0.02729                   0.0    7.07           0   \n3             0.03237                   0.0    2.18           0   \n4             0.06905                   0.0    2.18           0   \n\n   nitrixOxide_pp10m  AvgNo.RoomsPerDwelling  ProptnOwnerOccupied  \\\n0              0.538                   6.575                 65.2   \n1              0.469                   6.421                 78.9   \n2              0.469                   7.185                 61.1   \n3              0.458                   6.998                 45.8   \n4              0.458                   7.147                 54.2   \n\n   weightedDist  radialHighwaysAccess  propTaxRate_per10K  pupilTeacherRatio  \\\n0        4.0900                     1                 296               15.3   \n1        4.9671                     2                 242               17.8   \n2        4.9671                     2                 242               17.8   \n3        6.0622                     3                 222               18.7   \n4        6.0622                     3                 222               18.7   \n\n   pctLowerStatus  medianValue_Ks  \n0            4.98            24.0  \n1            9.14            21.6  \n2            4.03            34.7  \n3            2.94            33.4  \n4            5.33            36.2  ",
      "text/html": "<div>\n<style scoped>\n    .dataframe tbody tr th:only-of-type {\n        vertical-align: middle;\n    }\n\n    .dataframe tbody tr th {\n        vertical-align: top;\n    }\n\n    .dataframe thead th {\n        text-align: right;\n    }\n</style>\n<table border=\"1\" class=\"dataframe\">\n  <thead>\n    <tr style=\"text-align: right;\">\n      <th></th>\n      <th>crimeRatePerCapita</th>\n      <th>non-retailLandProptn</th>\n      <th>INDUS</th>\n      <th>riverDummy</th>\n      <th>nitrixOxide_pp10m</th>\n      <th>AvgNo.RoomsPerDwelling</th>\n      <th>ProptnOwnerOccupied</th>\n      <th>weightedDist</th>\n      <th>radialHighwaysAccess</th>\n      <th>propTaxRate_per10K</th>\n      <th>pupilTeacherRatio</th>\n      <th>pctLowerStatus</th>\n      <th>medianValue_Ks</th>\n    </tr>\n  </thead>\n  <tbody>\n    <tr>\n      <th>0</th>\n      <td>0.00632</td>\n      <td>18.0</td>\n      <td>2.31</td>\n      <td>0</td>\n      <td>0.538</td>\n      <td>6.575</td>\n      <td>65.2</td>\n      <td>4.0900</td>\n      <td>1</td>\n      <td>296</td>\n      <td>15.3</td>\n      <td>4.98</td>\n      <td>24.0</td>\n    </tr>\n    <tr>\n      <th>1</th>\n      <td>0.02731</td>\n      <td>0.0</td>\n      <td>7.07</td>\n      <td>0</td>\n      <td>0.469</td>\n      <td>6.421</td>\n      <td>78.9</td>\n      <td>4.9671</td>\n      <td>2</td>\n      <td>242</td>\n      <td>17.8</td>\n      <td>9.14</td>\n      <td>21.6</td>\n    </tr>\n    <tr>\n      <th>2</th>\n      <td>0.02729</td>\n      <td>0.0</td>\n      <td>7.07</td>\n      <td>0</td>\n      <td>0.469</td>\n      <td>7.185</td>\n      <td>61.1</td>\n      <td>4.9671</td>\n      <td>2</td>\n      <td>242</td>\n      <td>17.8</td>\n      <td>4.03</td>\n      <td>34.7</td>\n    </tr>\n    <tr>\n      <th>3</th>\n      <td>0.03237</td>\n      <td>0.0</td>\n      <td>2.18</td>\n      <td>0</td>\n      <td>0.458</td>\n      <td>6.998</td>\n      <td>45.8</td>\n      <td>6.0622</td>\n      <td>3</td>\n      <td>222</td>\n      <td>18.7</td>\n      <td>2.94</td>\n      <td>33.4</td>\n    </tr>\n    <tr>\n      <th>4</th>\n      <td>0.06905</td>\n      <td>0.0</td>\n      <td>2.18</td>\n      <td>0</td>\n      <td>0.458</td>\n      <td>7.147</td>\n      <td>54.2</td>\n      <td>6.0622</td>\n      <td>3</td>\n      <td>222</td>\n      <td>18.7</td>\n      <td>5.33</td>\n      <td>36.2</td>\n    </tr>\n  </tbody>\n</table>\n</div>"
     },
     "metadata": {},
     "execution_count": 3
    }
   ],
   "source": [
    "renamedBostonData = rawBostonData.rename(columns = {\n",
    "    'CRIM': 'crimeRatePerCapita',\n",
    "    ' ZN ': 'non-retailLandProptn',\n",
    "    'CHAS': 'riverDummy',\n",
    "    'NOX': 'nitrixOxide_pp10m',\n",
    "    'RM': 'AvgNo.RoomsPerDwelling',\n",
    "    'AGE': 'ProptnOwnerOccupied',\n",
    "    'DIS': 'weightedDist',\n",
    "    'RAD': 'radialHighwaysAccess',\n",
    "    'TAX': 'propTaxRate_per10K',\n",
    "    'PTRATIO': 'pupilTeacherRatio',\n",
    "    'LSTAT': 'pctLowerStatus',\n",
    "    'MEDV': 'medianValue_Ks'\n",
    "})\n",
    "\n",
    "renamedBostonData.head()"
   ]
  },
  {
   "cell_type": "code",
   "execution_count": 4,
   "metadata": {},
   "outputs": [
    {
     "output_type": "stream",
     "name": "stdout",
     "text": "<class 'pandas.core.frame.DataFrame'>\nInt64Index: 506 entries, 0 to 505\nData columns (total 13 columns):\n #   Column                  Non-Null Count  Dtype  \n---  ------                  --------------  -----  \n 0   crimeRatePerCapita      506 non-null    float64\n 1   non-retailLandProptn    506 non-null    float64\n 2   INDUS                   506 non-null    float64\n 3   riverDummy              506 non-null    int64  \n 4   nitrixOxide_pp10m       506 non-null    float64\n 5   AvgNo.RoomsPerDwelling  506 non-null    float64\n 6   ProptnOwnerOccupied     506 non-null    float64\n 7   weightedDist            506 non-null    float64\n 8   radialHighwaysAccess    506 non-null    int64  \n 9   propTaxRate_per10K      506 non-null    int64  \n 10  pupilTeacherRatio       506 non-null    float64\n 11  pctLowerStatus          506 non-null    float64\n 12  medianValue_Ks          506 non-null    float64\ndtypes: float64(10), int64(3)\nmemory usage: 75.3 KB\n"
    }
   ],
   "source": [
    "renamedBostonData.info()"
   ]
  },
  {
   "cell_type": "code",
   "execution_count": 5,
   "metadata": {},
   "outputs": [
    {
     "output_type": "execute_result",
     "data": {
      "text/plain": "                        count        mean         std        min         25%  \\\ncrimeRatePerCapita      506.0    3.613524    8.601545    0.00632    0.082045   \nnon-retailLandProptn    506.0   11.363636   23.322453    0.00000    0.000000   \nINDUS                   506.0   11.136779    6.860353    0.46000    5.190000   \nriverDummy              506.0    0.069170    0.253994    0.00000    0.000000   \nnitrixOxide_pp10m       506.0    0.554695    0.115878    0.38500    0.449000   \nAvgNo.RoomsPerDwelling  506.0    6.284634    0.702617    3.56100    5.885500   \nProptnOwnerOccupied     506.0   68.574901   28.148861    2.90000   45.025000   \nweightedDist            506.0    3.795043    2.105710    1.12960    2.100175   \nradialHighwaysAccess    506.0    9.549407    8.707259    1.00000    4.000000   \npropTaxRate_per10K      506.0  408.237154  168.537116  187.00000  279.000000   \npupilTeacherRatio       506.0   18.455534    2.164946   12.60000   17.400000   \npctLowerStatus          506.0   12.653063    7.141062    1.73000    6.950000   \nmedianValue_Ks          506.0   22.532806    9.197104    5.00000   17.025000   \n\n                              50%         75%       max  \ncrimeRatePerCapita        0.25651    3.677082   88.9762  \nnon-retailLandProptn      0.00000   12.500000  100.0000  \nINDUS                     9.69000   18.100000   27.7400  \nriverDummy                0.00000    0.000000    1.0000  \nnitrixOxide_pp10m         0.53800    0.624000    0.8710  \nAvgNo.RoomsPerDwelling    6.20850    6.623500    8.7800  \nProptnOwnerOccupied      77.50000   94.075000  100.0000  \nweightedDist              3.20745    5.188425   12.1265  \nradialHighwaysAccess      5.00000   24.000000   24.0000  \npropTaxRate_per10K      330.00000  666.000000  711.0000  \npupilTeacherRatio        19.05000   20.200000   22.0000  \npctLowerStatus           11.36000   16.955000   37.9700  \nmedianValue_Ks           21.20000   25.000000   50.0000  ",
      "text/html": "<div>\n<style scoped>\n    .dataframe tbody tr th:only-of-type {\n        vertical-align: middle;\n    }\n\n    .dataframe tbody tr th {\n        vertical-align: top;\n    }\n\n    .dataframe thead th {\n        text-align: right;\n    }\n</style>\n<table border=\"1\" class=\"dataframe\">\n  <thead>\n    <tr style=\"text-align: right;\">\n      <th></th>\n      <th>count</th>\n      <th>mean</th>\n      <th>std</th>\n      <th>min</th>\n      <th>25%</th>\n      <th>50%</th>\n      <th>75%</th>\n      <th>max</th>\n    </tr>\n  </thead>\n  <tbody>\n    <tr>\n      <th>crimeRatePerCapita</th>\n      <td>506.0</td>\n      <td>3.613524</td>\n      <td>8.601545</td>\n      <td>0.00632</td>\n      <td>0.082045</td>\n      <td>0.25651</td>\n      <td>3.677082</td>\n      <td>88.9762</td>\n    </tr>\n    <tr>\n      <th>non-retailLandProptn</th>\n      <td>506.0</td>\n      <td>11.363636</td>\n      <td>23.322453</td>\n      <td>0.00000</td>\n      <td>0.000000</td>\n      <td>0.00000</td>\n      <td>12.500000</td>\n      <td>100.0000</td>\n    </tr>\n    <tr>\n      <th>INDUS</th>\n      <td>506.0</td>\n      <td>11.136779</td>\n      <td>6.860353</td>\n      <td>0.46000</td>\n      <td>5.190000</td>\n      <td>9.69000</td>\n      <td>18.100000</td>\n      <td>27.7400</td>\n    </tr>\n    <tr>\n      <th>riverDummy</th>\n      <td>506.0</td>\n      <td>0.069170</td>\n      <td>0.253994</td>\n      <td>0.00000</td>\n      <td>0.000000</td>\n      <td>0.00000</td>\n      <td>0.000000</td>\n      <td>1.0000</td>\n    </tr>\n    <tr>\n      <th>nitrixOxide_pp10m</th>\n      <td>506.0</td>\n      <td>0.554695</td>\n      <td>0.115878</td>\n      <td>0.38500</td>\n      <td>0.449000</td>\n      <td>0.53800</td>\n      <td>0.624000</td>\n      <td>0.8710</td>\n    </tr>\n    <tr>\n      <th>AvgNo.RoomsPerDwelling</th>\n      <td>506.0</td>\n      <td>6.284634</td>\n      <td>0.702617</td>\n      <td>3.56100</td>\n      <td>5.885500</td>\n      <td>6.20850</td>\n      <td>6.623500</td>\n      <td>8.7800</td>\n    </tr>\n    <tr>\n      <th>ProptnOwnerOccupied</th>\n      <td>506.0</td>\n      <td>68.574901</td>\n      <td>28.148861</td>\n      <td>2.90000</td>\n      <td>45.025000</td>\n      <td>77.50000</td>\n      <td>94.075000</td>\n      <td>100.0000</td>\n    </tr>\n    <tr>\n      <th>weightedDist</th>\n      <td>506.0</td>\n      <td>3.795043</td>\n      <td>2.105710</td>\n      <td>1.12960</td>\n      <td>2.100175</td>\n      <td>3.20745</td>\n      <td>5.188425</td>\n      <td>12.1265</td>\n    </tr>\n    <tr>\n      <th>radialHighwaysAccess</th>\n      <td>506.0</td>\n      <td>9.549407</td>\n      <td>8.707259</td>\n      <td>1.00000</td>\n      <td>4.000000</td>\n      <td>5.00000</td>\n      <td>24.000000</td>\n      <td>24.0000</td>\n    </tr>\n    <tr>\n      <th>propTaxRate_per10K</th>\n      <td>506.0</td>\n      <td>408.237154</td>\n      <td>168.537116</td>\n      <td>187.00000</td>\n      <td>279.000000</td>\n      <td>330.00000</td>\n      <td>666.000000</td>\n      <td>711.0000</td>\n    </tr>\n    <tr>\n      <th>pupilTeacherRatio</th>\n      <td>506.0</td>\n      <td>18.455534</td>\n      <td>2.164946</td>\n      <td>12.60000</td>\n      <td>17.400000</td>\n      <td>19.05000</td>\n      <td>20.200000</td>\n      <td>22.0000</td>\n    </tr>\n    <tr>\n      <th>pctLowerStatus</th>\n      <td>506.0</td>\n      <td>12.653063</td>\n      <td>7.141062</td>\n      <td>1.73000</td>\n      <td>6.950000</td>\n      <td>11.36000</td>\n      <td>16.955000</td>\n      <td>37.9700</td>\n    </tr>\n    <tr>\n      <th>medianValue_Ks</th>\n      <td>506.0</td>\n      <td>22.532806</td>\n      <td>9.197104</td>\n      <td>5.00000</td>\n      <td>17.025000</td>\n      <td>21.20000</td>\n      <td>25.000000</td>\n      <td>50.0000</td>\n    </tr>\n  </tbody>\n</table>\n</div>"
     },
     "metadata": {},
     "execution_count": 5
    }
   ],
   "source": [
    "renamedBostonData.describe(include=[np.number]).T"
   ]
  },
  {
   "cell_type": "code",
   "execution_count": null,
   "metadata": {},
   "outputs": [],
   "source": []
  }
 ],
 "metadata": {
  "language_info": {
   "codemirror_mode": {
    "name": "ipython",
    "version": 3
   },
   "file_extension": ".py",
   "mimetype": "text/x-python",
   "name": "python",
   "nbconvert_exporter": "python",
   "pygments_lexer": "ipython3",
   "version": "3.8.2-final"
  },
  "orig_nbformat": 2,
  "kernelspec": {
   "name": "python38264bit452ca6f7d40b4ec1bc02c8f94f125681",
   "display_name": "Python 3.8.2 64-bit"
  }
 },
 "nbformat": 4,
 "nbformat_minor": 2
}