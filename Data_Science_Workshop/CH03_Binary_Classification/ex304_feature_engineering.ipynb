{
 "metadata": {
  "language_info": {
   "codemirror_mode": {
    "name": "ipython",
    "version": 3
   },
   "file_extension": ".py",
   "mimetype": "text/x-python",
   "name": "python",
   "nbconvert_exporter": "python",
   "pygments_lexer": "ipython3",
   "version": 3
  },
  "orig_nbformat": 2,
  "kernelspec": {
   "name": "python_defaultSpec_1596151009952",
   "display_name": "Python 3.8.2 64-bit"
  }
 },
 "nbformat": 4,
 "nbformat_minor": 2,
 "cells": [
  {
   "cell_type": "code",
   "execution_count": 2,
   "metadata": {},
   "outputs": [
    {
     "output_type": "execute_result",
     "data": {
      "text/plain": "   age           job  marital  education  ... previous  poutcome   y balanceTran\n0   58    management  married   tertiary  ...        0   unknown  no    0.092259\n1   44    technician   single  secondary  ...        0   unknown  no    0.073067\n2   33  entrepreneur  married  secondary  ...        0   unknown  no    0.072822\n3   47   blue-collar  married    unknown  ...        0   unknown  no    0.086476\n4   33       unknown   single    unknown  ...        0   unknown  no    0.072812\n\n[5 rows x 18 columns]",
      "text/html": "<div>\n<style scoped>\n    .dataframe tbody tr th:only-of-type {\n        vertical-align: middle;\n    }\n\n    .dataframe tbody tr th {\n        vertical-align: top;\n    }\n\n    .dataframe thead th {\n        text-align: right;\n    }\n</style>\n<table border=\"1\" class=\"dataframe\">\n  <thead>\n    <tr style=\"text-align: right;\">\n      <th></th>\n      <th>age</th>\n      <th>job</th>\n      <th>marital</th>\n      <th>education</th>\n      <th>default</th>\n      <th>balance</th>\n      <th>housing</th>\n      <th>loan</th>\n      <th>contact</th>\n      <th>day</th>\n      <th>month</th>\n      <th>duration</th>\n      <th>campaign</th>\n      <th>pdays</th>\n      <th>previous</th>\n      <th>poutcome</th>\n      <th>y</th>\n      <th>balanceTran</th>\n    </tr>\n  </thead>\n  <tbody>\n    <tr>\n      <th>0</th>\n      <td>58</td>\n      <td>management</td>\n      <td>married</td>\n      <td>tertiary</td>\n      <td>no</td>\n      <td>2143</td>\n      <td>yes</td>\n      <td>no</td>\n      <td>unknown</td>\n      <td>5</td>\n      <td>may</td>\n      <td>261</td>\n      <td>1</td>\n      <td>-1</td>\n      <td>0</td>\n      <td>unknown</td>\n      <td>no</td>\n      <td>0.092259</td>\n    </tr>\n    <tr>\n      <th>1</th>\n      <td>44</td>\n      <td>technician</td>\n      <td>single</td>\n      <td>secondary</td>\n      <td>no</td>\n      <td>29</td>\n      <td>yes</td>\n      <td>no</td>\n      <td>unknown</td>\n      <td>5</td>\n      <td>may</td>\n      <td>151</td>\n      <td>1</td>\n      <td>-1</td>\n      <td>0</td>\n      <td>unknown</td>\n      <td>no</td>\n      <td>0.073067</td>\n    </tr>\n    <tr>\n      <th>2</th>\n      <td>33</td>\n      <td>entrepreneur</td>\n      <td>married</td>\n      <td>secondary</td>\n      <td>no</td>\n      <td>2</td>\n      <td>yes</td>\n      <td>yes</td>\n      <td>unknown</td>\n      <td>5</td>\n      <td>may</td>\n      <td>76</td>\n      <td>1</td>\n      <td>-1</td>\n      <td>0</td>\n      <td>unknown</td>\n      <td>no</td>\n      <td>0.072822</td>\n    </tr>\n    <tr>\n      <th>3</th>\n      <td>47</td>\n      <td>blue-collar</td>\n      <td>married</td>\n      <td>unknown</td>\n      <td>no</td>\n      <td>1506</td>\n      <td>yes</td>\n      <td>no</td>\n      <td>unknown</td>\n      <td>5</td>\n      <td>may</td>\n      <td>92</td>\n      <td>1</td>\n      <td>-1</td>\n      <td>0</td>\n      <td>unknown</td>\n      <td>no</td>\n      <td>0.086476</td>\n    </tr>\n    <tr>\n      <th>4</th>\n      <td>33</td>\n      <td>unknown</td>\n      <td>single</td>\n      <td>unknown</td>\n      <td>no</td>\n      <td>1</td>\n      <td>no</td>\n      <td>no</td>\n      <td>unknown</td>\n      <td>5</td>\n      <td>may</td>\n      <td>198</td>\n      <td>1</td>\n      <td>-1</td>\n      <td>0</td>\n      <td>unknown</td>\n      <td>no</td>\n      <td>0.072812</td>\n    </tr>\n  </tbody>\n</table>\n</div>"
     },
     "metadata": {},
     "execution_count": 2
    }
   ],
   "source": [
    "import pandas as pd\n",
    "import numpy as np\n",
    "\n",
    "file_url = \"D:\\RnD\\python-dev\\Data_Science_Workshop\\CH03_Binary_Classification\\\\bank-full.csv\"\n",
    "\n",
    "# Reading the banking data\n",
    "bankData = pd.read_csv(file_url, sep=\";\")\n",
    "\n",
    "# Normalizing data\n",
    "from sklearn import preprocessing\n",
    "x = bankData[['balance']].values.astype(float)\n",
    "\n",
    "minmaxScaler = preprocessing.MinMaxScaler()\n",
    "\n",
    "bankData['balanceTran'] = minmaxScaler.fit_transform(x)\n",
    "\n",
    "bankData.head()"
   ]
  },
  {
   "cell_type": "code",
   "execution_count": 3,
   "metadata": {},
   "outputs": [
    {
     "output_type": "execute_result",
     "data": {
      "text/plain": "   age           job  marital  education  ... poutcome   y balanceTran loanTran\n0   58    management  married   tertiary  ...  unknown  no    0.092269        5\n1   44    technician   single  secondary  ...  unknown  no    0.073077        5\n2   33  entrepreneur  married  secondary  ...  unknown  no    0.072832        1\n3   47   blue-collar  married    unknown  ...  unknown  no    0.086486        5\n4   33       unknown   single    unknown  ...  unknown  no    0.072822        5\n\n[5 rows x 19 columns]",
      "text/html": "<div>\n<style scoped>\n    .dataframe tbody tr th:only-of-type {\n        vertical-align: middle;\n    }\n\n    .dataframe tbody tr th {\n        vertical-align: top;\n    }\n\n    .dataframe thead th {\n        text-align: right;\n    }\n</style>\n<table border=\"1\" class=\"dataframe\">\n  <thead>\n    <tr style=\"text-align: right;\">\n      <th></th>\n      <th>age</th>\n      <th>job</th>\n      <th>marital</th>\n      <th>education</th>\n      <th>default</th>\n      <th>balance</th>\n      <th>housing</th>\n      <th>loan</th>\n      <th>contact</th>\n      <th>day</th>\n      <th>month</th>\n      <th>duration</th>\n      <th>campaign</th>\n      <th>pdays</th>\n      <th>previous</th>\n      <th>poutcome</th>\n      <th>y</th>\n      <th>balanceTran</th>\n      <th>loanTran</th>\n    </tr>\n  </thead>\n  <tbody>\n    <tr>\n      <th>0</th>\n      <td>58</td>\n      <td>management</td>\n      <td>married</td>\n      <td>tertiary</td>\n      <td>no</td>\n      <td>2143</td>\n      <td>yes</td>\n      <td>no</td>\n      <td>unknown</td>\n      <td>5</td>\n      <td>may</td>\n      <td>261</td>\n      <td>1</td>\n      <td>-1</td>\n      <td>0</td>\n      <td>unknown</td>\n      <td>no</td>\n      <td>0.092269</td>\n      <td>5</td>\n    </tr>\n    <tr>\n      <th>1</th>\n      <td>44</td>\n      <td>technician</td>\n      <td>single</td>\n      <td>secondary</td>\n      <td>no</td>\n      <td>29</td>\n      <td>yes</td>\n      <td>no</td>\n      <td>unknown</td>\n      <td>5</td>\n      <td>may</td>\n      <td>151</td>\n      <td>1</td>\n      <td>-1</td>\n      <td>0</td>\n      <td>unknown</td>\n      <td>no</td>\n      <td>0.073077</td>\n      <td>5</td>\n    </tr>\n    <tr>\n      <th>2</th>\n      <td>33</td>\n      <td>entrepreneur</td>\n      <td>married</td>\n      <td>secondary</td>\n      <td>no</td>\n      <td>2</td>\n      <td>yes</td>\n      <td>yes</td>\n      <td>unknown</td>\n      <td>5</td>\n      <td>may</td>\n      <td>76</td>\n      <td>1</td>\n      <td>-1</td>\n      <td>0</td>\n      <td>unknown</td>\n      <td>no</td>\n      <td>0.072832</td>\n      <td>1</td>\n    </tr>\n    <tr>\n      <th>3</th>\n      <td>47</td>\n      <td>blue-collar</td>\n      <td>married</td>\n      <td>unknown</td>\n      <td>no</td>\n      <td>1506</td>\n      <td>yes</td>\n      <td>no</td>\n      <td>unknown</td>\n      <td>5</td>\n      <td>may</td>\n      <td>92</td>\n      <td>1</td>\n      <td>-1</td>\n      <td>0</td>\n      <td>unknown</td>\n      <td>no</td>\n      <td>0.086486</td>\n      <td>5</td>\n    </tr>\n    <tr>\n      <th>4</th>\n      <td>33</td>\n      <td>unknown</td>\n      <td>single</td>\n      <td>unknown</td>\n      <td>no</td>\n      <td>1</td>\n      <td>no</td>\n      <td>no</td>\n      <td>unknown</td>\n      <td>5</td>\n      <td>may</td>\n      <td>198</td>\n      <td>1</td>\n      <td>-1</td>\n      <td>0</td>\n      <td>unknown</td>\n      <td>no</td>\n      <td>0.072822</td>\n      <td>5</td>\n    </tr>\n  </tbody>\n</table>\n</div>"
     },
     "metadata": {},
     "execution_count": 3
    }
   ],
   "source": [
    "# Adding a small numerical constant to eliminate 0 values\n",
    "bankData['balanceTran'] = bankData['balanceTran'] + 0.00001\n",
    "\n",
    "# Let us transform values for loan data\n",
    "bankData['loanTran'] = 1\n",
    "\n",
    "# Giving a weight of 5 if there is no loan\n",
    "bankData.loc[bankData['loan'] == 'no', 'loanTran'] = 5\n",
    "bankData.head()"
   ]
  },
  {
   "cell_type": "code",
   "execution_count": 5,
   "metadata": {
    "tags": []
   },
   "outputs": [
    {
     "output_type": "execute_result",
     "data": {
      "text/plain": "   age           job  marital  education  ...   y  balanceTran loanTran houseTran\n0   58    management  married   tertiary  ...  no     0.092269        5         5\n1   44    technician   single  secondary  ...  no     0.073077        5         5\n2   33  entrepreneur  married  secondary  ...  no     0.072832        1         5\n3   47   blue-collar  married    unknown  ...  no     0.086486        5         5\n4   33       unknown   single    unknown  ...  no     0.072822        5         1\n\n[5 rows x 20 columns]",
      "text/html": "<div>\n<style scoped>\n    .dataframe tbody tr th:only-of-type {\n        vertical-align: middle;\n    }\n\n    .dataframe tbody tr th {\n        vertical-align: top;\n    }\n\n    .dataframe thead th {\n        text-align: right;\n    }\n</style>\n<table border=\"1\" class=\"dataframe\">\n  <thead>\n    <tr style=\"text-align: right;\">\n      <th></th>\n      <th>age</th>\n      <th>job</th>\n      <th>marital</th>\n      <th>education</th>\n      <th>default</th>\n      <th>balance</th>\n      <th>housing</th>\n      <th>loan</th>\n      <th>contact</th>\n      <th>day</th>\n      <th>month</th>\n      <th>duration</th>\n      <th>campaign</th>\n      <th>pdays</th>\n      <th>previous</th>\n      <th>poutcome</th>\n      <th>y</th>\n      <th>balanceTran</th>\n      <th>loanTran</th>\n      <th>houseTran</th>\n    </tr>\n  </thead>\n  <tbody>\n    <tr>\n      <th>0</th>\n      <td>58</td>\n      <td>management</td>\n      <td>married</td>\n      <td>tertiary</td>\n      <td>no</td>\n      <td>2143</td>\n      <td>yes</td>\n      <td>no</td>\n      <td>unknown</td>\n      <td>5</td>\n      <td>may</td>\n      <td>261</td>\n      <td>1</td>\n      <td>-1</td>\n      <td>0</td>\n      <td>unknown</td>\n      <td>no</td>\n      <td>0.092269</td>\n      <td>5</td>\n      <td>5</td>\n    </tr>\n    <tr>\n      <th>1</th>\n      <td>44</td>\n      <td>technician</td>\n      <td>single</td>\n      <td>secondary</td>\n      <td>no</td>\n      <td>29</td>\n      <td>yes</td>\n      <td>no</td>\n      <td>unknown</td>\n      <td>5</td>\n      <td>may</td>\n      <td>151</td>\n      <td>1</td>\n      <td>-1</td>\n      <td>0</td>\n      <td>unknown</td>\n      <td>no</td>\n      <td>0.073077</td>\n      <td>5</td>\n      <td>5</td>\n    </tr>\n    <tr>\n      <th>2</th>\n      <td>33</td>\n      <td>entrepreneur</td>\n      <td>married</td>\n      <td>secondary</td>\n      <td>no</td>\n      <td>2</td>\n      <td>yes</td>\n      <td>yes</td>\n      <td>unknown</td>\n      <td>5</td>\n      <td>may</td>\n      <td>76</td>\n      <td>1</td>\n      <td>-1</td>\n      <td>0</td>\n      <td>unknown</td>\n      <td>no</td>\n      <td>0.072832</td>\n      <td>1</td>\n      <td>5</td>\n    </tr>\n    <tr>\n      <th>3</th>\n      <td>47</td>\n      <td>blue-collar</td>\n      <td>married</td>\n      <td>unknown</td>\n      <td>no</td>\n      <td>1506</td>\n      <td>yes</td>\n      <td>no</td>\n      <td>unknown</td>\n      <td>5</td>\n      <td>may</td>\n      <td>92</td>\n      <td>1</td>\n      <td>-1</td>\n      <td>0</td>\n      <td>unknown</td>\n      <td>no</td>\n      <td>0.086486</td>\n      <td>5</td>\n      <td>5</td>\n    </tr>\n    <tr>\n      <th>4</th>\n      <td>33</td>\n      <td>unknown</td>\n      <td>single</td>\n      <td>unknown</td>\n      <td>no</td>\n      <td>1</td>\n      <td>no</td>\n      <td>no</td>\n      <td>unknown</td>\n      <td>5</td>\n      <td>may</td>\n      <td>198</td>\n      <td>1</td>\n      <td>-1</td>\n      <td>0</td>\n      <td>unknown</td>\n      <td>no</td>\n      <td>0.072822</td>\n      <td>5</td>\n      <td>1</td>\n    </tr>\n  </tbody>\n</table>\n</div>"
     },
     "metadata": {},
     "execution_count": 5
    }
   ],
   "source": [
    "# Let us transform values for Housing data\n",
    "bankData['houseTran'] = 5\n",
    "\n",
    "bankData.loc[bankData['housing'] == 'no', 'houseTran'] = 1\n",
    "\n",
    "bankData.head()"
   ]
  },
  {
   "cell_type": "code",
   "execution_count": 6,
   "metadata": {},
   "outputs": [
    {
     "output_type": "execute_result",
     "data": {
      "text/plain": "   age           job  marital  ... loanTran houseTran  assetIndex\n0   58    management  married  ...        5         5    2.306734\n1   44    technician   single  ...        5         5    1.826916\n2   33  entrepreneur  married  ...        1         5    0.364158\n3   47   blue-collar  married  ...        5         5    2.162153\n4   33       unknown   single  ...        5         1    0.364112\n\n[5 rows x 21 columns]",
      "text/html": "<div>\n<style scoped>\n    .dataframe tbody tr th:only-of-type {\n        vertical-align: middle;\n    }\n\n    .dataframe tbody tr th {\n        vertical-align: top;\n    }\n\n    .dataframe thead th {\n        text-align: right;\n    }\n</style>\n<table border=\"1\" class=\"dataframe\">\n  <thead>\n    <tr style=\"text-align: right;\">\n      <th></th>\n      <th>age</th>\n      <th>job</th>\n      <th>marital</th>\n      <th>education</th>\n      <th>default</th>\n      <th>balance</th>\n      <th>housing</th>\n      <th>loan</th>\n      <th>contact</th>\n      <th>day</th>\n      <th>month</th>\n      <th>duration</th>\n      <th>campaign</th>\n      <th>pdays</th>\n      <th>previous</th>\n      <th>poutcome</th>\n      <th>y</th>\n      <th>balanceTran</th>\n      <th>loanTran</th>\n      <th>houseTran</th>\n      <th>assetIndex</th>\n    </tr>\n  </thead>\n  <tbody>\n    <tr>\n      <th>0</th>\n      <td>58</td>\n      <td>management</td>\n      <td>married</td>\n      <td>tertiary</td>\n      <td>no</td>\n      <td>2143</td>\n      <td>yes</td>\n      <td>no</td>\n      <td>unknown</td>\n      <td>5</td>\n      <td>may</td>\n      <td>261</td>\n      <td>1</td>\n      <td>-1</td>\n      <td>0</td>\n      <td>unknown</td>\n      <td>no</td>\n      <td>0.092269</td>\n      <td>5</td>\n      <td>5</td>\n      <td>2.306734</td>\n    </tr>\n    <tr>\n      <th>1</th>\n      <td>44</td>\n      <td>technician</td>\n      <td>single</td>\n      <td>secondary</td>\n      <td>no</td>\n      <td>29</td>\n      <td>yes</td>\n      <td>no</td>\n      <td>unknown</td>\n      <td>5</td>\n      <td>may</td>\n      <td>151</td>\n      <td>1</td>\n      <td>-1</td>\n      <td>0</td>\n      <td>unknown</td>\n      <td>no</td>\n      <td>0.073077</td>\n      <td>5</td>\n      <td>5</td>\n      <td>1.826916</td>\n    </tr>\n    <tr>\n      <th>2</th>\n      <td>33</td>\n      <td>entrepreneur</td>\n      <td>married</td>\n      <td>secondary</td>\n      <td>no</td>\n      <td>2</td>\n      <td>yes</td>\n      <td>yes</td>\n      <td>unknown</td>\n      <td>5</td>\n      <td>may</td>\n      <td>76</td>\n      <td>1</td>\n      <td>-1</td>\n      <td>0</td>\n      <td>unknown</td>\n      <td>no</td>\n      <td>0.072832</td>\n      <td>1</td>\n      <td>5</td>\n      <td>0.364158</td>\n    </tr>\n    <tr>\n      <th>3</th>\n      <td>47</td>\n      <td>blue-collar</td>\n      <td>married</td>\n      <td>unknown</td>\n      <td>no</td>\n      <td>1506</td>\n      <td>yes</td>\n      <td>no</td>\n      <td>unknown</td>\n      <td>5</td>\n      <td>may</td>\n      <td>92</td>\n      <td>1</td>\n      <td>-1</td>\n      <td>0</td>\n      <td>unknown</td>\n      <td>no</td>\n      <td>0.086486</td>\n      <td>5</td>\n      <td>5</td>\n      <td>2.162153</td>\n    </tr>\n    <tr>\n      <th>4</th>\n      <td>33</td>\n      <td>unknown</td>\n      <td>single</td>\n      <td>unknown</td>\n      <td>no</td>\n      <td>1</td>\n      <td>no</td>\n      <td>no</td>\n      <td>unknown</td>\n      <td>5</td>\n      <td>may</td>\n      <td>198</td>\n      <td>1</td>\n      <td>-1</td>\n      <td>0</td>\n      <td>unknown</td>\n      <td>no</td>\n      <td>0.072822</td>\n      <td>5</td>\n      <td>1</td>\n      <td>0.364112</td>\n    </tr>\n  </tbody>\n</table>\n</div>"
     },
     "metadata": {},
     "execution_count": 6
    }
   ],
   "source": [
    "# Let us now create the new variable which is a product of all these\n",
    "bankData['assetIndex'] = bankData['balanceTran'] * bankData['loanTran'] * bankData['houseTran']\n",
    "bankData.head()"
   ]
  },
  {
   "cell_type": "code",
   "execution_count": 7,
   "metadata": {},
   "outputs": [
    {
     "output_type": "execute_result",
     "data": {
      "text/plain": "array([0.37668646, 0.56920367, 1.9027249 ])"
     },
     "metadata": {},
     "execution_count": 7
    }
   ],
   "source": [
    "# Finding the quantile\n",
    "np.quantile(bankData['assetIndex'], [0.25, 0.5, 0.75])"
   ]
  },
  {
   "cell_type": "code",
   "execution_count": 8,
   "metadata": {
    "tags": []
   },
   "outputs": [
    {
     "output_type": "stream",
     "name": "stdout",
     "text": "\n"
    },
    {
     "output_type": "execute_result",
     "data": {
      "text/plain": "   age           job  marital  ... houseTran assetIndex  assetClass\n0   58    management  married  ...         5   2.306734      Quant4\n1   44    technician   single  ...         5   1.826916      Quant2\n2   33  entrepreneur  married  ...         5   0.364158      Quant1\n3   47   blue-collar  married  ...         5   2.162153      Quant4\n4   33       unknown   single  ...         1   0.364112      Quant1\n\n[5 rows x 22 columns]",
      "text/html": "<div>\n<style scoped>\n    .dataframe tbody tr th:only-of-type {\n        vertical-align: middle;\n    }\n\n    .dataframe tbody tr th {\n        vertical-align: top;\n    }\n\n    .dataframe thead th {\n        text-align: right;\n    }\n</style>\n<table border=\"1\" class=\"dataframe\">\n  <thead>\n    <tr style=\"text-align: right;\">\n      <th></th>\n      <th>age</th>\n      <th>job</th>\n      <th>marital</th>\n      <th>education</th>\n      <th>default</th>\n      <th>balance</th>\n      <th>housing</th>\n      <th>loan</th>\n      <th>contact</th>\n      <th>day</th>\n      <th>month</th>\n      <th>duration</th>\n      <th>campaign</th>\n      <th>pdays</th>\n      <th>previous</th>\n      <th>poutcome</th>\n      <th>y</th>\n      <th>balanceTran</th>\n      <th>loanTran</th>\n      <th>houseTran</th>\n      <th>assetIndex</th>\n      <th>assetClass</th>\n    </tr>\n  </thead>\n  <tbody>\n    <tr>\n      <th>0</th>\n      <td>58</td>\n      <td>management</td>\n      <td>married</td>\n      <td>tertiary</td>\n      <td>no</td>\n      <td>2143</td>\n      <td>yes</td>\n      <td>no</td>\n      <td>unknown</td>\n      <td>5</td>\n      <td>may</td>\n      <td>261</td>\n      <td>1</td>\n      <td>-1</td>\n      <td>0</td>\n      <td>unknown</td>\n      <td>no</td>\n      <td>0.092269</td>\n      <td>5</td>\n      <td>5</td>\n      <td>2.306734</td>\n      <td>Quant4</td>\n    </tr>\n    <tr>\n      <th>1</th>\n      <td>44</td>\n      <td>technician</td>\n      <td>single</td>\n      <td>secondary</td>\n      <td>no</td>\n      <td>29</td>\n      <td>yes</td>\n      <td>no</td>\n      <td>unknown</td>\n      <td>5</td>\n      <td>may</td>\n      <td>151</td>\n      <td>1</td>\n      <td>-1</td>\n      <td>0</td>\n      <td>unknown</td>\n      <td>no</td>\n      <td>0.073077</td>\n      <td>5</td>\n      <td>5</td>\n      <td>1.826916</td>\n      <td>Quant2</td>\n    </tr>\n    <tr>\n      <th>2</th>\n      <td>33</td>\n      <td>entrepreneur</td>\n      <td>married</td>\n      <td>secondary</td>\n      <td>no</td>\n      <td>2</td>\n      <td>yes</td>\n      <td>yes</td>\n      <td>unknown</td>\n      <td>5</td>\n      <td>may</td>\n      <td>76</td>\n      <td>1</td>\n      <td>-1</td>\n      <td>0</td>\n      <td>unknown</td>\n      <td>no</td>\n      <td>0.072832</td>\n      <td>1</td>\n      <td>5</td>\n      <td>0.364158</td>\n      <td>Quant1</td>\n    </tr>\n    <tr>\n      <th>3</th>\n      <td>47</td>\n      <td>blue-collar</td>\n      <td>married</td>\n      <td>unknown</td>\n      <td>no</td>\n      <td>1506</td>\n      <td>yes</td>\n      <td>no</td>\n      <td>unknown</td>\n      <td>5</td>\n      <td>may</td>\n      <td>92</td>\n      <td>1</td>\n      <td>-1</td>\n      <td>0</td>\n      <td>unknown</td>\n      <td>no</td>\n      <td>0.086486</td>\n      <td>5</td>\n      <td>5</td>\n      <td>2.162153</td>\n      <td>Quant4</td>\n    </tr>\n    <tr>\n      <th>4</th>\n      <td>33</td>\n      <td>unknown</td>\n      <td>single</td>\n      <td>unknown</td>\n      <td>no</td>\n      <td>1</td>\n      <td>no</td>\n      <td>no</td>\n      <td>unknown</td>\n      <td>5</td>\n      <td>may</td>\n      <td>198</td>\n      <td>1</td>\n      <td>-1</td>\n      <td>0</td>\n      <td>unknown</td>\n      <td>no</td>\n      <td>0.072822</td>\n      <td>5</td>\n      <td>1</td>\n      <td>0.364112</td>\n      <td>Quant1</td>\n    </tr>\n  </tbody>\n</table>\n</div>"
     },
     "metadata": {},
     "execution_count": 8
    }
   ],
   "source": [
    "bankData['assetClass'] = 'Quant1'\n",
    "bankData.loc[(bankData['assetIndex'] > 0.38) & (bankData['assetIndex'] < 0.57), 'assetClass'] = 'Quant2'\n",
    "bankData.loc[(bankData['assetIndex'] > 0.57) & (bankData['assetIndex'] < 1.9), 'assetClass'] = 'Quant2'\n",
    "bankData.loc[bankData['assetIndex'] > 1.9, 'assetClass'] = 'Quant4'\n",
    "bankData.head()\n",
    "print()\n",
    "bankData.assetClass[bankData['assetIndex'] > 1.9] = 'Quant4'\n",
    "bankData.head()"
   ]
  },
  {
   "cell_type": "code",
   "execution_count": 9,
   "metadata": {},
   "outputs": [
    {
     "output_type": "execute_result",
     "data": {
      "text/plain": "  assetClass    y  assetCat  assetTot    catProp\n0     Quant1   no     10921     12212  89.428431\n1     Quant1  yes      1291     12212  10.571569\n2     Quant2   no     18580     21521  86.334278\n3     Quant2  yes      2941     21521  13.665722\n4     Quant4   no     10421     11478  90.791079\n5     Quant4  yes      1057     11478   9.208921",
      "text/html": "<div>\n<style scoped>\n    .dataframe tbody tr th:only-of-type {\n        vertical-align: middle;\n    }\n\n    .dataframe tbody tr th {\n        vertical-align: top;\n    }\n\n    .dataframe thead th {\n        text-align: right;\n    }\n</style>\n<table border=\"1\" class=\"dataframe\">\n  <thead>\n    <tr style=\"text-align: right;\">\n      <th></th>\n      <th>assetClass</th>\n      <th>y</th>\n      <th>assetCat</th>\n      <th>assetTot</th>\n      <th>catProp</th>\n    </tr>\n  </thead>\n  <tbody>\n    <tr>\n      <th>0</th>\n      <td>Quant1</td>\n      <td>no</td>\n      <td>10921</td>\n      <td>12212</td>\n      <td>89.428431</td>\n    </tr>\n    <tr>\n      <th>1</th>\n      <td>Quant1</td>\n      <td>yes</td>\n      <td>1291</td>\n      <td>12212</td>\n      <td>10.571569</td>\n    </tr>\n    <tr>\n      <th>2</th>\n      <td>Quant2</td>\n      <td>no</td>\n      <td>18580</td>\n      <td>21521</td>\n      <td>86.334278</td>\n    </tr>\n    <tr>\n      <th>3</th>\n      <td>Quant2</td>\n      <td>yes</td>\n      <td>2941</td>\n      <td>21521</td>\n      <td>13.665722</td>\n    </tr>\n    <tr>\n      <th>4</th>\n      <td>Quant4</td>\n      <td>no</td>\n      <td>10421</td>\n      <td>11478</td>\n      <td>90.791079</td>\n    </tr>\n    <tr>\n      <th>5</th>\n      <td>Quant4</td>\n      <td>yes</td>\n      <td>1057</td>\n      <td>11478</td>\n      <td>9.208921</td>\n    </tr>\n  </tbody>\n</table>\n</div>"
     },
     "metadata": {},
     "execution_count": 9
    }
   ],
   "source": [
    "# Calculating total of each asset class\n",
    "assetTot = bankData.groupby('assetClass')['y'].agg(assetTot='count').reset_index()\n",
    "\n",
    "# Calculating the category wise counts\n",
    "assetProp = bankData.groupby(['assetClass', 'y'])['y'].agg(assetCat='count').reset_index()\n",
    "\n",
    "# Merge both the data frames\n",
    "assetComb = pd.merge(assetProp, assetTot, on = ['assetClass'])\n",
    "assetComb['catProp'] = (assetComb.assetCat / assetComb.assetTot) * 100\n",
    "assetComb"
   ]
  },
  {
   "cell_type": "code",
   "execution_count": 10,
   "metadata": {
    "tags": []
   },
   "outputs": [
    {
     "output_type": "stream",
     "name": "stdout",
     "text": "age              int64\njob             object\nmarital         object\neducation       object\ndefault         object\nbalance          int64\nhousing         object\nloan            object\ncontact         object\nday              int64\nmonth           object\nduration         int64\ncampaign         int64\npdays            int64\nprevious         int64\npoutcome        object\ny               object\nbalanceTran    float64\nloanTran         int64\nhouseTran        int64\nassetIndex     float64\nassetClass      object\ndtype: object\n<bound method NDFrame.describe of        age           job   marital  ... houseTran assetIndex  assetClass\n0       58    management   married  ...         5   2.306734      Quant4\n1       44    technician    single  ...         5   1.826916      Quant2\n2       33  entrepreneur   married  ...         5   0.364158      Quant1\n3       47   blue-collar   married  ...         5   2.162153      Quant4\n4       33       unknown    single  ...         1   0.364112      Quant1\n...    ...           ...       ...  ...       ...        ...         ...\n45206   51    technician   married  ...         1   0.401517      Quant2\n45207   71       retired  divorced  ...         1   0.442554      Quant2\n45208   72       retired   married  ...         1   0.623495      Quant2\n45209   57   blue-collar   married  ...         1   0.394390      Quant2\n45210   37  entrepreneur   married  ...         1   0.498933      Quant2\n\n[45211 rows x 22 columns]>\n"
    }
   ],
   "source": [
    "# Looking at Data Types\n",
    "print(bankData.dtypes)\n",
    "# Looking at descriptive statistics\n",
    "print(bankData.describe)"
   ]
  },
  {
   "cell_type": "code",
   "execution_count": null,
   "metadata": {},
   "outputs": [],
   "source": []
  }
 ]
}