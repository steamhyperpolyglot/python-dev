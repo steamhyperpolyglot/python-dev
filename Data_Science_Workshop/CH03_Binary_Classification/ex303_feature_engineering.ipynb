{
 "metadata": {
  "language_info": {
   "codemirror_mode": {
    "name": "ipython",
    "version": 3
   },
   "file_extension": ".py",
   "mimetype": "text/x-python",
   "name": "python",
   "nbconvert_exporter": "python",
   "pygments_lexer": "ipython3",
   "version": 3
  },
  "orig_nbformat": 2,
  "kernelspec": {
   "name": "python_defaultSpec_1596147199559",
   "display_name": "Python 3.8.2 64-bit"
  }
 },
 "nbformat": 4,
 "nbformat_minor": 2,
 "cells": [
  {
   "cell_type": "code",
   "execution_count": 1,
   "metadata": {},
   "outputs": [
    {
     "output_type": "execute_result",
     "data": {
      "text/plain": "  housing    y  houseTot\n0      no   no     16727\n1      no  yes      3354\n2     yes   no     23195\n3     yes  yes      1935",
      "text/html": "<div>\n<style scoped>\n    .dataframe tbody tr th:only-of-type {\n        vertical-align: middle;\n    }\n\n    .dataframe tbody tr th {\n        vertical-align: top;\n    }\n\n    .dataframe thead th {\n        text-align: right;\n    }\n</style>\n<table border=\"1\" class=\"dataframe\">\n  <thead>\n    <tr style=\"text-align: right;\">\n      <th></th>\n      <th>housing</th>\n      <th>y</th>\n      <th>houseTot</th>\n    </tr>\n  </thead>\n  <tbody>\n    <tr>\n      <th>0</th>\n      <td>no</td>\n      <td>no</td>\n      <td>16727</td>\n    </tr>\n    <tr>\n      <th>1</th>\n      <td>no</td>\n      <td>yes</td>\n      <td>3354</td>\n    </tr>\n    <tr>\n      <th>2</th>\n      <td>yes</td>\n      <td>no</td>\n      <td>23195</td>\n    </tr>\n    <tr>\n      <th>3</th>\n      <td>yes</td>\n      <td>yes</td>\n      <td>1935</td>\n    </tr>\n  </tbody>\n</table>\n</div>"
     },
     "metadata": {},
     "execution_count": 1
    }
   ],
   "source": [
    "import pandas as pd\n",
    "\n",
    "file_url = \"D:\\RnD\\python-dev\\Data_Science_Workshop\\CH03_Binary_Classification\\\\bank-full.csv\"\n",
    "\n",
    "# Reading the banking data\n",
    "bankData = pd.read_csv(file_url, sep=\";\")\n",
    "\n",
    "# Relationship between housing and propensity for term deposits\n",
    "bankData.groupby(['housing', 'y'])['y'].agg(houseTot='count').reset_index()"
   ]
  },
  {
   "cell_type": "code",
   "execution_count": 2,
   "metadata": {},
   "outputs": [
    {
     "output_type": "execute_result",
     "data": {
      "text/plain": "  loan    y  loanTot\n0   no   no    33162\n1   no  yes     4805\n2  yes   no     6760\n3  yes  yes      484",
      "text/html": "<div>\n<style scoped>\n    .dataframe tbody tr th:only-of-type {\n        vertical-align: middle;\n    }\n\n    .dataframe tbody tr th {\n        vertical-align: top;\n    }\n\n    .dataframe thead th {\n        text-align: right;\n    }\n</style>\n<table border=\"1\" class=\"dataframe\">\n  <thead>\n    <tr style=\"text-align: right;\">\n      <th></th>\n      <th>loan</th>\n      <th>y</th>\n      <th>loanTot</th>\n    </tr>\n  </thead>\n  <tbody>\n    <tr>\n      <th>0</th>\n      <td>no</td>\n      <td>no</td>\n      <td>33162</td>\n    </tr>\n    <tr>\n      <th>1</th>\n      <td>no</td>\n      <td>yes</td>\n      <td>4805</td>\n    </tr>\n    <tr>\n      <th>2</th>\n      <td>yes</td>\n      <td>no</td>\n      <td>6760</td>\n    </tr>\n    <tr>\n      <th>3</th>\n      <td>yes</td>\n      <td>yes</td>\n      <td>484</td>\n    </tr>\n  </tbody>\n</table>\n</div>"
     },
     "metadata": {},
     "execution_count": 2
    }
   ],
   "source": [
    "# Relationship between having a loan and propensity for term deposits\n",
    "bankData.groupby(['loan', 'y'])['y'].agg(loanTot = 'count').reset_index()"
   ]
  },
  {
   "cell_type": "code",
   "execution_count": 3,
   "metadata": {},
   "outputs": [
    {
     "output_type": "execute_result",
     "data": {
      "text/plain": "array([  72.,  448., 1428.])"
     },
     "metadata": {},
     "execution_count": 3
    }
   ],
   "source": [
    "# Taking the quantiles for 25%, 50% and 75% of the balance data\n",
    "import numpy as np\n",
    "np.quantile(bankData['balance'], [0.25, 0.5, 0.75])"
   ]
  },
  {
   "cell_type": "code",
   "execution_count": 4,
   "metadata": {},
   "outputs": [
    {
     "output_type": "execute_result",
     "data": {
      "text/plain": "   age           job  marital  education  ... previous  poutcome   y balanceClass\n0   58    management  married   tertiary  ...        0   unknown  no       Quant4\n1   44    technician   single  secondary  ...        0   unknown  no       Quant1\n2   33  entrepreneur  married  secondary  ...        0   unknown  no       Quant1\n3   47   blue-collar  married    unknown  ...        0   unknown  no       Quant4\n4   33       unknown   single    unknown  ...        0   unknown  no       Quant1\n\n[5 rows x 18 columns]",
      "text/html": "<div>\n<style scoped>\n    .dataframe tbody tr th:only-of-type {\n        vertical-align: middle;\n    }\n\n    .dataframe tbody tr th {\n        vertical-align: top;\n    }\n\n    .dataframe thead th {\n        text-align: right;\n    }\n</style>\n<table border=\"1\" class=\"dataframe\">\n  <thead>\n    <tr style=\"text-align: right;\">\n      <th></th>\n      <th>age</th>\n      <th>job</th>\n      <th>marital</th>\n      <th>education</th>\n      <th>default</th>\n      <th>balance</th>\n      <th>housing</th>\n      <th>loan</th>\n      <th>contact</th>\n      <th>day</th>\n      <th>month</th>\n      <th>duration</th>\n      <th>campaign</th>\n      <th>pdays</th>\n      <th>previous</th>\n      <th>poutcome</th>\n      <th>y</th>\n      <th>balanceClass</th>\n    </tr>\n  </thead>\n  <tbody>\n    <tr>\n      <th>0</th>\n      <td>58</td>\n      <td>management</td>\n      <td>married</td>\n      <td>tertiary</td>\n      <td>no</td>\n      <td>2143</td>\n      <td>yes</td>\n      <td>no</td>\n      <td>unknown</td>\n      <td>5</td>\n      <td>may</td>\n      <td>261</td>\n      <td>1</td>\n      <td>-1</td>\n      <td>0</td>\n      <td>unknown</td>\n      <td>no</td>\n      <td>Quant4</td>\n    </tr>\n    <tr>\n      <th>1</th>\n      <td>44</td>\n      <td>technician</td>\n      <td>single</td>\n      <td>secondary</td>\n      <td>no</td>\n      <td>29</td>\n      <td>yes</td>\n      <td>no</td>\n      <td>unknown</td>\n      <td>5</td>\n      <td>may</td>\n      <td>151</td>\n      <td>1</td>\n      <td>-1</td>\n      <td>0</td>\n      <td>unknown</td>\n      <td>no</td>\n      <td>Quant1</td>\n    </tr>\n    <tr>\n      <th>2</th>\n      <td>33</td>\n      <td>entrepreneur</td>\n      <td>married</td>\n      <td>secondary</td>\n      <td>no</td>\n      <td>2</td>\n      <td>yes</td>\n      <td>yes</td>\n      <td>unknown</td>\n      <td>5</td>\n      <td>may</td>\n      <td>76</td>\n      <td>1</td>\n      <td>-1</td>\n      <td>0</td>\n      <td>unknown</td>\n      <td>no</td>\n      <td>Quant1</td>\n    </tr>\n    <tr>\n      <th>3</th>\n      <td>47</td>\n      <td>blue-collar</td>\n      <td>married</td>\n      <td>unknown</td>\n      <td>no</td>\n      <td>1506</td>\n      <td>yes</td>\n      <td>no</td>\n      <td>unknown</td>\n      <td>5</td>\n      <td>may</td>\n      <td>92</td>\n      <td>1</td>\n      <td>-1</td>\n      <td>0</td>\n      <td>unknown</td>\n      <td>no</td>\n      <td>Quant4</td>\n    </tr>\n    <tr>\n      <th>4</th>\n      <td>33</td>\n      <td>unknown</td>\n      <td>single</td>\n      <td>unknown</td>\n      <td>no</td>\n      <td>1</td>\n      <td>no</td>\n      <td>no</td>\n      <td>unknown</td>\n      <td>5</td>\n      <td>may</td>\n      <td>198</td>\n      <td>1</td>\n      <td>-1</td>\n      <td>0</td>\n      <td>unknown</td>\n      <td>no</td>\n      <td>Quant1</td>\n    </tr>\n  </tbody>\n</table>\n</div>"
     },
     "metadata": {},
     "execution_count": 4
    }
   ],
   "source": [
    "bankData['balanceClass'] = 'Quant1'\n",
    "bankData.loc[(bankData['balance'] > 72) & (bankData['balance'] < 448), 'balanceClass'] = 'Quant2'\n",
    "bankData.loc[(bankData['balance'] > 448) & (bankData['balance'] < 1428), 'balanceClass'] = 'Quant3'\n",
    "bankData.loc[bankData['balance'] > 1428, 'balanceClass'] = 'Quant4'\n",
    "bankData.head()"
   ]
  },
  {
   "cell_type": "code",
   "execution_count": 6,
   "metadata": {},
   "outputs": [
    {
     "output_type": "execute_result",
     "data": {
      "text/plain": "  balanceClass  balanceTot\n0       Quant1       11340\n1       Quant2       11275\n2       Quant3       11299\n3       Quant4       11297",
      "text/html": "<div>\n<style scoped>\n    .dataframe tbody tr th:only-of-type {\n        vertical-align: middle;\n    }\n\n    .dataframe tbody tr th {\n        vertical-align: top;\n    }\n\n    .dataframe thead th {\n        text-align: right;\n    }\n</style>\n<table border=\"1\" class=\"dataframe\">\n  <thead>\n    <tr style=\"text-align: right;\">\n      <th></th>\n      <th>balanceClass</th>\n      <th>balanceTot</th>\n    </tr>\n  </thead>\n  <tbody>\n    <tr>\n      <th>0</th>\n      <td>Quant1</td>\n      <td>11340</td>\n    </tr>\n    <tr>\n      <th>1</th>\n      <td>Quant2</td>\n      <td>11275</td>\n    </tr>\n    <tr>\n      <th>2</th>\n      <td>Quant3</td>\n      <td>11299</td>\n    </tr>\n    <tr>\n      <th>3</th>\n      <td>Quant4</td>\n      <td>11297</td>\n    </tr>\n  </tbody>\n</table>\n</div>"
     },
     "metadata": {},
     "execution_count": 6
    }
   ],
   "source": [
    "# Calculating the customers under each quantile\n",
    "balanceTot = bankData.groupby(['balanceClass'])['y'].agg(balanceTot = 'count').reset_index()\n",
    "balanceTot"
   ]
  },
  {
   "cell_type": "code",
   "execution_count": 7,
   "metadata": {},
   "outputs": [
    {
     "output_type": "execute_result",
     "data": {
      "text/plain": "  balanceClass    y  balanceCat\n0       Quant1   no       10517\n1       Quant1  yes         823\n2       Quant2   no       10049\n3       Quant2  yes        1226\n4       Quant3   no        9884\n5       Quant3  yes        1415\n6       Quant4   no        9472\n7       Quant4  yes        1825",
      "text/html": "<div>\n<style scoped>\n    .dataframe tbody tr th:only-of-type {\n        vertical-align: middle;\n    }\n\n    .dataframe tbody tr th {\n        vertical-align: top;\n    }\n\n    .dataframe thead th {\n        text-align: right;\n    }\n</style>\n<table border=\"1\" class=\"dataframe\">\n  <thead>\n    <tr style=\"text-align: right;\">\n      <th></th>\n      <th>balanceClass</th>\n      <th>y</th>\n      <th>balanceCat</th>\n    </tr>\n  </thead>\n  <tbody>\n    <tr>\n      <th>0</th>\n      <td>Quant1</td>\n      <td>no</td>\n      <td>10517</td>\n    </tr>\n    <tr>\n      <th>1</th>\n      <td>Quant1</td>\n      <td>yes</td>\n      <td>823</td>\n    </tr>\n    <tr>\n      <th>2</th>\n      <td>Quant2</td>\n      <td>no</td>\n      <td>10049</td>\n    </tr>\n    <tr>\n      <th>3</th>\n      <td>Quant2</td>\n      <td>yes</td>\n      <td>1226</td>\n    </tr>\n    <tr>\n      <th>4</th>\n      <td>Quant3</td>\n      <td>no</td>\n      <td>9884</td>\n    </tr>\n    <tr>\n      <th>5</th>\n      <td>Quant3</td>\n      <td>yes</td>\n      <td>1415</td>\n    </tr>\n    <tr>\n      <th>6</th>\n      <td>Quant4</td>\n      <td>no</td>\n      <td>9472</td>\n    </tr>\n    <tr>\n      <th>7</th>\n      <td>Quant4</td>\n      <td>yes</td>\n      <td>1825</td>\n    </tr>\n  </tbody>\n</table>\n</div>"
     },
     "metadata": {},
     "execution_count": 7
    }
   ],
   "source": [
    "# Calculating the total customers categorised as per quantile and propensity classification\n",
    "balanceProp = bankData.groupby(['balanceClass', 'y'])['y'].agg(balanceCat='count').reset_index()\n",
    "balanceProp"
   ]
  },
  {
   "cell_type": "code",
   "execution_count": 8,
   "metadata": {},
   "outputs": [
    {
     "output_type": "execute_result",
     "data": {
      "text/plain": "  balanceClass    y  balanceCat  balanceTot    catProp\n0       Quant1   no       10517       11340  92.742504\n1       Quant1  yes         823       11340   7.257496\n2       Quant2   no       10049       11275  89.126386\n3       Quant2  yes        1226       11275  10.873614\n4       Quant3   no        9884       11299  87.476768\n5       Quant3  yes        1415       11299  12.523232\n6       Quant4   no        9472       11297  83.845269\n7       Quant4  yes        1825       11297  16.154731",
      "text/html": "<div>\n<style scoped>\n    .dataframe tbody tr th:only-of-type {\n        vertical-align: middle;\n    }\n\n    .dataframe tbody tr th {\n        vertical-align: top;\n    }\n\n    .dataframe thead th {\n        text-align: right;\n    }\n</style>\n<table border=\"1\" class=\"dataframe\">\n  <thead>\n    <tr style=\"text-align: right;\">\n      <th></th>\n      <th>balanceClass</th>\n      <th>y</th>\n      <th>balanceCat</th>\n      <th>balanceTot</th>\n      <th>catProp</th>\n    </tr>\n  </thead>\n  <tbody>\n    <tr>\n      <th>0</th>\n      <td>Quant1</td>\n      <td>no</td>\n      <td>10517</td>\n      <td>11340</td>\n      <td>92.742504</td>\n    </tr>\n    <tr>\n      <th>1</th>\n      <td>Quant1</td>\n      <td>yes</td>\n      <td>823</td>\n      <td>11340</td>\n      <td>7.257496</td>\n    </tr>\n    <tr>\n      <th>2</th>\n      <td>Quant2</td>\n      <td>no</td>\n      <td>10049</td>\n      <td>11275</td>\n      <td>89.126386</td>\n    </tr>\n    <tr>\n      <th>3</th>\n      <td>Quant2</td>\n      <td>yes</td>\n      <td>1226</td>\n      <td>11275</td>\n      <td>10.873614</td>\n    </tr>\n    <tr>\n      <th>4</th>\n      <td>Quant3</td>\n      <td>no</td>\n      <td>9884</td>\n      <td>11299</td>\n      <td>87.476768</td>\n    </tr>\n    <tr>\n      <th>5</th>\n      <td>Quant3</td>\n      <td>yes</td>\n      <td>1415</td>\n      <td>11299</td>\n      <td>12.523232</td>\n    </tr>\n    <tr>\n      <th>6</th>\n      <td>Quant4</td>\n      <td>no</td>\n      <td>9472</td>\n      <td>11297</td>\n      <td>83.845269</td>\n    </tr>\n    <tr>\n      <th>7</th>\n      <td>Quant4</td>\n      <td>yes</td>\n      <td>1825</td>\n      <td>11297</td>\n      <td>16.154731</td>\n    </tr>\n  </tbody>\n</table>\n</div>"
     },
     "metadata": {},
     "execution_count": 8
    }
   ],
   "source": [
    "# Merging both the data frames\n",
    "balanceComb = pd.merge(balanceProp, balanceTot, on = ['balanceClass'])\n",
    "balanceComb['catProp'] = (balanceComb.balanceCat / balanceComb.balanceTot) * 100\n",
    "balanceComb"
   ]
  },
  {
   "cell_type": "code",
   "execution_count": null,
   "metadata": {},
   "outputs": [],
   "source": []
  }
 ]
}