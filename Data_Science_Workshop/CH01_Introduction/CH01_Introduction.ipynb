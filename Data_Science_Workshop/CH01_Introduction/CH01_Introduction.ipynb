{
 "cells": [
  {
   "cell_type": "code",
   "execution_count": 1,
   "metadata": {},
   "outputs": [
    {
     "output_type": "execute_result",
     "data": {
      "text/plain": "168.88"
     },
     "metadata": {},
     "execution_count": 1
    }
   ],
   "source": [
    "var1 = 8\n",
    "var2 = 160.88\n",
    "var1 + var2"
   ]
  },
  {
   "cell_type": "code",
   "execution_count": 2,
   "metadata": {},
   "outputs": [
    {
     "output_type": "stream",
     "name": "stdout",
     "text": "Hello, \nWorld\n"
    }
   ],
   "source": [
    "var3 = 'Hello, '\n",
    "var4 = 'World'\n",
    "print(var3)\n",
    "print(var4)"
   ]
  },
  {
   "cell_type": "code",
   "execution_count": 4,
   "metadata": {},
   "outputs": [
    {
     "output_type": "stream",
     "name": "stdout",
     "text": "Text: Hello, World!\n"
    }
   ],
   "source": [
    "print(f\"Text: {var3}{var4}!\")"
   ]
  },
  {
   "cell_type": "code",
   "execution_count": 5,
   "metadata": {},
   "outputs": [
    {
     "output_type": "execute_result",
     "data": {
      "text/plain": "'Hello, World'"
     },
     "metadata": {},
     "execution_count": 5
    }
   ],
   "source": [
    "var3 + var4"
   ]
  },
  {
   "cell_type": "code",
   "execution_count": 6,
   "metadata": {},
   "outputs": [
    {
     "output_type": "stream",
     "name": "stdout",
     "text": "['I', 'love', 'data', 'science']\n"
    }
   ],
   "source": [
    "var5 = ['I', 'love', 'data', 'science']\n",
    "print(var5)"
   ]
  },
  {
   "cell_type": "code",
   "execution_count": 7,
   "metadata": {},
   "outputs": [
    {
     "output_type": "stream",
     "name": "stdout",
     "text": "['Packt', 15019, 2020, 'Data Science']\n"
    }
   ],
   "source": [
    "var6 = ['Packt', 15019, 2020, 'Data Science']\n",
    "print(var6)"
   ]
  },
  {
   "cell_type": "code",
   "execution_count": 8,
   "metadata": {},
   "outputs": [
    {
     "output_type": "stream",
     "name": "stdout",
     "text": "Packt\n2020\n"
    }
   ],
   "source": [
    "print(var6[0])\n",
    "print(var6[2])"
   ]
  },
  {
   "cell_type": "code",
   "execution_count": 9,
   "metadata": {},
   "outputs": [
    {
     "output_type": "stream",
     "name": "stdout",
     "text": "['Packt', 15019, 2020]\n"
    }
   ],
   "source": [
    "print(var6[0:3])"
   ]
  },
  {
   "cell_type": "code",
   "execution_count": 10,
   "metadata": {},
   "outputs": [
    {
     "output_type": "stream",
     "name": "stdout",
     "text": "Packt\n15019\n2020\nData Science\n"
    }
   ],
   "source": [
    "for item in var6:\n",
    "    print(item)"
   ]
  },
  {
   "cell_type": "code",
   "execution_count": 11,
   "metadata": {},
   "outputs": [
    {
     "output_type": "stream",
     "name": "stdout",
     "text": "['Packt', 15019, 2020, 'Data Science', 'Python']\n"
    }
   ],
   "source": [
    "var6.append('Python')\n",
    "print(var6)"
   ]
  },
  {
   "cell_type": "code",
   "execution_count": 12,
   "metadata": {},
   "outputs": [
    {
     "output_type": "stream",
     "name": "stdout",
     "text": "['Packt', 2020, 'Data Science', 'Python']\n"
    }
   ],
   "source": [
    "var6.remove(15019)\n",
    "print(var6)"
   ]
  },
  {
   "cell_type": "code",
   "execution_count": 13,
   "metadata": {},
   "outputs": [
    {
     "output_type": "stream",
     "name": "stdout",
     "text": "{'Topic': 'Data Science', 'Language': 'Python'}\n"
    }
   ],
   "source": [
    "var7 = { 'Topic': 'Data Science', 'Language': 'Python' }\n",
    "print(var7)"
   ]
  },
  {
   "cell_type": "code",
   "execution_count": 14,
   "metadata": {},
   "outputs": [
    {
     "output_type": "stream",
     "name": "stdout",
     "text": "Python\n"
    }
   ],
   "source": [
    "print(var7['Language'])"
   ]
  },
  {
   "cell_type": "code",
   "execution_count": 15,
   "metadata": {},
   "outputs": [
    {
     "output_type": "stream",
     "name": "stdout",
     "text": "dict_keys(['Topic', 'Language'])\n"
    }
   ],
   "source": [
    "print(var7.keys())"
   ]
  },
  {
   "cell_type": "code",
   "execution_count": 16,
   "metadata": {},
   "outputs": [
    {
     "output_type": "stream",
     "name": "stdout",
     "text": "dict_values(['Data Science', 'Python'])\n"
    }
   ],
   "source": [
    "print(var7.values())"
   ]
  },
  {
   "cell_type": "code",
   "execution_count": 17,
   "metadata": {},
   "outputs": [
    {
     "output_type": "stream",
     "name": "stdout",
     "text": "Topic\nData Science\nLanguage\nPython\n"
    }
   ],
   "source": [
    "for key, value in var7.items():\n",
    "    print(key)\n",
    "    print(value)"
   ]
  },
  {
   "cell_type": "code",
   "execution_count": 18,
   "metadata": {},
   "outputs": [
    {
     "output_type": "stream",
     "name": "stdout",
     "text": "{'Topic': 'Data Science', 'Language': 'Python', 'Publisher': 'Packt'}\n"
    }
   ],
   "source": [
    "var7['Publisher'] = 'Packt'\n",
    "print(var7)"
   ]
  },
  {
   "cell_type": "code",
   "execution_count": 19,
   "metadata": {},
   "outputs": [
    {
     "output_type": "stream",
     "name": "stdout",
     "text": "{'Topic': 'Data Science', 'Language': 'Python'}\n"
    }
   ],
   "source": [
    "del var7['Publisher']\n",
    "print(var7)"
   ]
  },
  {
   "cell_type": "code",
   "execution_count": 29,
   "metadata": {},
   "outputs": [
    {
     "output_type": "execute_result",
     "data": {
      "text/plain": "             algorithm      learning                          type\n0    Linear Regression    Supervised                    Regression\n1  Logistic Regression    Supervised                Classification\n2         RandomForest    Supervised  Regression or Classification\n3              k-means  Unsupervised                    Clustering",
      "text/html": "<div>\n<style scoped>\n    .dataframe tbody tr th:only-of-type {\n        vertical-align: middle;\n    }\n\n    .dataframe tbody tr th {\n        vertical-align: top;\n    }\n\n    .dataframe thead th {\n        text-align: right;\n    }\n</style>\n<table border=\"1\" class=\"dataframe\">\n  <thead>\n    <tr style=\"text-align: right;\">\n      <th></th>\n      <th>algorithm</th>\n      <th>learning</th>\n      <th>type</th>\n    </tr>\n  </thead>\n  <tbody>\n    <tr>\n      <th>0</th>\n      <td>Linear Regression</td>\n      <td>Supervised</td>\n      <td>Regression</td>\n    </tr>\n    <tr>\n      <th>1</th>\n      <td>Logistic Regression</td>\n      <td>Supervised</td>\n      <td>Classification</td>\n    </tr>\n    <tr>\n      <th>2</th>\n      <td>RandomForest</td>\n      <td>Supervised</td>\n      <td>Regression or Classification</td>\n    </tr>\n    <tr>\n      <th>3</th>\n      <td>k-means</td>\n      <td>Unsupervised</td>\n      <td>Clustering</td>\n    </tr>\n  </tbody>\n</table>\n</div>"
     },
     "metadata": {},
     "execution_count": 29
    }
   ],
   "source": [
    "import pandas as pd\n",
    "\n",
    "pd.read_csv('.\\Dataset\\csv_example.csv')"
   ]
  },
  {
   "cell_type": "code",
   "execution_count": 27,
   "metadata": {},
   "outputs": [
    {
     "output_type": "execute_result",
     "data": {
      "text/plain": "             algorithm      learning                          type\n0    Linear Regression    Supervised                    Regression\n1  Logistic Regression    Supervised                Classification\n2         RandomForest    Supervised  Regression or Classification\n3              k-means  Unsupervised                    Clustering",
      "text/html": "<div>\n<style scoped>\n    .dataframe tbody tr th:only-of-type {\n        vertical-align: middle;\n    }\n\n    .dataframe tbody tr th {\n        vertical-align: top;\n    }\n\n    .dataframe thead th {\n        text-align: right;\n    }\n</style>\n<table border=\"1\" class=\"dataframe\">\n  <thead>\n    <tr style=\"text-align: right;\">\n      <th></th>\n      <th>algorithm</th>\n      <th>learning</th>\n      <th>type</th>\n    </tr>\n  </thead>\n  <tbody>\n    <tr>\n      <th>0</th>\n      <td>Linear Regression</td>\n      <td>Supervised</td>\n      <td>Regression</td>\n    </tr>\n    <tr>\n      <th>1</th>\n      <td>Logistic Regression</td>\n      <td>Supervised</td>\n      <td>Classification</td>\n    </tr>\n    <tr>\n      <th>2</th>\n      <td>RandomForest</td>\n      <td>Supervised</td>\n      <td>Regression or Classification</td>\n    </tr>\n    <tr>\n      <th>3</th>\n      <td>k-means</td>\n      <td>Unsupervised</td>\n      <td>Clustering</td>\n    </tr>\n  </tbody>\n</table>\n</div>"
     },
     "metadata": {},
     "execution_count": 27
    }
   ],
   "source": [
    "pd.read_excel('.\\Dataset\\excel_example.xlsx')"
   ]
  },
  {
   "cell_type": "code",
   "execution_count": 28,
   "metadata": {},
   "outputs": [
    {
     "output_type": "execute_result",
     "data": {
      "text/plain": "             algorithm      learning                          type\n0    Linear Regression    Supervised                    Regression\n1  Logistic Regression    Supervised                Classification\n2         RandomForest    Supervised  Regression or Classification\n3              k-means  Unsupervised                    Clustering",
      "text/html": "<div>\n<style scoped>\n    .dataframe tbody tr th:only-of-type {\n        vertical-align: middle;\n    }\n\n    .dataframe tbody tr th {\n        vertical-align: top;\n    }\n\n    .dataframe thead th {\n        text-align: right;\n    }\n</style>\n<table border=\"1\" class=\"dataframe\">\n  <thead>\n    <tr style=\"text-align: right;\">\n      <th></th>\n      <th>algorithm</th>\n      <th>learning</th>\n      <th>type</th>\n    </tr>\n  </thead>\n  <tbody>\n    <tr>\n      <th>0</th>\n      <td>Linear Regression</td>\n      <td>Supervised</td>\n      <td>Regression</td>\n    </tr>\n    <tr>\n      <th>1</th>\n      <td>Logistic Regression</td>\n      <td>Supervised</td>\n      <td>Classification</td>\n    </tr>\n    <tr>\n      <th>2</th>\n      <td>RandomForest</td>\n      <td>Supervised</td>\n      <td>Regression or Classification</td>\n    </tr>\n    <tr>\n      <th>3</th>\n      <td>k-means</td>\n      <td>Unsupervised</td>\n      <td>Clustering</td>\n    </tr>\n  </tbody>\n</table>\n</div>"
     },
     "metadata": {},
     "execution_count": 28
    }
   ],
   "source": [
    "pd.read_json('.\\Dataset\\json_example.json')"
   ]
  },
  {
   "cell_type": "code",
   "execution_count": 30,
   "metadata": {},
   "outputs": [
    {
     "output_type": "execute_result",
     "data": {
      "text/plain": "   Number  Postcode                                            Suburbs  \\\n0       1      3029                          Hoppers Crossing, Tarneit   \n1       2      3977                    Cranbourne, Devon Meadows, Skye   \n2       3      3064  Craigieburn, Donnybrook, Roxburgh Park, Mickleham   \n3       4      3030                     Point Cook, Werribee, Derrimut   \n4       5      3754                                     Doreen, Mernda   \n5       6      3810                                 Pakenham, Rythdale   \n6       7      3350  Alfredton, Ballarat, Canadian, Invermay Park, ...   \n7       8      3216  Belmont, Grovedale, Highton, Marshall, Waurn P...   \n8       9      3136  Croydon, Croydon Hills, Croydon North, Croydon...   \n9      10      3805    Fountain Gate, Narre Warren, Narre Warren South   \n\n   Number of Applications  \n0                    1069  \n1                    1037  \n2                     821  \n3                     816  \n4                     530  \n5                     479  \n6                     383  \n7                     351  \n8                     344  \n9                     335  ",
      "text/html": "<div>\n<style scoped>\n    .dataframe tbody tr th:only-of-type {\n        vertical-align: middle;\n    }\n\n    .dataframe tbody tr th {\n        vertical-align: top;\n    }\n\n    .dataframe thead th {\n        text-align: right;\n    }\n</style>\n<table border=\"1\" class=\"dataframe\">\n  <thead>\n    <tr style=\"text-align: right;\">\n      <th></th>\n      <th>Number</th>\n      <th>Postcode</th>\n      <th>Suburbs</th>\n      <th>Number of Applications</th>\n    </tr>\n  </thead>\n  <tbody>\n    <tr>\n      <th>0</th>\n      <td>1</td>\n      <td>3029</td>\n      <td>Hoppers Crossing, Tarneit</td>\n      <td>1069</td>\n    </tr>\n    <tr>\n      <th>1</th>\n      <td>2</td>\n      <td>3977</td>\n      <td>Cranbourne, Devon Meadows, Skye</td>\n      <td>1037</td>\n    </tr>\n    <tr>\n      <th>2</th>\n      <td>3</td>\n      <td>3064</td>\n      <td>Craigieburn, Donnybrook, Roxburgh Park, Mickleham</td>\n      <td>821</td>\n    </tr>\n    <tr>\n      <th>3</th>\n      <td>4</td>\n      <td>3030</td>\n      <td>Point Cook, Werribee, Derrimut</td>\n      <td>816</td>\n    </tr>\n    <tr>\n      <th>4</th>\n      <td>5</td>\n      <td>3754</td>\n      <td>Doreen, Mernda</td>\n      <td>530</td>\n    </tr>\n    <tr>\n      <th>5</th>\n      <td>6</td>\n      <td>3810</td>\n      <td>Pakenham, Rythdale</td>\n      <td>479</td>\n    </tr>\n    <tr>\n      <th>6</th>\n      <td>7</td>\n      <td>3350</td>\n      <td>Alfredton, Ballarat, Canadian, Invermay Park, ...</td>\n      <td>383</td>\n    </tr>\n    <tr>\n      <th>7</th>\n      <td>8</td>\n      <td>3216</td>\n      <td>Belmont, Grovedale, Highton, Marshall, Waurn P...</td>\n      <td>351</td>\n    </tr>\n    <tr>\n      <th>8</th>\n      <td>9</td>\n      <td>3136</td>\n      <td>Croydon, Croydon Hills, Croydon North, Croydon...</td>\n      <td>344</td>\n    </tr>\n    <tr>\n      <th>9</th>\n      <td>10</td>\n      <td>3805</td>\n      <td>Fountain Gate, Narre Warren, Narre Warren South</td>\n      <td>335</td>\n    </tr>\n  </tbody>\n</table>\n</div>"
     },
     "metadata": {},
     "execution_count": 30
    }
   ],
   "source": [
    "csv_path = '.\\Dataset\\overall_topten_2012-2013.csv'\n",
    "csv_df = pd.read_csv(csv_path, skiprows=1)\n",
    "csv_df"
   ]
  },
  {
   "cell_type": "code",
   "execution_count": 31,
   "metadata": {},
   "outputs": [
    {
     "output_type": "execute_result",
     "data": {
      "text/plain": "   Number  Postcode                                            Suburbs  \\\n0       1      3029                          Hoppers Crossing, Tarneit   \n1       2      3977                    Cranbourne, Devon Meadows, Skye   \n2       3      3064  Craigieburn, Donnybrook, Roxburgh Park, Mickleham   \n3       4      3030                     Point Cook, Werribee, Derrimut   \n4       5      3754                                     Doreen, Mernda   \n5       6      3810                                 Pakenham, Rythdale   \n6       7      3350  Alfredton, Ballarat, Canadian, Invermay Park, ...   \n7       8      3216  Belmont, Grovedale, Highton, Marshall, Waurn P...   \n8       9      3136  Croydon, Croydon Hills, Croydon North, Croydon...   \n9      10      3805    Fountain Gate, Narre Warren, Narre Warren South   \n\n   Number of Applications  \n0                    1069  \n1                    1037  \n2                     821  \n3                     816  \n4                     530  \n5                     479  \n6                     383  \n7                     351  \n8                     344  \n9                     335  ",
      "text/html": "<div>\n<style scoped>\n    .dataframe tbody tr th:only-of-type {\n        vertical-align: middle;\n    }\n\n    .dataframe tbody tr th {\n        vertical-align: top;\n    }\n\n    .dataframe thead th {\n        text-align: right;\n    }\n</style>\n<table border=\"1\" class=\"dataframe\">\n  <thead>\n    <tr style=\"text-align: right;\">\n      <th></th>\n      <th>Number</th>\n      <th>Postcode</th>\n      <th>Suburbs</th>\n      <th>Number of Applications</th>\n    </tr>\n  </thead>\n  <tbody>\n    <tr>\n      <th>0</th>\n      <td>1</td>\n      <td>3029</td>\n      <td>Hoppers Crossing, Tarneit</td>\n      <td>1069</td>\n    </tr>\n    <tr>\n      <th>1</th>\n      <td>2</td>\n      <td>3977</td>\n      <td>Cranbourne, Devon Meadows, Skye</td>\n      <td>1037</td>\n    </tr>\n    <tr>\n      <th>2</th>\n      <td>3</td>\n      <td>3064</td>\n      <td>Craigieburn, Donnybrook, Roxburgh Park, Mickleham</td>\n      <td>821</td>\n    </tr>\n    <tr>\n      <th>3</th>\n      <td>4</td>\n      <td>3030</td>\n      <td>Point Cook, Werribee, Derrimut</td>\n      <td>816</td>\n    </tr>\n    <tr>\n      <th>4</th>\n      <td>5</td>\n      <td>3754</td>\n      <td>Doreen, Mernda</td>\n      <td>530</td>\n    </tr>\n    <tr>\n      <th>5</th>\n      <td>6</td>\n      <td>3810</td>\n      <td>Pakenham, Rythdale</td>\n      <td>479</td>\n    </tr>\n    <tr>\n      <th>6</th>\n      <td>7</td>\n      <td>3350</td>\n      <td>Alfredton, Ballarat, Canadian, Invermay Park, ...</td>\n      <td>383</td>\n    </tr>\n    <tr>\n      <th>7</th>\n      <td>8</td>\n      <td>3216</td>\n      <td>Belmont, Grovedale, Highton, Marshall, Waurn P...</td>\n      <td>351</td>\n    </tr>\n    <tr>\n      <th>8</th>\n      <td>9</td>\n      <td>3136</td>\n      <td>Croydon, Croydon Hills, Croydon North, Croydon...</td>\n      <td>344</td>\n    </tr>\n    <tr>\n      <th>9</th>\n      <td>10</td>\n      <td>3805</td>\n      <td>Fountain Gate, Narre Warren, Narre Warren South</td>\n      <td>335</td>\n    </tr>\n  </tbody>\n</table>\n</div>"
     },
     "metadata": {},
     "execution_count": 31
    }
   ],
   "source": [
    "tsv_path = '.\\Dataset\\overall_topten_2012-2013.tsv'\n",
    "tsv_df = pd.read_csv(tsv_path, skiprows=1, sep='\\t')\n",
    "tsv_df"
   ]
  },
  {
   "cell_type": "code",
   "execution_count": 33,
   "metadata": {},
   "outputs": [
    {
     "output_type": "execute_result",
     "data": {
      "text/plain": "Empty DataFrame\nColumns: [This tab doesn't contain the data we are looking for]\nIndex: []",
      "text/html": "<div>\n<style scoped>\n    .dataframe tbody tr th:only-of-type {\n        vertical-align: middle;\n    }\n\n    .dataframe tbody tr th {\n        vertical-align: top;\n    }\n\n    .dataframe thead th {\n        text-align: right;\n    }\n</style>\n<table border=\"1\" class=\"dataframe\">\n  <thead>\n    <tr style=\"text-align: right;\">\n      <th></th>\n      <th>This tab doesn't contain the data we are looking for</th>\n    </tr>\n  </thead>\n  <tbody>\n  </tbody>\n</table>\n</div>"
     },
     "metadata": {},
     "execution_count": 33
    }
   ],
   "source": [
    "xlsx_path = '.\\Dataset\\overall_topten_2012-2013.xlsx'\n",
    "xlsx_df = pd.read_excel(xlsx_path)\n",
    "xlsx_df"
   ]
  },
  {
   "cell_type": "code",
   "execution_count": 34,
   "metadata": {},
   "outputs": [
    {
     "output_type": "execute_result",
     "data": {
      "text/plain": "   Number  Postcode                                            Suburbs  \\\n0       1      3029                          Hoppers Crossing, Tarneit   \n1       2      3977                    Cranbourne, Devon Meadows, Skye   \n2       3      3064  Craigieburn, Donnybrook, Roxburgh Park, Mickleham   \n3       4      3030                     Point Cook, Werribee, Derrimut   \n4       5      3754                                     Doreen, Mernda   \n5       6      3810                                 Pakenham, Rythdale   \n6       7      3350  Alfredton, Ballarat, Canadian, Invermay Park, ...   \n7       8      3216  Belmont, Grovedale, Highton, Marshall, Waurn P...   \n8       9      3136  Croydon, Croydon Hills, Croydon North, Croydon...   \n9      10      3805    Fountain Gate, Narre Warren, Narre Warren South   \n\n   Number of Applications  \n0                    1069  \n1                    1037  \n2                     821  \n3                     816  \n4                     530  \n5                     479  \n6                     383  \n7                     351  \n8                     344  \n9                     335  ",
      "text/html": "<div>\n<style scoped>\n    .dataframe tbody tr th:only-of-type {\n        vertical-align: middle;\n    }\n\n    .dataframe tbody tr th {\n        vertical-align: top;\n    }\n\n    .dataframe thead th {\n        text-align: right;\n    }\n</style>\n<table border=\"1\" class=\"dataframe\">\n  <thead>\n    <tr style=\"text-align: right;\">\n      <th></th>\n      <th>Number</th>\n      <th>Postcode</th>\n      <th>Suburbs</th>\n      <th>Number of Applications</th>\n    </tr>\n  </thead>\n  <tbody>\n    <tr>\n      <th>0</th>\n      <td>1</td>\n      <td>3029</td>\n      <td>Hoppers Crossing, Tarneit</td>\n      <td>1069</td>\n    </tr>\n    <tr>\n      <th>1</th>\n      <td>2</td>\n      <td>3977</td>\n      <td>Cranbourne, Devon Meadows, Skye</td>\n      <td>1037</td>\n    </tr>\n    <tr>\n      <th>2</th>\n      <td>3</td>\n      <td>3064</td>\n      <td>Craigieburn, Donnybrook, Roxburgh Park, Mickleham</td>\n      <td>821</td>\n    </tr>\n    <tr>\n      <th>3</th>\n      <td>4</td>\n      <td>3030</td>\n      <td>Point Cook, Werribee, Derrimut</td>\n      <td>816</td>\n    </tr>\n    <tr>\n      <th>4</th>\n      <td>5</td>\n      <td>3754</td>\n      <td>Doreen, Mernda</td>\n      <td>530</td>\n    </tr>\n    <tr>\n      <th>5</th>\n      <td>6</td>\n      <td>3810</td>\n      <td>Pakenham, Rythdale</td>\n      <td>479</td>\n    </tr>\n    <tr>\n      <th>6</th>\n      <td>7</td>\n      <td>3350</td>\n      <td>Alfredton, Ballarat, Canadian, Invermay Park, ...</td>\n      <td>383</td>\n    </tr>\n    <tr>\n      <th>7</th>\n      <td>8</td>\n      <td>3216</td>\n      <td>Belmont, Grovedale, Highton, Marshall, Waurn P...</td>\n      <td>351</td>\n    </tr>\n    <tr>\n      <th>8</th>\n      <td>9</td>\n      <td>3136</td>\n      <td>Croydon, Croydon Hills, Croydon North, Croydon...</td>\n      <td>344</td>\n    </tr>\n    <tr>\n      <th>9</th>\n      <td>10</td>\n      <td>3805</td>\n      <td>Fountain Gate, Narre Warren, Narre Warren South</td>\n      <td>335</td>\n    </tr>\n  </tbody>\n</table>\n</div>"
     },
     "metadata": {},
     "execution_count": 34
    }
   ],
   "source": [
    "xlsx_df1 = pd.read_excel(xlsx_path, skiprows=1, sheet_name=1)\n",
    "xlsx_df1"
   ]
  },
  {
   "cell_type": "code",
   "execution_count": 35,
   "metadata": {},
   "outputs": [
    {
     "output_type": "execute_result",
     "data": {
      "text/plain": "RandomForestClassifier(random_state=1)"
     },
     "metadata": {},
     "execution_count": 35
    }
   ],
   "source": [
    "from sklearn.ensemble import RandomForestClassifier\n",
    "from sklearn.datasets import load_wine\n",
    "\n",
    "rf_model = RandomForestClassifier(random_state=1)\n",
    "features, target = load_wine(return_X_y=True)\n",
    "\n",
    "rf_model.fit(features, target)"
   ]
  },
  {
   "cell_type": "code",
   "execution_count": 36,
   "metadata": {},
   "outputs": [
    {
     "output_type": "execute_result",
     "data": {
      "text/plain": "array([0, 0, 0, 0, 0, 0, 0, 0, 0, 0, 0, 0, 0, 0, 0, 0, 0, 0, 0, 0, 0, 0,\n       0, 0, 0, 0, 0, 0, 0, 0, 0, 0, 0, 0, 0, 0, 0, 0, 0, 0, 0, 0, 0, 0,\n       0, 0, 0, 0, 0, 0, 0, 0, 0, 0, 0, 0, 0, 0, 0, 1, 1, 1, 1, 1, 1, 1,\n       1, 1, 1, 1, 1, 1, 1, 1, 1, 1, 1, 1, 1, 1, 1, 1, 1, 1, 1, 1, 1, 1,\n       1, 1, 1, 1, 1, 1, 1, 1, 1, 1, 1, 1, 1, 1, 1, 1, 1, 1, 1, 1, 1, 1,\n       1, 1, 1, 1, 1, 1, 1, 1, 1, 1, 1, 1, 1, 1, 1, 1, 1, 1, 1, 1, 2, 2,\n       2, 2, 2, 2, 2, 2, 2, 2, 2, 2, 2, 2, 2, 2, 2, 2, 2, 2, 2, 2, 2, 2,\n       2, 2, 2, 2, 2, 2, 2, 2, 2, 2, 2, 2, 2, 2, 2, 2, 2, 2, 2, 2, 2, 2,\n       2, 2])"
     },
     "metadata": {},
     "execution_count": 36
    }
   ],
   "source": [
    "preds = rf_model.predict(features)\n",
    "preds"
   ]
  },
  {
   "cell_type": "code",
   "execution_count": 37,
   "metadata": {},
   "outputs": [
    {
     "output_type": "execute_result",
     "data": {
      "text/plain": "1.0"
     },
     "metadata": {},
     "execution_count": 37
    }
   ],
   "source": [
    "from sklearn.metrics import accuracy_score\n",
    "accuracy_score(target, preds)"
   ]
  },
  {
   "cell_type": "code",
   "execution_count": null,
   "metadata": {},
   "outputs": [],
   "source": []
  }
 ],
 "metadata": {
  "language_info": {
   "codemirror_mode": {
    "name": "ipython",
    "version": 3
   },
   "file_extension": ".py",
   "mimetype": "text/x-python",
   "name": "python",
   "nbconvert_exporter": "python",
   "pygments_lexer": "ipython3",
   "version": "3.8.2-final"
  },
  "orig_nbformat": 2,
  "kernelspec": {
   "name": "python38264bit452ca6f7d40b4ec1bc02c8f94f125681",
   "display_name": "Python 3.8.2 64-bit"
  }
 },
 "nbformat": 4,
 "nbformat_minor": 2
}