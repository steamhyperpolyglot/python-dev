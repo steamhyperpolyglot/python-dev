{
 "metadata": {
  "language_info": {
   "codemirror_mode": {
    "name": "ipython",
    "version": 3
   },
   "file_extension": ".py",
   "mimetype": "text/x-python",
   "name": "python",
   "nbconvert_exporter": "python",
   "pygments_lexer": "ipython3",
   "version": "3.8.2-final"
  },
  "orig_nbformat": 2,
  "kernelspec": {
   "name": "python_defaultSpec_1599684219947",
   "display_name": "Python 3.8.2 64-bit"
  }
 },
 "nbformat": 4,
 "nbformat_minor": 2,
 "cells": [
  {
   "cell_type": "code",
   "execution_count": 1,
   "metadata": {},
   "outputs": [],
   "source": [
    "ingredient = \"Kumquat: 2 cups\""
   ]
  },
  {
   "cell_type": "code",
   "execution_count": 3,
   "metadata": {},
   "outputs": [
    {
     "output_type": "execute_result",
     "data": {
      "text/plain": "False"
     },
     "metadata": {},
     "execution_count": 3
    }
   ],
   "source": [
    "import re\n",
    "\n",
    "ingredient_pattern = re.compile(r'([\\w\\s]+):\\s+(\\d+)\\s+(\\w+)')\n",
    "match = ingredient_pattern.match(ingredient)\n",
    "match is None"
   ]
  },
  {
   "cell_type": "code",
   "execution_count": 4,
   "metadata": {},
   "outputs": [
    {
     "output_type": "execute_result",
     "data": {
      "text/plain": "('Kumquat', '2', 'cups')"
     },
     "metadata": {},
     "execution_count": 4
    }
   ],
   "source": [
    "match.groups()"
   ]
  },
  {
   "cell_type": "code",
   "execution_count": 5,
   "metadata": {},
   "outputs": [
    {
     "output_type": "execute_result",
     "data": {
      "text/plain": "'Kumquat'"
     },
     "metadata": {},
     "execution_count": 5
    }
   ],
   "source": [
    "match.group(1)"
   ]
  },
  {
   "cell_type": "code",
   "execution_count": 6,
   "metadata": {},
   "outputs": [
    {
     "output_type": "execute_result",
     "data": {
      "text/plain": "'2'"
     },
     "metadata": {},
     "execution_count": 6
    }
   ],
   "source": [
    "match.group(2)"
   ]
  },
  {
   "cell_type": "code",
   "execution_count": 7,
   "metadata": {},
   "outputs": [
    {
     "output_type": "execute_result",
     "data": {
      "text/plain": "'cups'"
     },
     "metadata": {},
     "execution_count": 7
    }
   ],
   "source": [
    "match.group(3)"
   ]
  },
  {
   "cell_type": "code",
   "execution_count": 8,
   "metadata": {},
   "outputs": [],
   "source": [
    "ingredient_pattern = re.compile(\n",
    "    r'(?P<ingredient>[\\w\\s]+):\\s+'      # name of the ingredient up to the \":\"\n",
    "    r'(?P<amount>\\d+)\\s+'               # amount, all digits up to a space\n",
    "    r'(?P<unit>\\w+)'                    # units, alphanumeric characters\n",
    ")"
   ]
  },
  {
   "cell_type": "code",
   "execution_count": 10,
   "metadata": {},
   "outputs": [
    {
     "output_type": "execute_result",
     "data": {
      "text/plain": "'IAD  : Dulles Intl Airport :  32 /  13 /  0.40'"
     },
     "metadata": {},
     "execution_count": 10
    }
   ],
   "source": [
    "id = \"IAD\"\n",
    "location = \"Dulles Intl Airport\"\n",
    "max_temp = 32\n",
    "min_temp = 13\n",
    "precipitation = 0.4\n",
    "\n",
    "f'{id:s}  : {location:19s} : {max_temp:3d} / {min_temp:3d} / {precipitation:5.2f}'"
   ]
  },
  {
   "cell_type": "code",
   "execution_count": 11,
   "metadata": {},
   "outputs": [
    {
     "output_type": "execute_result",
     "data": {
      "text/plain": "'value=4095 2**7+1=129'"
     },
     "metadata": {},
     "execution_count": 11
    }
   ],
   "source": [
    "value = 2**12-1\n",
    "f'{value=} {2**7+1=}'"
   ]
  },
  {
   "cell_type": "code",
   "execution_count": 12,
   "metadata": {},
   "outputs": [
    {
     "output_type": "execute_result",
     "data": {
      "text/plain": "'IAD  : Dulles Intl Airport :   32 /  13 /  0.40'"
     },
     "metadata": {},
     "execution_count": 12
    }
   ],
   "source": [
    "data = dict(\n",
    "    id=id, location=location, max_temp=max_temp,\n",
    "    min_temp=min_temp, precipitation=precipitation\n",
    ")\n",
    "'{id:3s}  : {location:19s} :  {max_temp:3d} / {min_temp:3d} / {precipitation:5.2f}'.format_map(data)"
   ]
  },
  {
   "cell_type": "code",
   "execution_count": null,
   "metadata": {},
   "outputs": [],
   "source": []
  }
 ]
}