{
 "metadata": {
  "language_info": {
   "codemirror_mode": {
    "name": "ipython",
    "version": 3
   },
   "file_extension": ".py",
   "mimetype": "text/x-python",
   "name": "python",
   "nbconvert_exporter": "python",
   "pygments_lexer": "ipython3",
   "version": "3.8.2-final"
  },
  "orig_nbformat": 2,
  "kernelspec": {
   "name": "python38264bit452ca6f7d40b4ec1bc02c8f94f125681",
   "language": "python",
   "display_name": "Python 3.8.2 64-bit"
  }
 },
 "nbformat": 4,
 "nbformat_minor": 2,
 "cells": [
  {
   "cell_type": "code",
   "execution_count": 3,
   "metadata": {},
   "outputs": [
    {
     "output_type": "execute_result",
     "data": {
      "text/plain": "255"
     },
     "metadata": {},
     "execution_count": 3
    }
   ],
   "source": [
    "0xFF"
   ]
  },
  {
   "cell_type": "code",
   "execution_count": 4,
   "metadata": {},
   "outputs": [
    {
     "output_type": "execute_result",
     "data": {
      "text/plain": "32317006071311007300714876688669951960444102669715484032130345427524655138867890893197201411522913463688717960921898019494119559150490921095088152386448283120630877367300996091750197750389652106796057638384067568276792218642619756161838094338476170470581645852036305042887575891541065808607552399123930385521914333389668342420684974786564569494856176035326322058077805659331026192708460314150258592864177116725943603718461857357598351152301645904403697613233287231227125684710820209725157101726931323469678542580656697935045997268352998638215525166389437335543602135433229604645318478604952148193555853611059596230656"
     },
     "metadata": {},
     "execution_count": 4
    }
   ],
   "source": [
    "2**2048"
   ]
  },
  {
   "cell_type": "code",
   "execution_count": 5,
   "metadata": {},
   "outputs": [
    {
     "output_type": "execute_result",
     "data": {
      "text/plain": "80658175170943878571660636856403766975289505440883277824000000000000"
     },
     "metadata": {},
     "execution_count": 5
    }
   ],
   "source": [
    "import math\n",
    "math.factorial(52)"
   ]
  },
  {
   "cell_type": "code",
   "execution_count": 6,
   "outputs": [
    {
     "output_type": "execute_result",
     "data": {
      "text/plain": "63.0"
     },
     "metadata": {},
     "execution_count": 6
    }
   ],
   "source": [
    "import sys\n",
    "math.log(sys.maxsize, 2)"
   ],
   "metadata": {
    "collapsed": false,
    "pycharm": {
     "name": "#%%\n"
    }
   }
  },
  {
   "cell_type": "code",
   "execution_count": 7,
   "outputs": [
    {
     "output_type": "execute_result",
     "data": {
      "text/plain": "sys.int_info(bits_per_digit=30, sizeof_digit=4)"
     },
     "metadata": {},
     "execution_count": 7
    }
   ],
   "source": [
    "sys.int_info"
   ],
   "metadata": {
    "collapsed": false,
    "pycharm": {
     "name": "#%%\n"
    }
   }
  },
  {
   "cell_type": "code",
   "execution_count": 8,
   "outputs": [
    {
     "output_type": "execute_result",
     "data": {
      "text/plain": "Decimal('0.213875')"
     },
     "metadata": {},
     "execution_count": 8
    }
   ],
   "source": [
    "from decimal import Decimal\n",
    "\n",
    "tax_rate = Decimal('7.25') / Decimal(100)\n",
    "purchase_amount = Decimal('2.95')\n",
    "tax_rate * purchase_amount"
   ],
   "metadata": {
    "collapsed": false,
    "pycharm": {
     "name": "#%%\n"
    }
   }
  },
  {
   "cell_type": "code",
   "execution_count": 9,
   "outputs": [
    {
     "output_type": "execute_result",
     "data": {
      "text/plain": "Decimal('3.16')"
     },
     "metadata": {},
     "execution_count": 9
    }
   ],
   "source": [
    "penny = Decimal('0.01')\n",
    "total_amount = purchase_amount + tax_rate * purchase_amount\n",
    "total_amount.quantize(penny)"
   ],
   "metadata": {
    "collapsed": false,
    "pycharm": {
     "name": "#%%\n"
    }
   }
  },
  {
   "cell_type": "code",
   "execution_count": 10,
   "outputs": [
    {
     "output_type": "execute_result",
     "data": {
      "text/plain": "Decimal('3.17')"
     },
     "metadata": {},
     "execution_count": 10
    }
   ],
   "source": [
    "import decimal\n",
    "total_amount.quantize(penny, decimal.ROUND_UP)"
   ],
   "metadata": {
    "collapsed": false,
    "pycharm": {
     "name": "#%%\n"
    }
   }
  },
  {
   "cell_type": "code",
   "execution_count": 11,
   "outputs": [
    {
     "output_type": "execute_result",
     "data": {
      "text/plain": "Fraction(25, 16)"
     },
     "metadata": {},
     "execution_count": 11
    }
   ],
   "source": [
    "from fractions import Fraction\n",
    "\n",
    "sugar_cups = Fraction('2.5')\n",
    "scale_factor = Fraction(5/8)\n",
    "sugar_cups * scale_factor\n",
    "Fraction(25, 16)"
   ],
   "metadata": {
    "collapsed": false,
    "pycharm": {
     "name": "#%%\n"
    }
   }
  },
  {
   "cell_type": "code",
   "execution_count": 12,
   "outputs": [
    {
     "output_type": "execute_result",
     "data": {
      "text/plain": "Fraction(3, 2)"
     },
     "metadata": {},
     "execution_count": 12
    }
   ],
   "source": [
    "Fraction(24, 16)"
   ],
   "metadata": {
    "collapsed": false,
    "pycharm": {
     "name": "#%%\n"
    }
   }
  },
  {
   "cell_type": "code",
   "execution_count": 13,
   "outputs": [
    {
     "output_type": "execute_result",
     "data": {
      "text/plain": "0.9999999999999999"
     },
     "metadata": {},
     "execution_count": 13
    }
   ],
   "source": [
    "(19/155) * (155/19)"
   ],
   "metadata": {
    "collapsed": false,
    "pycharm": {
     "name": "#%%\n"
    }
   }
  },
  {
   "cell_type": "code",
   "execution_count": 14,
   "outputs": [
    {
     "output_type": "execute_result",
     "data": {
      "text/plain": "1.0"
     },
     "metadata": {},
     "execution_count": 14
    }
   ],
   "source": [
    "answer = (19/155) * (155/19)\n",
    "round(answer, 3)"
   ],
   "metadata": {
    "collapsed": false,
    "pycharm": {
     "name": "#%%\n"
    }
   }
  },
  {
   "cell_type": "code",
   "execution_count": 15,
   "outputs": [
    {
     "output_type": "execute_result",
     "data": {
      "text/plain": "1.1102230246251565e-16"
     },
     "metadata": {},
     "execution_count": 15
    }
   ],
   "source": [
    "1 - answer"
   ],
   "metadata": {
    "collapsed": false,
    "pycharm": {
     "name": "#%%\n"
    }
   }
  },
  {
   "cell_type": "code",
   "execution_count": 16,
   "outputs": [
    {
     "output_type": "execute_result",
     "data": {
      "text/plain": "3.163875"
     },
     "metadata": {},
     "execution_count": 16
    }
   ],
   "source": [
    "float(total_amount)"
   ],
   "metadata": {
    "collapsed": false,
    "pycharm": {
     "name": "#%%\n"
    }
   }
  },
  {
   "cell_type": "code",
   "execution_count": 17,
   "outputs": [
    {
     "output_type": "execute_result",
     "data": {
      "text/plain": "1.5625"
     },
     "metadata": {},
     "execution_count": 17
    }
   ],
   "source": [
    "float(sugar_cups * scale_factor)"
   ],
   "metadata": {
    "collapsed": false,
    "pycharm": {
     "name": "#%%\n"
    }
   }
  },
  {
   "cell_type": "code",
   "execution_count": 18,
   "outputs": [
    {
     "output_type": "execute_result",
     "data": {
      "text/plain": "Fraction(8832866365939553, 72057594037927936)"
     },
     "metadata": {},
     "execution_count": 18
    }
   ],
   "source": [
    "Fraction(19/155)"
   ],
   "metadata": {
    "collapsed": false,
    "pycharm": {
     "name": "#%%\n"
    }
   }
  },
  {
   "cell_type": "code",
   "execution_count": 19,
   "outputs": [
    {
     "output_type": "execute_result",
     "data": {
      "text/plain": "Decimal('0.12258064516129031640279123394066118635237216949462890625')"
     },
     "metadata": {},
     "execution_count": 19
    }
   ],
   "source": [
    "Decimal(19/155)"
   ],
   "metadata": {
    "collapsed": false,
    "pycharm": {
     "name": "#%%\n"
    }
   }
  },
  {
   "cell_type": "code",
   "execution_count": 20,
   "outputs": [
    {
     "output_type": "execute_result",
     "data": {
      "text/plain": "8.066e+67"
     },
     "metadata": {},
     "execution_count": 20
    }
   ],
   "source": [
    "8.066e+67"
   ],
   "metadata": {
    "collapsed": false,
    "pycharm": {
     "name": "#%%\n"
    }
   }
  },
  {
   "cell_type": "code",
   "execution_count": 21,
   "metadata": {},
   "outputs": [
    {
     "output_type": "execute_result",
     "data": {
      "text/plain": "8.066e+67"
     },
     "metadata": {},
     "execution_count": 21
    }
   ],
   "source": [
    "(6737037547376141 / (2 ** 53)) * (2 ** 226)"
   ]
  },
  {
   "cell_type": "code",
   "execution_count": 22,
   "metadata": {},
   "outputs": [
    {
     "output_type": "execute_result",
     "data": {
      "text/plain": "(0.7479614202861186, 226)"
     },
     "metadata": {},
     "execution_count": 22
    }
   ],
   "source": [
    "math.frexp(8.066E+67)"
   ]
  },
  {
   "cell_type": "code",
   "execution_count": 23,
   "metadata": {},
   "outputs": [
    {
     "output_type": "execute_result",
     "data": {
      "text/plain": "False"
     },
     "metadata": {},
     "execution_count": 23
    }
   ],
   "source": [
    "(19/155) * (155/19) == 1.0"
   ]
  },
  {
   "cell_type": "code",
   "execution_count": 24,
   "metadata": {},
   "outputs": [
    {
     "output_type": "execute_result",
     "data": {
      "text/plain": "True"
     },
     "metadata": {},
     "execution_count": 24
    }
   ],
   "source": [
    "math.isclose((19/155) * (155/19), 1)"
   ]
  },
  {
   "cell_type": "code",
   "execution_count": 25,
   "metadata": {},
   "outputs": [
    {
     "output_type": "execute_result",
     "data": {
      "text/plain": "1.4142135623730951j"
     },
     "metadata": {},
     "execution_count": 25
    }
   ],
   "source": [
    "import cmath\n",
    "cmath.sqrt(-2)"
   ]
  },
  {
   "cell_type": "code",
   "execution_count": 26,
   "metadata": {},
   "outputs": [],
   "source": [
    "total_seconds = 7385\n",
    "hours = total_seconds // 3600\n",
    "remaining_seconds = total_seconds % 3600"
   ]
  },
  {
   "cell_type": "code",
   "execution_count": 27,
   "metadata": {},
   "outputs": [
    {
     "output_type": "execute_result",
     "data": {
      "text/plain": "(2, 3, 5)"
     },
     "metadata": {},
     "execution_count": 27
    }
   ],
   "source": [
    "minutes = remaining_seconds // 60\n",
    "seconds = remaining_seconds % 60\n",
    "hours, minutes, seconds"
   ]
  },
  {
   "cell_type": "code",
   "execution_count": 28,
   "metadata": {},
   "outputs": [
    {
     "output_type": "execute_result",
     "data": {
      "text/plain": "2.0514"
     },
     "metadata": {},
     "execution_count": 28
    }
   ],
   "source": [
    "# Doing a true division\n",
    "\n",
    "total_seconds = 7385\n",
    "hours = total_seconds / 3600\n",
    "round(hours, 4)"
   ]
  },
  {
   "cell_type": "code",
   "execution_count": 29,
   "metadata": {},
   "outputs": [
    {
     "output_type": "execute_result",
     "data": {
      "text/plain": "Fraction(1477, 720)"
     },
     "metadata": {},
     "execution_count": 29
    }
   ],
   "source": [
    "total_seconds = Fraction(7385)\n",
    "hours = total_seconds / 3600\n",
    "hours"
   ]
  },
  {
   "cell_type": "code",
   "execution_count": 30,
   "metadata": {},
   "outputs": [
    {
     "output_type": "execute_result",
     "data": {
      "text/plain": "2.0514"
     },
     "metadata": {},
     "execution_count": 30
    }
   ],
   "source": [
    "round(float(hours), 4)"
   ]
  },
  {
   "cell_type": "markdown",
   "metadata": {},
   "source": [
    "## REWRITING AN IMMUTABLE STRING"
   ]
  },
  {
   "cell_type": "code",
   "execution_count": 31,
   "metadata": {},
   "outputs": [
    {
     "output_type": "error",
     "ename": "TypeError",
     "evalue": "'str' object does not support item assignment",
     "traceback": [
      "\u001b[1;31m---------------------------------------------------------------------------\u001b[0m",
      "\u001b[1;31mTypeError\u001b[0m                                 Traceback (most recent call last)",
      "\u001b[1;32m<ipython-input-31-2ad3cccc58b5>\u001b[0m in \u001b[0;36m<module>\u001b[1;34m\u001b[0m\n\u001b[0;32m      1\u001b[0m \u001b[0mtitle\u001b[0m \u001b[1;33m=\u001b[0m \u001b[1;34m\"Recipe 5: Rewriting, and the Immutable String\"\u001b[0m\u001b[1;33m\u001b[0m\u001b[1;33m\u001b[0m\u001b[0m\n\u001b[1;32m----> 2\u001b[1;33m \u001b[0mtitle\u001b[0m\u001b[1;33m[\u001b[0m\u001b[1;36m8\u001b[0m\u001b[1;33m]\u001b[0m \u001b[1;33m=\u001b[0m \u001b[1;34m''\u001b[0m\u001b[1;33m\u001b[0m\u001b[1;33m\u001b[0m\u001b[0m\n\u001b[0m",
      "\u001b[1;31mTypeError\u001b[0m: 'str' object does not support item assignment"
     ]
    }
   ],
   "source": [
    "title = \"Recipe 5: Rewriting, and the Immutable String\"\n",
    "title[8] = ''"
   ]
  },
  {
   "cell_type": "code",
   "execution_count": 32,
   "metadata": {},
   "outputs": [],
   "source": [
    "# Slicing a piece of string\n",
    "colon_position = title.index(':')\n",
    "discard, post_colon = title[:colon_position], title[colon_position+1:]"
   ]
  },
  {
   "cell_type": "code",
   "execution_count": 33,
   "metadata": {},
   "outputs": [
    {
     "output_type": "execute_result",
     "data": {
      "text/plain": "'Recipe 5'"
     },
     "metadata": {},
     "execution_count": 33
    }
   ],
   "source": [
    "discard"
   ]
  },
  {
   "cell_type": "code",
   "execution_count": 34,
   "metadata": {},
   "outputs": [
    {
     "output_type": "execute_result",
     "data": {
      "text/plain": "' Rewriting, and the Immutable String'"
     },
     "metadata": {},
     "execution_count": 34
    }
   ],
   "source": [
    "post_colon"
   ]
  },
  {
   "cell_type": "code",
   "execution_count": 35,
   "metadata": {},
   "outputs": [
    {
     "output_type": "execute_result",
     "data": {
      "text/plain": "'Recipe 5'"
     },
     "metadata": {},
     "execution_count": 35
    }
   ],
   "source": [
    "pre_colon_text, _, post_colon_text = title.partition(':')\n",
    "pre_colon_text"
   ]
  },
  {
   "cell_type": "code",
   "execution_count": 36,
   "metadata": {},
   "outputs": [
    {
     "output_type": "execute_result",
     "data": {
      "text/plain": "' Rewriting, and the Immutable String'"
     },
     "metadata": {},
     "execution_count": 36
    }
   ],
   "source": [
    "post_colon_text"
   ]
  },
  {
   "cell_type": "code",
   "execution_count": 37,
   "metadata": {},
   "outputs": [
    {
     "output_type": "execute_result",
     "data": {
      "text/plain": "'_Rewriting__and_the_Immutable_String'"
     },
     "metadata": {},
     "execution_count": 37
    }
   ],
   "source": [
    "# Updating a string with a replacement\n",
    "post_colon_text = post_colon_text.replace(' ', '_')\n",
    "post_colon_text = post_colon_text.replace(',', '_')\n",
    "post_colon_text"
   ]
  },
  {
   "cell_type": "code",
   "execution_count": 38,
   "metadata": {},
   "outputs": [
    {
     "output_type": "execute_result",
     "data": {
      "text/plain": "'_Rewriting__and_the_Immutable_String'"
     },
     "metadata": {},
     "execution_count": 38
    }
   ],
   "source": [
    "from string import whitespace, punctuation\n",
    "for character in whitespace + punctuation:\n",
    "    post_colon_text = post_colon_text.replace(character, '_')\n",
    "post_colon_text"
   ]
  },
  {
   "cell_type": "code",
   "execution_count": 39,
   "metadata": {},
   "outputs": [
    {
     "output_type": "execute_result",
     "data": {
      "text/plain": "'Recipe_5__Rewriting_an_Immutable_String'"
     },
     "metadata": {},
     "execution_count": 39
    }
   ],
   "source": [
    "from string import whitespace, punctuation\n",
    "title = \"Recipe 5: Rewriting an Immutable String\"\n",
    "title.translate({ord(c): '_' for c in whitespace+punctuation})"
   ]
  },
  {
   "cell_type": "code",
   "execution_count": 40,
   "metadata": {},
   "outputs": [],
   "source": [
    "while '__' in post_colon_text:\n",
    "    post_colon_text = post_colon_text.replace('__', '_')"
   ]
  },
  {
   "cell_type": "code",
   "execution_count": 41,
   "metadata": {},
   "outputs": [
    {
     "output_type": "execute_result",
     "data": {
      "text/plain": "'_Rewriting_and_the_Immutable_String'"
     },
     "metadata": {},
     "execution_count": 41
    }
   ],
   "source": [
    "post_colon_text"
   ]
  },
  {
   "cell_type": "code",
   "execution_count": 42,
   "metadata": {},
   "outputs": [
    {
     "output_type": "execute_result",
     "data": {
      "text/plain": "3199419194032"
     },
     "metadata": {},
     "execution_count": 42
    }
   ],
   "source": [
    "id(post_colon_text)"
   ]
  },
  {
   "cell_type": "code",
   "execution_count": 43,
   "metadata": {},
   "outputs": [
    {
     "output_type": "execute_result",
     "data": {
      "text/plain": "3199406578928"
     },
     "metadata": {},
     "execution_count": 43
    }
   ],
   "source": [
    "post_colon_text = post_colon_text.replace('_', '-')\n",
    "id(post_colon_text)"
   ]
  },
  {
   "cell_type": "code",
   "execution_count": 44,
   "metadata": {},
   "outputs": [
    {
     "output_type": "execute_result",
     "data": {
      "text/plain": "False"
     },
     "metadata": {},
     "execution_count": 44
    }
   ],
   "source": [
    "'some word'.isnumeric()"
   ]
  },
  {
   "cell_type": "code",
   "execution_count": 45,
   "metadata": {},
   "outputs": [
    {
     "output_type": "execute_result",
     "data": {
      "text/plain": "True"
     },
     "metadata": {},
     "execution_count": 45
    }
   ],
   "source": [
    "'1298'.isnumeric()"
   ]
  },
  {
   "cell_type": "code",
   "execution_count": null,
   "metadata": {},
   "outputs": [],
   "source": []
  }
 ]
}