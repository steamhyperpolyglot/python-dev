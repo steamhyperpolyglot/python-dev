{
 "cells": [
  {
   "cell_type": "code",
   "execution_count": 1,
   "metadata": {},
   "outputs": [
    {
     "name": "stdout",
     "output_type": "stream",
     "text": [
      "-4\n",
      "4\n"
     ]
    }
   ],
   "source": [
    "x = -4\n",
    "y = abs(x)\n",
    "print(x)\n",
    "print(y)"
   ]
  },
  {
   "cell_type": "code",
   "execution_count": 1,
   "metadata": {},
   "outputs": [
    {
     "name": "stdout",
     "output_type": "stream",
     "text": [
      "999.9999\n",
      "-999\n",
      "999\n",
      "3.1416\n",
      "0b10000000\n",
      "0x80\n",
      "0o200\n",
      "128\n",
      "-999.9999\n",
      "<class 'float'>\n",
      "<class 'int'>\n",
      "<class 'str'>\n"
     ]
    }
   ],
   "source": [
    "pi = 3.14159265358979\n",
    "x = 128\n",
    "y = -345.67890987\n",
    "z = -999.9999\n",
    "print(abs(z))\n",
    "print(int(z))\n",
    "print(int(abs(z)))\n",
    "print(round(pi, 4))\n",
    "print(bin(x))\n",
    "print(hex(x))\n",
    "print(oct(x))\n",
    "print(max(pi, x, y, z))\n",
    "print(min(pi, x, y, z))\n",
    "print(type(pi))\n",
    "print(type(x))\n",
    "print(type(str(y)))"
   ]
  },
  {
   "cell_type": "code",
   "execution_count": 3,
   "metadata": {},
   "outputs": [
    {
     "name": "stdout",
     "output_type": "stream",
     "text": [
      "9.0\n"
     ]
    }
   ],
   "source": [
    "import math\n",
    "print(math.sqrt(81))"
   ]
  },
  {
   "cell_type": "code",
   "execution_count": null,
   "metadata": {},
   "outputs": [],
   "source": []
  }
 ],
 "metadata": {
  "kernelspec": {
   "display_name": "Python 3",
   "language": "python",
   "name": "python3"
  },
  "language_info": {
   "codemirror_mode": {
    "name": "ipython",
    "version": 3
   },
   "file_extension": ".py",
   "mimetype": "text/x-python",
   "name": "python",
   "nbconvert_exporter": "python",
   "pygments_lexer": "ipython3",
   "version": "3.8.1"
  }
 },
 "nbformat": 4,
 "nbformat_minor": 4
}
