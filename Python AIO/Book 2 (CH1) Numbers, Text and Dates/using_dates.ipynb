{
 "cells": [
  {
   "cell_type": "code",
   "execution_count": 3,
   "metadata": {
    "collapsed": true,
    "pycharm": {
     "is_executing": false
    }
   },
   "outputs": [
    {
     "name": "stdout",
     "text": [
      "146 days, 0:00:00\n"
     ],
     "output_type": "stream"
    }
   ],
   "source": [
    "import datetime as dt\n",
    "new_years_day = dt.date(2019,1,1)\n",
    "memorial_day = dt.date(2019,5, 27)\n",
    "days_between = memorial_day - new_years_day\n",
    "\n",
    "print(days_between)"
   ]
  },
  {
   "cell_type": "code",
   "execution_count": 4,
   "outputs": [
    {
     "name": "stdout",
     "text": [
      "2019-05-27\n"
     ],
     "output_type": "stream"
    }
   ],
   "source": [
    "import datetime as dt\n",
    "new_years_day = dt.date(2019,1,1)\n",
    "duration = dt.timedelta(days=146)\n",
    "print(new_years_day + duration)"
   ],
   "metadata": {
    "collapsed": false,
    "pycharm": {
     "name": "#%%\n",
     "is_executing": false
    }
   }
  },
  {
   "cell_type": "code",
   "execution_count": 5,
   "outputs": [
    {
     "name": "stdout",
     "text": [
      "2019-01-01\n"
     ],
     "output_type": "stream"
    }
   ],
   "source": [
    "import datetime as dt\n",
    "memorial_day = dt.date(2019,5,27)\n",
    "duration = dt.timedelta(days=146)\n",
    "print(memorial_day - duration)"
   ],
   "metadata": {
    "collapsed": false,
    "pycharm": {
     "name": "#%%\n",
     "is_executing": false
    }
   }
  },
  {
   "cell_type": "code",
   "execution_count": 6,
   "outputs": [
    {
     "name": "stdout",
     "text": [
      "6:34:45\n",
      "<class 'datetime.timedelta'>\n"
     ],
     "output_type": "stream"
    }
   ],
   "source": [
    "import datetime as dt\n",
    "start_time = dt.datetime(2019,3,31,8,0,0)\n",
    "finish_time = dt.datetime(2019,3,31,14,34,45)\n",
    "time_between = finish_time - start_time\n",
    "print(time_between)\n",
    "print(type(time_between))\n"
   ],
   "metadata": {
    "collapsed": false,
    "pycharm": {
     "name": "#%% Calculating the difference in time\n",
     "is_executing": false
    }
   }
  }
 ],
 "metadata": {
  "kernelspec": {
   "display_name": "Python 3",
   "language": "python",
   "name": "python3"
  },
  "language_info": {
   "codemirror_mode": {
    "name": "ipython",
    "version": 2
   },
   "file_extension": ".py",
   "mimetype": "text/x-python",
   "name": "python",
   "nbconvert_exporter": "python",
   "pygments_lexer": "ipython2",
   "version": "2.7.6"
  },
  "pycharm": {
   "stem_cell": {
    "cell_type": "raw",
    "source": [],
    "metadata": {
     "collapsed": false
    }
   }
  }
 },
 "nbformat": 4,
 "nbformat_minor": 0
}