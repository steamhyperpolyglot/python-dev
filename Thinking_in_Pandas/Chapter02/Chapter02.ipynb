{
 "metadata": {
  "language_info": {
   "codemirror_mode": {
    "name": "ipython",
    "version": 3
   },
   "file_extension": ".py",
   "mimetype": "text/x-python",
   "name": "python",
   "nbconvert_exporter": "python",
   "pygments_lexer": "ipython3",
   "version": 3
  },
  "orig_nbformat": 2,
  "kernelspec": {
   "name": "python_defaultSpec_1596135776767",
   "display_name": "Python 3.8.2 64-bit"
  }
 },
 "nbformat": 4,
 "nbformat_minor": 2,
 "cells": [
  {
   "cell_type": "code",
   "execution_count": 1,
   "metadata": {},
   "outputs": [
    {
     "output_type": "execute_result",
     "data": {
      "text/plain": "0     Bob\n1    Mary\n2    Mita\nName: name, dtype: object"
     },
     "metadata": {},
     "execution_count": 1
    }
   ],
   "source": [
    "# Listing 2-1: Example of dictionary syntax\n",
    "\n",
    "import pandas as pd\n",
    "account_info = pd.DataFrame({\n",
    "    \"name\": [\"Bob\", \"Mary\", \"Mita\"],\n",
    "    \"account\": [123846, 123972, 347209],\n",
    "    \"balance\": [123, 3972, 7209]\n",
    "})\n",
    "\n",
    "account_info[\"name\"]"
   ]
  },
  {
   "cell_type": "code",
   "execution_count": 2,
   "metadata": {},
   "outputs": [
    {
     "output_type": "execute_result",
     "data": {
      "text/plain": "    name  account  balance\n0  Smith   123846      123\n1   Jane   123972     3972\n2  Patel   347209     7209",
      "text/html": "<div>\n<style scoped>\n    .dataframe tbody tr th:only-of-type {\n        vertical-align: middle;\n    }\n\n    .dataframe tbody tr th {\n        vertical-align: top;\n    }\n\n    .dataframe thead th {\n        text-align: right;\n    }\n</style>\n<table border=\"1\" class=\"dataframe\">\n  <thead>\n    <tr style=\"text-align: right;\">\n      <th></th>\n      <th>name</th>\n      <th>account</th>\n      <th>balance</th>\n    </tr>\n  </thead>\n  <tbody>\n    <tr>\n      <th>0</th>\n      <td>Smith</td>\n      <td>123846</td>\n      <td>123</td>\n    </tr>\n    <tr>\n      <th>1</th>\n      <td>Jane</td>\n      <td>123972</td>\n      <td>3972</td>\n    </tr>\n    <tr>\n      <th>2</th>\n      <td>Patel</td>\n      <td>347209</td>\n      <td>7209</td>\n    </tr>\n  </tbody>\n</table>\n</div>"
     },
     "metadata": {},
     "execution_count": 2
    }
   ],
   "source": [
    "account_info[\"name\"] = [\"Smith\", \"Jane\", \"Patel\"]\n",
    "account_info"
   ]
  }
 ]
}