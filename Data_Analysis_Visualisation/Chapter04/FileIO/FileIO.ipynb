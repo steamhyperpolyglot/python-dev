{
 "cells": [
  {
   "cell_type": "code",
   "execution_count": 1,
   "metadata": {
    "tags": []
   },
   "outputs": [
    {
     "output_type": "stream",
     "name": "stdout",
     "text": "Name of the file:  sample-text-file.txt\nClosed or not :  False\nOpening mode :  r\n"
    }
   ],
   "source": [
    "# Listing 4-2. Open a file and find its attributes\n",
    "Filehndl = open(\"sample-text-file.txt\", \"r\")\n",
    "print(\"Name of the file: \", Filehndl.name)\n",
    "print(\"Closed or not : \", Filehndl.closed)\n",
    "print(\"Opening mode : \", Filehndl.mode)"
   ]
  },
  {
   "cell_type": "code",
   "execution_count": 2,
   "metadata": {
    "tags": []
   },
   "outputs": [
    {
     "output_type": "stream",
     "name": "stdout",
     "text": "Closed or not :  False\nClosed or not :  True\n"
    }
   ],
   "source": [
    "Filehndl = open(\"sample-text-file.txt\", \"r\")\n",
    "print(\"Closed or not : \", Filehndl.closed)\n",
    "Filehndl.close()\n",
    "print(\"Closed or not : \", Filehndl.closed)"
   ]
  },
  {
   "cell_type": "code",
   "execution_count": 3,
   "metadata": {},
   "outputs": [],
   "source": [
    "Filehndl = open(\"sample-text-file.txt\", \"w+\")\n",
    "Filehndl.write(\"Python Processing Files\\nJuly 2020!!\\n\")\n",
    "# Close opened file\n",
    "Filehndl.close()"
   ]
  },
  {
   "cell_type": "code",
   "execution_count": 1,
   "metadata": {},
   "outputs": [],
   "source": [
    "import os\n",
    "os.rename(\"sample-text-file.txt\", \"test2.txt\")"
   ]
  },
  {
   "cell_type": "code",
   "execution_count": 6,
   "metadata": {},
   "outputs": [],
   "source": [
    "os.mkdir(\"Data 1\")  # create a directory\n",
    "os.mkdir(\"Data_2\")\n",
    "os.getcwd()         # Get the current working directory\n",
    "\n",
    "os.rmdir('Data 1')  # remove a directory"
   ]
  },
  {
   "cell_type": "code",
   "execution_count": null,
   "metadata": {},
   "outputs": [],
   "source": []
  }
 ],
 "metadata": {
  "language_info": {
   "codemirror_mode": {
    "name": "ipython",
    "version": 3
   },
   "file_extension": ".py",
   "mimetype": "text/x-python",
   "name": "python",
   "nbconvert_exporter": "python",
   "pygments_lexer": "ipython3",
   "version": "3.8.2-final"
  },
  "orig_nbformat": 2,
  "kernelspec": {
   "name": "python37764bitsuperchargedpythoncondae839e5ed49a8480faa20190e7570c37b",
   "display_name": "Python 3.7.7 64-bit ('Supercharged_Python': conda)"
  }
 },
 "nbformat": 4,
 "nbformat_minor": 2
}