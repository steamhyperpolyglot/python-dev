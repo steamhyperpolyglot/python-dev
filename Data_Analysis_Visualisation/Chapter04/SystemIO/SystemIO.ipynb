{
 "cells": [
  {
   "cell_type": "code",
   "execution_count": 1,
   "metadata": {},
   "outputs": [
    {
     "output_type": "execute_result",
     "data": {
      "text/plain": "'Sherman Chen'"
     },
     "metadata": {},
     "execution_count": 1
    }
   ],
   "source": [
    "Name = input(\"Enter your name\")\n",
    "Name"
   ]
  },
  {
   "cell_type": "code",
   "execution_count": 2,
   "metadata": {},
   "outputs": [],
   "source": [
    "Mark = input(\"Enter your mark: \")\n",
    "Mark = float(Mark)"
   ]
  },
  {
   "cell_type": "code",
   "execution_count": 9,
   "metadata": {
    "tags": []
   },
   "outputs": [
    {
     "output_type": "stream",
     "name": "stdout",
     "text": "Welcome to Grading System \nHCT2018\n\nCampus\t Name\t\t Mark\t Grade\nFMC\t Sherman Chen \t 92.0 \t B+\n"
    }
   ],
   "source": [
    "print(\"Welcome to Grading System \\nHCT2018\")\n",
    "print(\"\\nCampus\\t Name\\t\\t Mark\\t Grade\")\n",
    "if Mark >= 85:\n",
    "    Grade = \"B+\"\n",
    "    print(\"FMC\\t\", Name, \"\\t\", Mark, \"\\t\", Grade)"
   ]
  },
  {
   "cell_type": "code",
   "execution_count": null,
   "metadata": {},
   "outputs": [],
   "source": []
  }
 ],
 "metadata": {
  "language_info": {
   "codemirror_mode": {
    "name": "ipython",
    "version": 3
   },
   "file_extension": ".py",
   "mimetype": "text/x-python",
   "name": "python",
   "nbconvert_exporter": "python",
   "pygments_lexer": "ipython3",
   "version": "3.8.2-final"
  },
  "orig_nbformat": 2,
  "kernelspec": {
   "name": "python37764bitsuperchargedpythoncondae839e5ed49a8480faa20190e7570c37b",
   "display_name": "Python 3.7.7 64-bit ('Supercharged_Python': conda)"
  }
 },
 "nbformat": 4,
 "nbformat_minor": 2
}