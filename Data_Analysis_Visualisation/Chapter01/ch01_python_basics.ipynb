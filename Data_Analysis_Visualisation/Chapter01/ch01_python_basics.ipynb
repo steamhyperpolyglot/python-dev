{
 "cells": [
  {
   "cell_type": "code",
   "execution_count": 1,
   "metadata": {
    "tags": []
   },
   "outputs": [
    {
     "output_type": "stream",
     "name": "stdout",
     "text": "\nName = Sherman\n\nAge = 38\n"
    }
   ],
   "source": [
    "name = input(\"Enter your name\")\n",
    "age = int(input(\"Enter your age\"))\n",
    "print(\"\\nName =\", name); print(\"\\nAge =\", age)"
   ]
  },
  {
   "cell_type": "code",
   "execution_count": 2,
   "metadata": {
    "tags": []
   },
   "outputs": [
    {
     "output_type": "stream",
     "name": "stdout",
     "text": "11\nNour\n100.5\n"
    }
   ],
   "source": [
    "age = 11\n",
    "name = \"Nour\"\n",
    "tall = 100.50\n",
    "print(age)\n",
    "print(name)\n",
    "print(tall)"
   ]
  },
  {
   "cell_type": "code",
   "execution_count": 3,
   "metadata": {
    "tags": []
   },
   "outputs": [
    {
     "output_type": "stream",
     "name": "stdout",
     "text": "25\n25\n25\n"
    }
   ],
   "source": [
    "# Multiple assignments\n",
    "age = mark = code = 25\n",
    "print(age)\n",
    "print(mark)\n",
    "print(code)"
   ]
  },
  {
   "cell_type": "code",
   "execution_count": 4,
   "metadata": {
    "tags": []
   },
   "outputs": [
    {
     "output_type": "stream",
     "name": "stdout",
     "text": "10\n75\nCIS2403\n"
    }
   ],
   "source": [
    "age, mark, code = 10, 75, \"CIS2403\"\n",
    "print(age)\n",
    "print(mark)\n",
    "print(code)"
   ]
  },
  {
   "cell_type": "code",
   "execution_count": 5,
   "metadata": {
    "tags": []
   },
   "outputs": [
    {
     "output_type": "stream",
     "name": "stdout",
     "text": "0.94\n"
    }
   ],
   "source": [
    "# Expressions\n",
    "x = 0.6\n",
    "x = 3.9 * x * (1 - x)\n",
    "print(round(x, 2))"
   ]
  },
  {
   "cell_type": "code",
   "execution_count": 6,
   "metadata": {
    "tags": []
   },
   "outputs": [
    {
     "output_type": "stream",
     "name": "stdout",
     "text": "2\n18\n8\n10\n2.6\n3\n8\n"
    }
   ],
   "source": [
    "# Arithmetic operations in Python\n",
    "print(13 // 5)\n",
    "print(13 + 5)\n",
    "print(13 - 5)\n",
    "print(2 * 5)\n",
    "print(13 / 5)\n",
    "print(13 % 5)\n",
    "print(2 ** 3)"
   ]
  },
  {
   "cell_type": "code",
   "execution_count": 7,
   "metadata": {
    "tags": []
   },
   "outputs": [
    {
     "output_type": "stream",
     "name": "stdout",
     "text": "10\n5.0\n17\n4\n"
    }
   ],
   "source": [
    "# Assign operators\n",
    "x = 10\n",
    "print(x)\n",
    "\n",
    "x = 10; x /= 2\n",
    "print(x)\n",
    "\n",
    "x = 10; x += 7\n",
    "print(x)\n",
    "\n",
    "x = 10; x -= 6\n",
    "print(x)"
   ]
  },
  {
   "cell_type": "code",
   "execution_count": 8,
   "metadata": {
    "tags": []
   },
   "outputs": [
    {
     "output_type": "stream",
     "name": "stdout",
     "text": "50\n3\n1000\n5\n"
    }
   ],
   "source": [
    "x = 10; x *= 5\n",
    "print(x)\n",
    "\n",
    "x = 13; x %= 5\n",
    "print(x)\n",
    "\n",
    "x = 10; x **= 3\n",
    "print(x)\n",
    "\n",
    "x = 10; x //= 2\n",
    "print(x)"
   ]
  },
  {
   "cell_type": "code",
   "execution_count": 9,
   "metadata": {
    "tags": []
   },
   "outputs": [
    {
     "output_type": "stream",
     "name": "stdout",
     "text": "False\nTrue\nTrue\n"
    }
   ],
   "source": [
    "# Python logical operators\n",
    "x = 10 > 5 and 4 > 20\n",
    "print(x)\n",
    "\n",
    "x = 10 > 5 or 4 > 20\n",
    "print(x)\n",
    "\n",
    "x = not (10 < 4)\n",
    "print(x)"
   ]
  },
  {
   "cell_type": "code",
   "execution_count": 10,
   "metadata": {
    "tags": []
   },
   "outputs": [
    {
     "output_type": "stream",
     "name": "stdout",
     "text": "pi = 3.14159\n"
    }
   ],
   "source": [
    "# string formatting\n",
    "print (\"pi = %s\"%\"3.14159\")"
   ]
  },
  {
   "cell_type": "code",
   "execution_count": 11,
   "metadata": {
    "tags": []
   },
   "outputs": [
    {
     "output_type": "stream",
     "name": "stdout",
     "text": "The value of pi is = 3.141590\n"
    }
   ],
   "source": [
    "print(\"The value of %s is = %02f\" % (\"pi\", 3.14159))"
   ]
  },
  {
   "cell_type": "code",
   "execution_count": 12,
   "metadata": {
    "tags": []
   },
   "outputs": [
    {
     "output_type": "stream",
     "name": "stdout",
     "text": "Your name is Ossama, and your height is 172.16 while your weight is 75\n"
    }
   ],
   "source": [
    "print(\"Your name is %s, and your height is %.2f while your weight is %.2d\" % \\\n",
    "    ('Ossama', 172.156783, 75.56647))"
   ]
  },
  {
   "cell_type": "code",
   "execution_count": 13,
   "metadata": {
    "tags": []
   },
   "outputs": [
    {
     "output_type": "stream",
     "name": "stdout",
     "text": "Hi Ossama, your height is 172.16\n"
    }
   ],
   "source": [
    "print(\"Hi %(Name)s, your height is %(height).2f\" % {'Name': 'Ossama', 'height': 172.156783})"
   ]
  },
  {
   "cell_type": "code",
   "execution_count": 14,
   "metadata": {
    "tags": []
   },
   "outputs": [
    {
     "output_type": "stream",
     "name": "stdout",
     "text": "The price is 1920.345\n"
    }
   ],
   "source": [
    "# using the replacement field\n",
    "x = \"price is\"\n",
    "print(\"{1} {0} {2}\".format(x, \"The\", 1920.345))"
   ]
  },
  {
   "cell_type": "code",
   "execution_count": 15,
   "metadata": {
    "tags": []
   },
   "outputs": [
    {
     "output_type": "stream",
     "name": "stdout",
     "text": "This is another 9\n"
    }
   ],
   "source": [
    "class A():\n",
    "    x = 9\n",
    "\n",
    "w = A()\n",
    "print(\"{0} {1[2]} {2[test]} {3.x}\".format(\"This\", [\"a\", \"or\", \"is\"], {\"test\": \"another\"}, w))"
   ]
  },
  {
   "cell_type": "code",
   "execution_count": 19,
   "metadata": {
    "tags": []
   },
   "outputs": [
    {
     "output_type": "stream",
     "name": "stdout",
     "text": "or This is another 9\n"
    }
   ],
   "source": [
    "print(\"{1[1]} {0} {1[2]} {2[test]} {3.x}\".format(\"This\", [\"a\", \"or\", \"is\"], {\"test\": \"another\"}, w))"
   ]
  },
  {
   "cell_type": "code",
   "execution_count": 20,
   "metadata": {
    "tags": []
   },
   "outputs": [
    {
     "output_type": "stream",
     "name": "stdout",
     "text": "Formatted time : Fri Jun 19 21:52:34 2020\ntime.struct_time(tm_year=2020, tm_mon=6, tm_mday=19, tm_hour=21, tm_min=52, tm_sec=34, tm_wday=4, tm_yday=171, tm_isdst=0)\n1592574754.0819635\n"
    }
   ],
   "source": [
    "# Using time methods\n",
    "import time\n",
    "localtime = time.asctime(time.localtime(time.time()))\n",
    "print(\"Formatted time :\", localtime)\n",
    "print(time.localtime())\n",
    "print(time.time())"
   ]
  },
  {
   "cell_type": "code",
   "execution_count": 21,
   "metadata": {
    "tags": []
   },
   "outputs": [
    {
     "output_type": "stream",
     "name": "stdout",
     "text": "2020\n\n      January                   February                   March\nMo Tu We Th Fr Sa Su      Mo Tu We Th Fr Sa Su      Mo Tu We Th Fr Sa Su\n       1  2  3  4  5                      1  2                         1\n 6  7  8  9 10 11 12       3  4  5  6  7  8  9       2  3  4  5  6  7  8\n13 14 15 16 17 18 19      10 11 12 13 14 15 16       9 10 11 12 13 14 15\n20 21 22 23 24 25 26      17 18 19 20 21 22 23      16 17 18 19 20 21 22\n27 28 29 30 31            24 25 26 27 28 29         23 24 25 26 27 28 29\n                                                    30 31\n\n       April                      May                       June\nMo Tu We Th Fr Sa Su      Mo Tu We Th Fr Sa Su      Mo Tu We Th Fr Sa Su\n       1  2  3  4  5                   1  2  3       1  2  3  4  5  6  7\n 6  7  8  9 10 11 12       4  5  6  7  8  9 10       8  9 10 11 12 13 14\n13 14 15 16 17 18 19      11 12 13 14 15 16 17      15 16 17 18 19 20 21\n20 21 22 23 24 25 26      18 19 20 21 22 23 24      22 23 24 25 26 27 28\n27 28 29 30               25 26 27 28 29 30 31      29 30\n\n        July                     August                  September\nMo Tu We Th Fr Sa Su      Mo Tu We Th Fr Sa Su      Mo Tu We Th Fr Sa Su\n       1  2  3  4  5                      1  2          1  2  3  4  5  6\n 6  7  8  9 10 11 12       3  4  5  6  7  8  9       7  8  9 10 11 12 13\n13 14 15 16 17 18 19      10 11 12 13 14 15 16      14 15 16 17 18 19 20\n20 21 22 23 24 25 26      17 18 19 20 21 22 23      21 22 23 24 25 26 27\n27 28 29 30 31            24 25 26 27 28 29 30      28 29 30\n                          31\n\n      October                   November                  December\nMo Tu We Th Fr Sa Su      Mo Tu We Th Fr Sa Su      Mo Tu We Th Fr Sa Su\n          1  2  3  4                         1          1  2  3  4  5  6\n 5  6  7  8  9 10 11       2  3  4  5  6  7  8       7  8  9 10 11 12 13\n12 13 14 15 16 17 18       9 10 11 12 13 14 15      14 15 16 17 18 19 20\n19 20 21 22 23 24 25      16 17 18 19 20 21 22      21 22 23 24 25 26 27\n26 27 28 29 30 31         23 24 25 26 27 28 29      28 29 30 31\n                          30\n"
    }
   ],
   "source": [
    "import calendar\n",
    "calendar.prcal(2020)"
   ]
  },
  {
   "cell_type": "code",
   "execution_count": null,
   "metadata": {},
   "outputs": [],
   "source": []
  }
 ],
 "metadata": {
  "language_info": {
   "codemirror_mode": {
    "name": "ipython",
    "version": 3
   },
   "file_extension": ".py",
   "mimetype": "text/x-python",
   "name": "python",
   "nbconvert_exporter": "python",
   "pygments_lexer": "ipython3",
   "version": "3.8.2-final"
  },
  "orig_nbformat": 2,
  "kernelspec": {
   "name": "python38264bit452ca6f7d40b4ec1bc02c8f94f125681",
   "display_name": "Python 3.8.2 64-bit"
  }
 },
 "nbformat": 4,
 "nbformat_minor": 2
}