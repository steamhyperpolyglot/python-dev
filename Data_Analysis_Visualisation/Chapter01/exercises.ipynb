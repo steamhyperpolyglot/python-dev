{
 "cells": [
  {
   "cell_type": "code",
   "execution_count": 2,
   "metadata": {
    "tags": []
   },
   "outputs": [
    {
     "output_type": "stream",
     "name": "stdout",
     "text": "The sum of 10 and 5 is 15.0\nThe subtraction of 10 and 5 is 5.0\nThe multiplication of 10 and 5 is 50.0\nThe division of 10 and 5 is 2.0\n"
    }
   ],
   "source": [
    "# Store input numbers:\n",
    "num1 = input('Enter first number: ')\n",
    "num2 = input('Enter second number: ')\n",
    "sumval = float(num1) + float(num2)\n",
    "minval = float(num1) - float(num2)\n",
    "mulval = float(num1) * float(num2)\n",
    "divval = float(num1) / float(num2)\n",
    "\n",
    "# Display the sum\n",
    "print('The sum of {0} and {1} is {2}'.format(num1, num2, sumval))\n",
    "\n",
    "# Display the subtraction\n",
    "print('The subtraction of {0} and {1} is {2}'.format(num1, num2, minval))\n",
    "\n",
    "# Display the multiplication\n",
    "print('The multiplication of {0} and {1} is {2}'.format(num1, num2, mulval))\n",
    "\n",
    "# Display the division\n",
    "print('The division of {0} and {1} is {2}'.format(num1, num2, divval))"
   ]
  },
  {
   "cell_type": "code",
   "execution_count": 4,
   "metadata": {
    "tags": []
   },
   "outputs": [
    {
     "output_type": "stream",
     "name": "stdout",
     "text": "The area of the triangle is 30.59\n"
    }
   ],
   "source": [
    "# Calculating the area of a triangle\n",
    "# (s * (s - a) * (s - b) * (s - c)) - 1/2\n",
    "\n",
    "a = float(input('Enter first side: '))\n",
    "b = float(input('Enter second side: '))\n",
    "c = float(input('Enter third side: '))\n",
    "s = (a + b + c) / 2 # calculate the semiperimeter\n",
    "area = (s * (s - a) * (s - b) * (s - c)) ** 0.5     # calculate the area\n",
    "print('The area of the triangle is %0.2f' % area)"
   ]
  },
  {
   "cell_type": "code",
   "execution_count": 5,
   "metadata": {
    "tags": []
   },
   "outputs": [
    {
     "output_type": "stream",
     "name": "stdout",
     "text": "37\n"
    },
    {
     "output_type": "execute_result",
     "data": {
      "text/plain": "[49, 67, 71]"
     },
     "metadata": {},
     "execution_count": 5
    }
   ],
   "source": [
    "# Generating some random values\n",
    "import random\n",
    "\n",
    "a = int(input('Enter the starting value : '))\n",
    "b = int(input('Enter the end value : '))\n",
    "print(random.randint(a, b))\n",
    "random.sample(range(a, b), 3)"
   ]
  },
  {
   "cell_type": "code",
   "execution_count": 6,
   "metadata": {
    "tags": []
   },
   "outputs": [
    {
     "output_type": "stream",
     "name": "stdout",
     "text": "100.00 kilometres is equal to 62.14 miles\n"
    }
   ],
   "source": [
    "# Convert kilometres to miles\n",
    "kilometres = float(input('Enter the distance in kilometres: '))\n",
    "# conversion factor\n",
    "Miles = kilometres * 0.62137\n",
    "print('%0.2f kilometres is equal to %0.2f miles' % (kilometres, Miles))"
   ]
  },
  {
   "cell_type": "code",
   "execution_count": 7,
   "metadata": {
    "tags": []
   },
   "outputs": [
    {
     "output_type": "stream",
     "name": "stdout",
     "text": "37.50 Celsius is equal to 99.50 Fahrenheit\n"
    }
   ],
   "source": [
    "# Convert Celsius to Fahrenheit\n",
    "Celsius = float(input('Enter temperature in Celsius: '))\n",
    "# conversion factor\n",
    "Fahrenheit = (Celsius * 1.8) + 32\n",
    "print('%0.2f Celsius is equal to %0.2f Fahrenheit' % (Celsius, Fahrenheit))"
   ]
  },
  {
   "cell_type": "code",
   "execution_count": 8,
   "metadata": {
    "tags": []
   },
   "outputs": [
    {
     "output_type": "stream",
     "name": "stdout",
     "text": "Pay: 550.0\n"
    }
   ],
   "source": [
    "# Calculate pay based on hours worked and rate.\n",
    "Hflage = True\n",
    "Rflage = True\n",
    "while Hflage & Rflage:\n",
    "    hours = input('Enter Hours:')\n",
    "    try:\n",
    "        hours = int(hours)\n",
    "        Hflage = False\n",
    "    except:\n",
    "        print(\"Incorrect hours number !!!\")\n",
    "    \n",
    "    try:\n",
    "        rate = input('Enter Rate:')\n",
    "        rate = float(rate)\n",
    "        Rflage = False\n",
    "    except:\n",
    "        print(\"Incorrect rate!!\")\n",
    "\n",
    "if hours > 40:\n",
    "    pay = 40 * rate + (rate * 1.5) * (hours - 40)\n",
    "else:\n",
    "    pay = hours * rate\n",
    "\n",
    "print('Pay:', pay)"
   ]
  },
  {
   "cell_type": "code",
   "execution_count": 9,
   "metadata": {
    "tags": []
   },
   "outputs": [
    {
     "output_type": "stream",
     "name": "stdout",
     "text": "-12.0 is negative number\n"
    }
   ],
   "source": [
    "# Check if a value is positive or negative\n",
    "Val = float(input(\"Enter a number: \"))\n",
    "\n",
    "if Val > 0:\n",
    "    print(\"{0} is a positive number\".format(Val))\n",
    "elif Val == 0:\n",
    "    print(\"{0} is zero\".format(Val))\n",
    "else:\n",
    "    print(\"{0} is negative number\".format(Val))"
   ]
  },
  {
   "cell_type": "code",
   "execution_count": 10,
   "metadata": {
    "tags": []
   },
   "outputs": [
    {
     "output_type": "stream",
     "name": "stdout",
     "text": "15 is an Odd number\n"
    }
   ],
   "source": [
    "# Check if a value is Odd or Even\n",
    "val = int(input(\"Enter a number: \"))\n",
    "\n",
    "if (val % 2) == 0:\n",
    "    print(\"{0} is an Even number\".format(val))\n",
    "else:\n",
    "    print(\"{0} is an Odd number\".format(val))"
   ]
  },
  {
   "cell_type": "code",
   "execution_count": 11,
   "metadata": {
    "tags": []
   },
   "outputs": [
    {
     "output_type": "stream",
     "name": "stdout",
     "text": "This is an adult\n"
    }
   ],
   "source": [
    "# Check for age group\n",
    "age = int(input(\"Enter age of a person : \"))\n",
    "if age < 13:\n",
    "    print(\"This is a child\")\n",
    "elif age >= 13 and age <= 17:\n",
    "    print(\"This is a teenager\")\n",
    "elif age >= 18 and age <= 59:\n",
    "    print(\"This is an adult\")\n",
    "else:\n",
    "    print(\"This is a senior\")"
   ]
  },
  {
   "cell_type": "code",
   "execution_count": 12,
   "metadata": {
    "tags": []
   },
   "outputs": [
    {
     "output_type": "stream",
     "name": "stdout",
     "text": "500 AE Fine\n"
    }
   ],
   "source": [
    "# Car speed and fine\n",
    "Speed = int(input(\"Enter your car speed\"))\n",
    "if Speed < 80:\n",
    "    print(\"No Fines\")\n",
    "elif Speed >= 81 and Speed <= 99:\n",
    "    print(\"200 AE Fine\")\n",
    "elif Speed >= 100 and Speed <= 109:\n",
    "    print(\"350 AE Fine\")\n",
    "else:\n",
    "    print(\"500 AE Fine\")"
   ]
  },
  {
   "cell_type": "code",
   "execution_count": 13,
   "metadata": {
    "tags": []
   },
   "outputs": [
    {
     "output_type": "stream",
     "name": "stdout",
     "text": "2000 is a leap year\n"
    }
   ],
   "source": [
    "# Is it a leap year?\n",
    "year = int(input(\"Enter a year: \"))\n",
    "if year % 4 == 0:\n",
    "    if year % 100 == 0:\n",
    "        if year % 400 == 0:\n",
    "            print(\"{0} is a leap year\".format(year))\n",
    "        else:\n",
    "            print(\"{0} is not a leap year\".format(year))\n",
    "    else:\n",
    "        print(\"{0} is a leap year\".format(year))\n",
    "else:\n",
    "    print(\"{0} is not a leap year\".format(year))"
   ]
  },
  {
   "cell_type": "code",
   "execution_count": 14,
   "metadata": {
    "tags": []
   },
   "outputs": [
    {
     "output_type": "stream",
     "name": "stdout",
     "text": "Fibonacci sequence:\n0 , 1, 1 , 2 , 3 , 5 , 8 , 13 ,"
    }
   ],
   "source": [
    "# Fibonacci Sequence\n",
    "nterms = int(input(\"How many terms you want?\"))\n",
    "# first two terms\n",
    "n1 = 0\n",
    "n2 = 1\n",
    "count = 2\n",
    "# check if the number of terms is valid\n",
    "if nterms <= 0:\n",
    "    print(\"Please enter a positive integer\")\n",
    "elif nterms == 1:\n",
    "    print(\"Fibonacci sequence:\")\n",
    "    print(n1)\n",
    "else:\n",
    "    print(\"Fibonacci sequence:\")\n",
    "    print(n1, \",\", n2, end=', ')    # end=', ' is used to continue printing in the same line\n",
    "    while count < nterms:\n",
    "        nth = n1 + n2\n",
    "        print(nth, end=' , ')\n",
    "        # update values\n",
    "        n1 = n2\n",
    "        n2 = nth\n",
    "        count += 1"
   ]
  },
  {
   "cell_type": "code",
   "execution_count": null,
   "metadata": {},
   "outputs": [],
   "source": []
  }
 ],
 "metadata": {
  "language_info": {
   "codemirror_mode": {
    "name": "ipython",
    "version": 3
   },
   "file_extension": ".py",
   "mimetype": "text/x-python",
   "name": "python",
   "nbconvert_exporter": "python",
   "pygments_lexer": "ipython3",
   "version": "3.8.2-final"
  },
  "orig_nbformat": 2,
  "kernelspec": {
   "name": "python38264bit452ca6f7d40b4ec1bc02c8f94f125681",
   "display_name": "Python 3.8.2 64-bit"
  }
 },
 "nbformat": 4,
 "nbformat_minor": 2
}