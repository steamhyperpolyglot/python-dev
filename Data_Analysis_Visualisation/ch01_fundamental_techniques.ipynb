{
 "cells": [
  {
   "cell_type": "code",
   "execution_count": 1,
   "metadata": {
    "tags": []
   },
   "outputs": [
    {
     "output_type": "stream",
     "name": "stdout",
     "text": "Equal 5\n"
    }
   ],
   "source": [
    "x = 5\n",
    "if x == 5:\n",
    "    print('Equal 5')\n",
    "elif x > 5:\n",
    "    print('Greater than 5')\n",
    "elif x < 5:\n",
    "    print('Less than 5')"
   ]
  },
  {
   "cell_type": "code",
   "execution_count": 3,
   "metadata": {
    "tags": []
   },
   "outputs": [
    {
     "output_type": "stream",
     "name": "stdout",
     "text": "Year ( 2000 ) is Leap\n"
    }
   ],
   "source": [
    "year = 2000\n",
    "if year % 4 == 0:\n",
    "    print(\"Year (\", year, \") is Leap\")\n",
    "else:\n",
    "    print(year, \"Year is not Leap\")"
   ]
  },
  {
   "cell_type": "code",
   "execution_count": 4,
   "metadata": {
    "tags": []
   },
   "outputs": [
    {
     "output_type": "stream",
     "name": "stdout",
     "text": "Now we are out of if block\n\n"
    }
   ],
   "source": [
    "x = 2\n",
    "if x > 2:\n",
    "    print(\"Bigger than 2\")\n",
    "    print(\" X Value bigger than 2\")\n",
    "print(\"Now we are out of if block\\n\")"
   ]
  },
  {
   "cell_type": "code",
   "execution_count": 6,
   "metadata": {
    "tags": []
   },
   "outputs": [
    {
     "output_type": "stream",
     "name": "stdout",
     "text": "All Conditions are false\n"
    }
   ],
   "source": [
    "a = 10\n",
    "if a >= 20:\n",
    "    print(\"Condition is True\")\n",
    "else:\n",
    "    if a >= 15:\n",
    "        print(\"Checking second value\")\n",
    "    else:\n",
    "        print(\"All Conditions are false\")"
   ]
  },
  {
   "cell_type": "code",
   "execution_count": 7,
   "metadata": {
    "tags": []
   },
   "outputs": [
    {
     "output_type": "stream",
     "name": "stdout",
     "text": "1\n2\n3\n"
    }
   ],
   "source": [
    "# Use the range statement\n",
    "for a in range(1, 4):\n",
    "    print(a)"
   ]
  },
  {
   "cell_type": "code",
   "execution_count": 8,
   "metadata": {
    "tags": []
   },
   "outputs": [
    {
     "output_type": "stream",
     "name": "stdout",
     "text": "0\n1\n2\n3\n"
    }
   ],
   "source": [
    "for a in range(4):\n",
    "    print(a)"
   ]
  },
  {
   "cell_type": "code",
   "execution_count": 10,
   "metadata": {
    "tags": []
   },
   "outputs": [
    {
     "output_type": "stream",
     "name": "stdout",
     "text": "Your ticket number is 4\nYour ticket number is 3\nYour ticket number is 2\nYour ticket number is 1\n"
    }
   ],
   "source": [
    "ticket = 4\n",
    "while ticket > 0:\n",
    "    print(\"Your ticket number is\", ticket)\n",
    "    ticket -= 1"
   ]
  },
  {
   "cell_type": "code",
   "execution_count": 12,
   "metadata": {
    "tags": []
   },
   "outputs": [
    {
     "output_type": "stream",
     "name": "stdout",
     "text": "Before: None\nLoop 30 30\nLoop 45 45\nLoop 90 90\nLargest 90\n"
    }
   ],
   "source": [
    "largest = None\n",
    "print('Before:', largest)\n",
    "for val in [30, 45, 12, 90, 74, 15]:\n",
    "    if largest is None or val > largest:\n",
    "        largest = val\n",
    "        print(\"Loop\", val, largest)\n",
    "print(\"Largest\", largest)"
   ]
  },
  {
   "cell_type": "code",
   "execution_count": 13,
   "metadata": {
    "tags": []
   },
   "outputs": [
    {
     "output_type": "stream",
     "name": "stdout",
     "text": "P\ny\nt\nh\n"
    }
   ],
   "source": [
    "# Break, Continue and Pass statements\n",
    "for letter in 'Python3':\n",
    "    if letter == 'o':\n",
    "        break\n",
    "    print(letter)"
   ]
  },
  {
   "cell_type": "code",
   "execution_count": 1,
   "metadata": {
    "tags": []
   },
   "outputs": [
    {
     "output_type": "stream",
     "name": "stdout",
     "text": "1\n3\n5\nEnd of Loop\n"
    }
   ],
   "source": [
    "a = 0\n",
    "while a <= 5:\n",
    "    a = a + 1\n",
    "    if a % 2 == 0:\n",
    "        continue\n",
    "    print (a)\n",
    "print(\"End of Loop\")"
   ]
  },
  {
   "cell_type": "code",
   "execution_count": 2,
   "metadata": {
    "tags": []
   },
   "outputs": [
    {
     "output_type": "stream",
     "name": "stdout",
     "text": "1\n2\nPass when value is 3\n3\n4\n5\n"
    }
   ],
   "source": [
    "for i in [1, 2, 3, 4, 5]:\n",
    "    if i == 3:\n",
    "        pass\n",
    "        print(\"Pass when value is\", i)\n",
    "    print(i)\n"
   ]
  },
  {
   "cell_type": "code",
   "execution_count": 3,
   "metadata": {
    "tags": []
   },
   "outputs": [
    {
     "output_type": "stream",
     "name": "stdout",
     "text": "var1[0]: W\nvar2[1:5]: ytho\n"
    }
   ],
   "source": [
    "var1 = 'Welcome to Dubai'\n",
    "var2 = \"Python Programming\"\n",
    "print(\"var1[0]:\", var1[0])\n",
    "print(\"var2[1:5]:\", var2[1:5])"
   ]
  },
  {
   "cell_type": "code",
   "execution_count": 4,
   "metadata": {
    "tags": []
   },
   "outputs": [
    {
     "output_type": "stream",
     "name": "stdout",
     "text": "Hello World\n"
    }
   ],
   "source": [
    "st1 = \"Hello\"\n",
    "st2 = ' World'\n",
    "fullst = st1 + st2\n",
    "print(fullst)"
   ]
  },
  {
   "cell_type": "code",
   "execution_count": 5,
   "metadata": {
    "tags": []
   },
   "outputs": [
    {
     "output_type": "stream",
     "name": "stdout",
     "text": "a\nn\n6\n"
    }
   ],
   "source": [
    "# looking inside strings\n",
    "fruit = 'banana'\n",
    "letter = fruit[1]\n",
    "print(letter)\n",
    "index = 3\n",
    "w = fruit[index - 1]\n",
    "print(w)\n",
    "print(len(fruit))"
   ]
  },
  {
   "cell_type": "code",
   "execution_count": 6,
   "metadata": {
    "tags": []
   },
   "outputs": [
    {
     "output_type": "stream",
     "name": "stdout",
     "text": "124\n"
    }
   ],
   "source": [
    "# Convert string to int\n",
    "str3 = '123'\n",
    "str3 = int(str3) + 1\n",
    "print(str3)"
   ]
  },
  {
   "cell_type": "code",
   "execution_count": 7,
   "metadata": {
    "tags": []
   },
   "outputs": [
    {
     "output_type": "stream",
     "name": "stdout",
     "text": "Name: Sherman \t Age: 39\n"
    }
   ],
   "source": [
    "# Read and convert data\n",
    "name = input('Enter your name: ')\n",
    "age = input('Enter your age: ')\n",
    "age = int(age) + 1\n",
    "print(\"Name: %s\" % name, \"\\t Age: %d\"% age)"
   ]
  },
  {
   "cell_type": "code",
   "execution_count": 8,
   "metadata": {
    "tags": []
   },
   "outputs": [
    {
     "output_type": "stream",
     "name": "stdout",
     "text": "0 b\n1 a\n2 n\n3 a\n4 n\n5 a\n"
    }
   ],
   "source": [
    "# Loop through string\n",
    "fruit = 'banana'\n",
    "index = 0\n",
    "while index < len(fruit):\n",
    "    letter = fruit[index]\n",
    "    print(index, letter)\n",
    "    index = index + 1"
   ]
  },
  {
   "cell_type": "code",
   "execution_count": 9,
   "metadata": {
    "tags": []
   },
   "outputs": [
    {
     "output_type": "stream",
     "name": "stdout",
     "text": "\n Implementing iteration with continue\nHigher Colleges of Technology\nEnd!\n"
    }
   ],
   "source": [
    "print(\"\\n Implementing iteration with continue\")\n",
    "while True:\n",
    "    line = input('Enter your data>')\n",
    "    if line[0] == '#':\n",
    "        continue\n",
    "    if line == 'done':\n",
    "        break\n",
    "    print(line)\n",
    "print('End!')"
   ]
  },
  {
   "cell_type": "code",
   "execution_count": 10,
   "metadata": {
    "tags": []
   },
   "outputs": [
    {
     "output_type": "stream",
     "name": "stdout",
     "text": "\n Printing in reverse order\n5 a\n4 n\n3 a\n2 n\n1 a\n0 b\n"
    }
   ],
   "source": [
    "print(\"\\n Printing in reverse order\")\n",
    "index = len(fruit) - 1\n",
    "while index >= 0:\n",
    "    letter = fruit [index]\n",
    "    print(index, letter)\n",
    "    index = index - 1"
   ]
  },
  {
   "cell_type": "code",
   "execution_count": 11,
   "metadata": {
    "tags": []
   },
   "outputs": [
    {
     "output_type": "stream",
     "name": "stdout",
     "text": "E\ng\ny\np\nt\n"
    }
   ],
   "source": [
    "Country = 'Egypt'\n",
    "for letter in Country:\n",
    "    print(letter)"
   ]
  },
  {
   "cell_type": "code",
   "execution_count": 13,
   "metadata": {
    "tags": []
   },
   "outputs": [
    {
     "output_type": "stream",
     "name": "stdout",
     "text": "Number of a in banana is : 3\n"
    }
   ],
   "source": [
    "# Looking and counting\n",
    "word = 'banana'\n",
    "count = 0\n",
    "for letter in word:\n",
    "    if letter == 'a':\n",
    "        count += 1\n",
    "print(\"Number of a in\", word, \"is :\", count)"
   ]
  },
  {
   "cell_type": "code",
   "execution_count": 14,
   "metadata": {
    "tags": []
   },
   "outputs": [
    {
     "output_type": "stream",
     "name": "stdout",
     "text": "Welc\ne\ne to Higher Co\nWelcome to H\nlcome to Higher Colleges of Technology\nWelcome to Higher Colleges of Technology\nWelcome to Higher Colleges of Technology\n"
    }
   ],
   "source": [
    "# String Slicing\n",
    "s = \"Welcome to Higher Colleges of Technology\"\n",
    "print(s[0:4])\n",
    "print(s[6:7])\n",
    "print(s[6:20])\n",
    "print(s[:12])\n",
    "print(s[2:])\n",
    "print(s[:])\n",
    "print(s)"
   ]
  },
  {
   "cell_type": "code",
   "execution_count": 16,
   "metadata": {
    "tags": []
   },
   "outputs": [
    {
     "output_type": "stream",
     "name": "stdout",
     "text": "HIGHER COLLEGES OF TECHNOLOGY\nhigher colleges of technology\nwelcome to\n29\n3\n1\n"
    }
   ],
   "source": [
    "# Using string methods\n",
    "var1 = 'Higher Colleges of Technology'\n",
    "var2 = 'College'\n",
    "var3 = 'g'\n",
    "print(var1.upper())\n",
    "print(var1.lower())\n",
    "print('WELCOME TO'.lower())\n",
    "print(len(var1))\n",
    "print(var1.count(var3, 2, 29))  # find how many g letters in var1\n",
    "print(var2.count(var3))"
   ]
  },
  {
   "cell_type": "code",
   "execution_count": 17,
   "metadata": {
    "tags": []
   },
   "outputs": [
    {
     "output_type": "stream",
     "name": "stdout",
     "text": "False\nFalse\nHigher Colleges of Technology\nHigher Colleges of Technology\nHigher Colleges of Technology\n\n\nHigher University of Technology\n"
    }
   ],
   "source": [
    "# More string methods\n",
    "print(var1.endswith('r'))\n",
    "print(var1.startswith('O'))\n",
    "print(var1.lstrip())    # It removes all leading whitespace of a string in var1\n",
    "print(var1.rstrip())    # It removes all trailing whitespace of a string in var1\n",
    "print(var1.strip())     # It removes all leading and trailing whitespace\n",
    "print('\\n')\n",
    "print(var1.replace('Colleges', 'University'))"
   ]
  },
  {
   "cell_type": "code",
   "execution_count": 18,
   "metadata": {
    "tags": []
   },
   "outputs": [
    {
     "output_type": "stream",
     "name": "stdout",
     "text": "True\nFalse\n"
    }
   ],
   "source": [
    "var1 = ' Higher Colleges of Technology'\n",
    "var2 = 'College'\n",
    "var3 = 'g'\n",
    "\n",
    "print(var2 in var1)\n",
    "print(var2 not in var1)"
   ]
  },
  {
   "cell_type": "code",
   "execution_count": null,
   "metadata": {},
   "outputs": [],
   "source": []
  }
 ],
 "metadata": {
  "language_info": {
   "codemirror_mode": {
    "name": "ipython",
    "version": 3
   },
   "file_extension": ".py",
   "mimetype": "text/x-python",
   "name": "python",
   "nbconvert_exporter": "python",
   "pygments_lexer": "ipython3",
   "version": "3.8.2-final"
  },
  "orig_nbformat": 2,
  "kernelspec": {
   "name": "python38264bit452ca6f7d40b4ec1bc02c8f94f125681",
   "display_name": "Python 3.8.2 64-bit"
  }
 },
 "nbformat": 4,
 "nbformat_minor": 2
}