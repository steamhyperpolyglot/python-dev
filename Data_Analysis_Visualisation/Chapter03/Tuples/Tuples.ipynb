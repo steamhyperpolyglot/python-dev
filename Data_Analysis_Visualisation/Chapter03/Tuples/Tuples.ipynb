{
 "cells": [
  {
   "cell_type": "code",
   "execution_count": 1,
   "metadata": {
    "tags": []
   },
   "outputs": [
    {
     "output_type": "stream",
     "name": "stdout",
     "text": "Bahaa\n(75, 65, 95)\n95\n"
    }
   ],
   "source": [
    "Names = ('Omar', 'Ali', 'Bahaa')\n",
    "Marks = (75, 65, 95)\n",
    "print(Names[2])\n",
    "print(Marks)\n",
    "print(max(Marks))"
   ]
  },
  {
   "cell_type": "code",
   "execution_count": 2,
   "metadata": {
    "tags": []
   },
   "outputs": [
    {
     "output_type": "stream",
     "name": "stdout",
     "text": "Omar\nAli\nBahaa\n"
    }
   ],
   "source": [
    "for name in Names:\n",
    "    print(name)"
   ]
  },
  {
   "cell_type": "code",
   "execution_count": 3,
   "metadata": {
    "tags": []
   },
   "outputs": [
    {
     "output_type": "stream",
     "name": "stdout",
     "text": "[(88, 65), (70, 90, 85), (55, 88, 44)]\n[(55, 88, 44), (70, 90, 85), (88, 65)]\n"
    }
   ],
   "source": [
    "# Listing 3-21: Sorting a Tuple\n",
    "MarksCIS = [\n",
    "    (88, 65),\n",
    "    (70, 90, 85),\n",
    "    (55, 88, 44)\n",
    "]\n",
    "print(MarksCIS)             # original tuples\n",
    "print(sorted(MarksCIS))     # direct sorting"
   ]
  },
  {
   "cell_type": "code",
   "execution_count": 4,
   "metadata": {
    "tags": []
   },
   "outputs": [
    {
     "output_type": "stream",
     "name": "stdout",
     "text": "[(88, 65), (70, 90, 85), (55, 88, 44)]\n[(55, 88, 44), (70, 90, 85), (88, 65)]\n"
    }
   ],
   "source": [
    "print(MarksCIS)             # original tuples\n",
    "# create a new sorted tuple\n",
    "MarksCIS2 = sorted(MarksCIS, key=lambda x: (x[0], x[1]))\n",
    "print(MarksCIS2)"
   ]
  },
  {
   "cell_type": "code",
   "execution_count": 5,
   "metadata": {
    "tags": []
   },
   "outputs": [
    {
     "output_type": "stream",
     "name": "stdout",
     "text": "[(88, 65), (70, 90, 85), (55, 88, 44)]\n[(55, 88, 44), (70, 90, 85), (88, 65)]\n"
    }
   ],
   "source": [
    "print(MarksCIS)             # original tuples\n",
    "MarksCIS.sort(key=lambda x: (x[0], x[1]))   # sort in tuple\n",
    "print(MarksCIS)"
   ]
  },
  {
   "cell_type": "code",
   "execution_count": 6,
   "metadata": {
    "tags": []
   },
   "outputs": [
    {
     "output_type": "stream",
     "name": "stdout",
     "text": "(79, 85, 55, 90, 75, 60)\n"
    }
   ],
   "source": [
    "# Listing 3-22: Concatenating Tuples\n",
    "MarksCIS = (79, 85, 55)\n",
    "MarksCIN = (90, 75, 60)\n",
    "Combind = MarksCIS + MarksCIN\n",
    "print(Combind)"
   ]
  },
  {
   "cell_type": "code",
   "execution_count": 7,
   "metadata": {
    "tags": []
   },
   "outputs": [
    {
     "output_type": "stream",
     "name": "stdout",
     "text": "The third mark in CIS in  55\nThe third mark in CIN is  60\n"
    }
   ],
   "source": [
    "# Listing 3-23: Accessing Values in a Tuple\n",
    "MarksCIS = (70, 85, 55)\n",
    "MarksCIN = (90, 75, 60)\n",
    "print(\"The third mark in CIS in \", MarksCIS[2])\n",
    "print(\"The third mark in CIN is \", MarksCIN[2])"
   ]
  },
  {
   "cell_type": "code",
   "execution_count": 8,
   "metadata": {
    "tags": []
   },
   "outputs": [
    {
     "output_type": "stream",
     "name": "stdout",
     "text": "(90, 75, 60)\n"
    },
    {
     "output_type": "error",
     "ename": "NameError",
     "evalue": "name 'MarksCIN' is not defined",
     "traceback": [
      "\u001b[1;31m---------------------------------------------------------------------------\u001b[0m",
      "\u001b[1;31mNameError\u001b[0m                                 Traceback (most recent call last)",
      "\u001b[1;32m<ipython-input-8-a1dffb43e0d2>\u001b[0m in \u001b[0;36m<module>\u001b[1;34m\u001b[0m\n\u001b[0;32m      2\u001b[0m \u001b[0mprint\u001b[0m\u001b[1;33m(\u001b[0m\u001b[0mMarksCIN\u001b[0m\u001b[1;33m)\u001b[0m\u001b[1;33m\u001b[0m\u001b[1;33m\u001b[0m\u001b[0m\n\u001b[0;32m      3\u001b[0m \u001b[1;32mdel\u001b[0m \u001b[0mMarksCIN\u001b[0m\u001b[1;33m\u001b[0m\u001b[1;33m\u001b[0m\u001b[0m\n\u001b[1;32m----> 4\u001b[1;33m \u001b[0mprint\u001b[0m\u001b[1;33m(\u001b[0m\u001b[0mMarksCIN\u001b[0m\u001b[1;33m)\u001b[0m\u001b[1;33m\u001b[0m\u001b[1;33m\u001b[0m\u001b[0m\n\u001b[0m",
      "\u001b[1;31mNameError\u001b[0m: name 'MarksCIN' is not defined"
     ]
    }
   ],
   "source": [
    "# Listing 3-24: Deleting a Tuple\n",
    "print(MarksCIN)\n",
    "del MarksCIN\n",
    "print(MarksCIN)"
   ]
  },
  {
   "cell_type": "code",
   "execution_count": 9,
   "metadata": {
    "tags": []
   },
   "outputs": [
    {
     "output_type": "stream",
     "name": "stdout",
     "text": "\nForward slicing\n(65, 70, 90)\n(88, 65, 70)\n(78, 95, 55)\n(85, 45)\n\nBackward slicing\n(45, 78)\n78\n(78, 95, 55)\n(88, 65, 70, 90, 85, 45)\n"
    }
   ],
   "source": [
    "# Listing 3-25: Slicing Tuple Values\n",
    "MarksCIS = (88, 65, 70, 90, 85, 45, 78, 95, 55)\n",
    "print(\"\\nForward slicing\")\n",
    "print(MarksCIS[1:4])\n",
    "print(MarksCIS[:3])\n",
    "print(MarksCIS[6:])\n",
    "print(MarksCIS[4:6])\n",
    "\n",
    "print(\"\\nBackward slicing\")\n",
    "print(MarksCIS[-4:-2])\n",
    "print(MarksCIS[-3])\n",
    "print(MarksCIS[-3:])\n",
    "print(MarksCIS[:-3])"
   ]
  },
  {
   "cell_type": "code",
   "execution_count": 10,
   "metadata": {
    "tags": []
   },
   "outputs": [
    {
     "output_type": "stream",
     "name": "stdout",
     "text": "a    0.462259\nb   -0.872792\nc    1.014044\nd    0.082024\ndtype: float64\nIndex(['a', 'b', 'c', 'd'], dtype='object')\n"
    }
   ],
   "source": [
    "# Listing 3-26: Creating a Series of Ndarray Data with Labels\n",
    "import numpy as np\n",
    "import pandas as pd\n",
    "\n",
    "Series1 = pd.Series(np.random.randn(4), index = ['a', 'b', 'c', 'd'])\n",
    "print(Series1)\n",
    "print(Series1.index)"
   ]
  },
  {
   "cell_type": "code",
   "execution_count": 11,
   "metadata": {
    "tags": []
   },
   "outputs": [
    {
     "output_type": "stream",
     "name": "stdout",
     "text": "0    1.208432\n1    0.535038\n2   -0.316796\n3    1.324292\ndtype: float64\nRangeIndex(start=0, stop=4, step=1)\n"
    }
   ],
   "source": [
    "# Listing 3-27: Creating a Series of Ndarray Data Without Labels\n",
    "Series2 = pd.Series(np.random.randn(4))\n",
    "print(Series2)\n",
    "print(Series2.index)"
   ]
  },
  {
   "cell_type": "code",
   "execution_count": 12,
   "metadata": {
    "tags": []
   },
   "outputs": [
    {
     "output_type": "stream",
     "name": "stdout",
     "text": "\n Series slicing \na    0.462259\nb   -0.872792\nc    1.014044\ndtype: float64\n\nIndex accessing\nd    0.082024\nb   -0.872792\na    0.462259\ndtype: float64\n\nSingle index\n0.4622592893078187\n"
    }
   ],
   "source": [
    "# Listing 3-28: Slicing Data from a Series\n",
    "print(\"\\n Series slicing \")\n",
    "print(Series1[:3])\n",
    "print(\"\\nIndex accessing\")\n",
    "print(Series1[[3, 1, 0]])\n",
    "print(\"\\nSingle index\")\n",
    "x = Series1[0]\n",
    "print(x)"
   ]
  },
  {
   "cell_type": "code",
   "execution_count": 14,
   "metadata": {
    "tags": []
   },
   "outputs": [
    {
     "output_type": "stream",
     "name": "stdout",
     "text": "\nSeries Sample operations\n\n Series values greater than the mean: 0.1714\na    0.462259\nc    1.014044\ndtype: float64\n\n Series values greater than the Median: 0.2721\na    0.462259\nc    1.014044\ndtype: float64\n\nExponential value \na    1.587657\nb    0.417783\nc    2.756726\nd    1.085482\ndtype: float64\n"
    }
   ],
   "source": [
    "# Listing 3-29: Sample Operations in a Series\n",
    "print(\"\\nSeries Sample operations\")\n",
    "print(\"\\n Series values greater than the mean: %.4f\" % Series1.mean())\n",
    "print(Series1 [Series1 > Series1.mean()])\n",
    "print(\"\\n Series values greater than the Median: %.4f\" % Series1.median())\n",
    "print(Series1 [Series1 > Series1.median()])\n",
    "print(\"\\nExponential value \")\n",
    "Series1Exp = np.exp(Series1)\n",
    "print(Series1Exp)"
   ]
  },
  {
   "cell_type": "code",
   "execution_count": 15,
   "metadata": {
    "tags": []
   },
   "outputs": [
    {
     "output_type": "stream",
     "name": "stdout",
     "text": "\nSeries of non declared index\nm         2\ny      2018\nd    Sunday\ndtype: object\n\nSeries of declared index\ny      2018\nw       NaN\nd    Sunday\ns       NaN\ndtype: object\n"
    }
   ],
   "source": [
    "# Listing 3-30: Creating a Series from a Dictionary\n",
    "dict = {\n",
    "    'm': 2,\n",
    "    'y': 2018,\n",
    "    'd': 'Sunday'\n",
    "}\n",
    "print(\"\\nSeries of non declared index\")\n",
    "SeriesDict1 = pd.Series(dict)\n",
    "print(SeriesDict1)\n",
    "print(\"\\nSeries of declared index\")\n",
    "SeriesDict2 = pd.Series(dict, index=['y', 'w', 'd', 's'])\n",
    "print(SeriesDict2)"
   ]
  },
  {
   "cell_type": "code",
   "execution_count": 16,
   "metadata": {
    "tags": []
   },
   "outputs": [
    {
     "output_type": "stream",
     "name": "stdout",
     "text": "\nUse the get and set methods to access a seies values by index label\n\n2018\ny      1999\nm         2\nd    Sunday\ns       NaN\ndtype: object\n1999\n"
    }
   ],
   "source": [
    "# Listing 3-31: Altering a Series and Using the Get() Method\n",
    "print(\"\\nUse the get and set methods to access a seies values by index label\\n\")\n",
    "SeriesDict2 = pd.Series(dict, index=['y', 'm', 'd', 's'])\n",
    "print(SeriesDict2['y'])         # Display the year\n",
    "SeriesDict2['y'] = 1999         # change the year value\n",
    "print(SeriesDict2)              # Display all dictionary values\n",
    "print(SeriesDict2.get('y'))     # get specific value by its key"
   ]
  },
  {
   "cell_type": "code",
   "execution_count": 17,
   "metadata": {
    "tags": []
   },
   "outputs": [
    {
     "output_type": "stream",
     "name": "stdout",
     "text": "\n CREATE SERIES FORM SCALAR VALUE \na    8.0\nb    8.0\nc    8.0\nd    8.0\ndtype: float64\n"
    }
   ],
   "source": [
    "# Listing 3-32: Creating a Series Using a Scalar Value\n",
    "print(\"\\n CREATE SERIES FORM SCALAR VALUE \")\n",
    "Scl = pd.Series(8., index=['a', 'b', 'c', 'd'])\n",
    "print(Scl)"
   ]
  },
  {
   "cell_type": "code",
   "execution_count": 19,
   "metadata": {
    "tags": []
   },
   "outputs": [
    {
     "output_type": "stream",
     "name": "stdout",
     "text": "Addition\na    2\nb    4\nc    6\nd    8\ndtype: int64\nAddition with non-match labels\na    NaN\nb    4.0\nc    6.0\nd    NaN\ndtype: float64\nMultiplication\na     1\nb     4\nc     9\nd    16\ndtype: int64\nExponential\na     2.718282\nb     7.389056\nc    20.085537\nd    54.598150\ndtype: float64\n"
    }
   ],
   "source": [
    "# Listing 3-33: Vectorizing Operations on a Series\n",
    "SerX = pd.Series([1, 2, 3, 4], index=['a', 'b', 'c', 'd'])\n",
    "print(\"Addition\")\n",
    "print(SerX + SerX)\n",
    "print(\"Addition with non-match labels\")\n",
    "print(SerX[1:] + SerX[:-1])\n",
    "print(\"Multiplication\")\n",
    "print(SerX * SerX)\n",
    "print(\"Exponential\")\n",
    "print(np.exp(SerX))"
   ]
  },
  {
   "cell_type": "code",
   "execution_count": 20,
   "metadata": {
    "tags": []
   },
   "outputs": [
    {
     "output_type": "stream",
     "name": "stdout",
     "text": "StudentsMark\nMarks\n"
    }
   ],
   "source": [
    "# Listing 3-34: Using a Series Name Attribute\n",
    "std = pd.Series([77, 89, 65, 90], name='StudentsMark')\n",
    "print(std.name)\n",
    "std = std.rename(\"Marks\")\n",
    "print(std.name)"
   ]
  }
 ],
 "metadata": {
  "language_info": {
   "codemirror_mode": {
    "name": "ipython",
    "version": 3
   },
   "file_extension": ".py",
   "mimetype": "text/x-python",
   "name": "python",
   "nbconvert_exporter": "python",
   "pygments_lexer": "ipython3",
   "version": "3.8.2-final"
  },
  "orig_nbformat": 2,
  "kernelspec": {
   "name": "python37764bitsuperchargedpythoncondae839e5ed49a8480faa20190e7570c37b",
   "display_name": "Python 3.7.7 64-bit ('Supercharged_Python': conda)"
  }
 },
 "nbformat": 4,
 "nbformat_minor": 2
}