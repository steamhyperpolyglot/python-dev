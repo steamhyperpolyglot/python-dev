{
 "metadata": {
  "language_info": {
   "codemirror_mode": {
    "name": "ipython",
    "version": 3
   },
   "file_extension": ".py",
   "mimetype": "text/x-python",
   "name": "python",
   "nbconvert_exporter": "python",
   "pygments_lexer": "ipython3",
   "version": "3.8.2-final"
  },
  "orig_nbformat": 2,
  "kernelspec": {
   "name": "python3",
   "display_name": "Python 3",
   "language": "python"
  }
 },
 "nbformat": 4,
 "nbformat_minor": 2,
 "cells": [
  {
   "source": [
    "### Splitting Strings"
   ],
   "cell_type": "markdown",
   "metadata": {}
  },
  {
   "cell_type": "code",
   "execution_count": 1,
   "metadata": {},
   "outputs": [],
   "source": [
    "letters = 'A, B, C, D'"
   ]
  },
  {
   "cell_type": "code",
   "execution_count": 2,
   "metadata": {},
   "outputs": [
    {
     "output_type": "execute_result",
     "data": {
      "text/plain": [
       "['A', 'B', 'C', 'D']"
      ]
     },
     "metadata": {},
     "execution_count": 2
    }
   ],
   "source": [
    "letters.split(', ')"
   ]
  },
  {
   "cell_type": "code",
   "execution_count": 3,
   "metadata": {},
   "outputs": [
    {
     "output_type": "execute_result",
     "data": {
      "text/plain": [
       "['A', 'B', 'C, D']"
      ]
     },
     "metadata": {},
     "execution_count": 3
    }
   ],
   "source": [
    "letters.split(', ', 2)"
   ]
  },
  {
   "source": [
    "### Joining Strings"
   ],
   "cell_type": "markdown",
   "metadata": {}
  },
  {
   "cell_type": "code",
   "execution_count": 4,
   "metadata": {},
   "outputs": [],
   "source": [
    "letters_list = ['A', 'B', 'C', 'D']"
   ]
  },
  {
   "cell_type": "code",
   "execution_count": 5,
   "metadata": {},
   "outputs": [
    {
     "output_type": "execute_result",
     "data": {
      "text/plain": [
       "'A,B,C,D'"
      ]
     },
     "metadata": {},
     "execution_count": 5
    }
   ],
   "source": [
    "','.join(letters_list)"
   ]
  },
  {
   "cell_type": "code",
   "execution_count": 6,
   "metadata": {},
   "outputs": [
    {
     "output_type": "execute_result",
     "data": {
      "text/plain": [
       "'0,1,2,3,4,5,6,7,8,9'"
      ]
     },
     "metadata": {},
     "execution_count": 6
    }
   ],
   "source": [
    "','.join([str(i) for i in range(10)])"
   ]
  },
  {
   "source": [
    "### String Methods partition and rpartition"
   ],
   "cell_type": "markdown",
   "metadata": {}
  },
  {
   "cell_type": "code",
   "execution_count": 7,
   "metadata": {},
   "outputs": [
    {
     "output_type": "execute_result",
     "data": {
      "text/plain": [
       "('Amanda', ': ', '89, 97, 92')"
      ]
     },
     "metadata": {},
     "execution_count": 7
    }
   ],
   "source": [
    "'Amanda: 89, 97, 92'.partition(': ')"
   ]
  },
  {
   "cell_type": "code",
   "execution_count": 8,
   "metadata": {},
   "outputs": [],
   "source": [
    "url = 'http://www.deitel.com/books/PyCDS/table_of_contents.html'"
   ]
  },
  {
   "cell_type": "code",
   "execution_count": 9,
   "metadata": {},
   "outputs": [],
   "source": [
    "rest_of_url, separator, document = url.rpartition('/')"
   ]
  },
  {
   "cell_type": "code",
   "execution_count": 10,
   "metadata": {},
   "outputs": [
    {
     "output_type": "execute_result",
     "data": {
      "text/plain": [
       "'table_of_contents.html'"
      ]
     },
     "metadata": {},
     "execution_count": 10
    }
   ],
   "source": [
    "document"
   ]
  },
  {
   "cell_type": "code",
   "execution_count": 11,
   "metadata": {},
   "outputs": [
    {
     "output_type": "execute_result",
     "data": {
      "text/plain": [
       "'http://www.deitel.com/books/PyCDS'"
      ]
     },
     "metadata": {},
     "execution_count": 11
    }
   ],
   "source": [
    "rest_of_url"
   ]
  },
  {
   "source": [
    "### String Method splitlines"
   ],
   "cell_type": "markdown",
   "metadata": {}
  },
  {
   "cell_type": "code",
   "execution_count": 12,
   "metadata": {},
   "outputs": [],
   "source": [
    "lines = \"\"\"This is line 1\n",
    "This is line2\n",
    "This is line3\"\"\""
   ]
  },
  {
   "cell_type": "code",
   "execution_count": 13,
   "metadata": {},
   "outputs": [
    {
     "output_type": "execute_result",
     "data": {
      "text/plain": [
       "'This is line 1\\nThis is line2\\nThis is line3'"
      ]
     },
     "metadata": {},
     "execution_count": 13
    }
   ],
   "source": [
    "lines"
   ]
  },
  {
   "cell_type": "code",
   "execution_count": 14,
   "metadata": {},
   "outputs": [
    {
     "output_type": "execute_result",
     "data": {
      "text/plain": [
       "['This is line 1', 'This is line2', 'This is line3']"
      ]
     },
     "metadata": {},
     "execution_count": 14
    }
   ],
   "source": [
    "lines.splitlines()"
   ]
  },
  {
   "source": [
    "Passing True to splitlines keeps the newlines at the end of each string."
   ],
   "cell_type": "markdown",
   "metadata": {}
  },
  {
   "cell_type": "code",
   "execution_count": 15,
   "metadata": {},
   "outputs": [
    {
     "output_type": "execute_result",
     "data": {
      "text/plain": [
       "['This is line 1\\n', 'This is line2\\n', 'This is line3']"
      ]
     },
     "metadata": {},
     "execution_count": 15
    }
   ],
   "source": [
    "lines.splitlines(True)"
   ]
  }
 ]
}