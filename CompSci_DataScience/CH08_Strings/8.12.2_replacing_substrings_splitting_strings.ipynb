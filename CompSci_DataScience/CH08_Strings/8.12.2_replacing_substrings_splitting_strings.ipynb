{
 "metadata": {
  "language_info": {
   "codemirror_mode": {
    "name": "ipython",
    "version": 3
   },
   "file_extension": ".py",
   "mimetype": "text/x-python",
   "name": "python",
   "nbconvert_exporter": "python",
   "pygments_lexer": "ipython3",
   "version": "3.8.2-final"
  },
  "orig_nbformat": 2,
  "kernelspec": {
   "name": "python38264bit452ca6f7d40b4ec1bc02c8f94f125681",
   "display_name": "Python 3.8.2 64-bit",
   "language": "python"
  }
 },
 "nbformat": 4,
 "nbformat_minor": 2,
 "cells": [
  {
   "source": [
    "### Function sub - Replacing Patterns"
   ],
   "cell_type": "markdown",
   "metadata": {}
  },
  {
   "cell_type": "code",
   "execution_count": 1,
   "metadata": {},
   "outputs": [],
   "source": [
    "import re"
   ]
  },
  {
   "cell_type": "code",
   "execution_count": 2,
   "metadata": {},
   "outputs": [
    {
     "output_type": "execute_result",
     "data": {
      "text/plain": [
       "'1, 2, 3, 4'"
      ]
     },
     "metadata": {},
     "execution_count": 2
    }
   ],
   "source": [
    "re.sub(r'\\t', ', ', '1\\t2\\t3\\t4')"
   ]
  },
  {
   "cell_type": "code",
   "execution_count": 3,
   "metadata": {},
   "outputs": [
    {
     "output_type": "execute_result",
     "data": {
      "text/plain": [
       "'1, 2, 3\\t4'"
      ]
     },
     "metadata": {},
     "execution_count": 3
    }
   ],
   "source": [
    "re.sub(r'\\t', ', ', '1\\t2\\t3\\t4', count=2)"
   ]
  },
  {
   "cell_type": "code",
   "execution_count": 4,
   "metadata": {},
   "outputs": [
    {
     "output_type": "execute_result",
     "data": {
      "text/plain": [
       "['',\n",
       " '1',\n",
       " ',',\n",
       " '',\n",
       " '2',\n",
       " ',',\n",
       " '',\n",
       " '3',\n",
       " ',',\n",
       " '4',\n",
       " ',',\n",
       " '',\n",
       " '5',\n",
       " ',',\n",
       " '6',\n",
       " ',',\n",
       " '7',\n",
       " ',',\n",
       " '8',\n",
       " '']"
      ]
     },
     "metadata": {},
     "execution_count": 4
    }
   ],
   "source": [
    "re.split(r'\\s*', '1, 2, 3,4,    5,6,7,8')"
   ]
  },
  {
   "cell_type": "code",
   "execution_count": 5,
   "metadata": {},
   "outputs": [
    {
     "output_type": "execute_result",
     "data": {
      "text/plain": [
       "['', '1', ',', '2, 3,4,    5,6,7,8']"
      ]
     },
     "metadata": {},
     "execution_count": 5
    }
   ],
   "source": [
    "re.split(r'\\s*', '1, 2, 3,4,    5,6,7,8', maxsplit=3)"
   ]
  }
 ]
}