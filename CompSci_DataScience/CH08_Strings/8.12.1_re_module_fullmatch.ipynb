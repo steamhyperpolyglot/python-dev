{
 "metadata": {
  "language_info": {
   "codemirror_mode": {
    "name": "ipython",
    "version": 3
   },
   "file_extension": ".py",
   "mimetype": "text/x-python",
   "name": "python",
   "nbconvert_exporter": "python",
   "pygments_lexer": "ipython3",
   "version": "3.8.2-final"
  },
  "orig_nbformat": 2,
  "kernelspec": {
   "name": "python38264bit452ca6f7d40b4ec1bc02c8f94f125681",
   "display_name": "Python 3.8.2 64-bit",
   "language": "python"
  }
 },
 "nbformat": 4,
 "nbformat_minor": 2,
 "cells": [
  {
   "cell_type": "code",
   "execution_count": 1,
   "metadata": {},
   "outputs": [],
   "source": [
    "import re"
   ]
  },
  {
   "cell_type": "code",
   "execution_count": 2,
   "metadata": {},
   "outputs": [],
   "source": [
    "pattern = '02215'"
   ]
  },
  {
   "cell_type": "code",
   "execution_count": 3,
   "metadata": {},
   "outputs": [
    {
     "output_type": "execute_result",
     "data": {
      "text/plain": [
       "'Match'"
      ]
     },
     "metadata": {},
     "execution_count": 3
    }
   ],
   "source": [
    "'Match' if re.fullmatch(pattern, '02215') else 'No match'"
   ]
  },
  {
   "cell_type": "code",
   "execution_count": 4,
   "metadata": {},
   "outputs": [
    {
     "output_type": "execute_result",
     "data": {
      "text/plain": [
       "'No match'"
      ]
     },
     "metadata": {},
     "execution_count": 4
    }
   ],
   "source": [
    "'Match' if re.fullmatch(pattern, '51220') else 'No match'"
   ]
  },
  {
   "source": [
    "### Metacharacters, Character Classes and Quantifiers"
   ],
   "cell_type": "markdown",
   "metadata": {}
  },
  {
   "cell_type": "code",
   "execution_count": 5,
   "metadata": {},
   "outputs": [
    {
     "output_type": "execute_result",
     "data": {
      "text/plain": [
       "'Valid'"
      ]
     },
     "metadata": {},
     "execution_count": 5
    }
   ],
   "source": [
    "'Valid' if re.fullmatch(r'\\d{5}', '02215') else 'Invalid'"
   ]
  },
  {
   "cell_type": "code",
   "execution_count": 6,
   "metadata": {},
   "outputs": [
    {
     "output_type": "execute_result",
     "data": {
      "text/plain": [
       "'Invalid'"
      ]
     },
     "metadata": {},
     "execution_count": 6
    }
   ],
   "source": [
    "'Valid' if re.fullmatch(r'\\d{5}', '9876') else 'Invalid'"
   ]
  },
  {
   "source": [
    "### Custom Character Classes"
   ],
   "cell_type": "markdown",
   "metadata": {}
  },
  {
   "cell_type": "code",
   "execution_count": 7,
   "metadata": {},
   "outputs": [
    {
     "output_type": "execute_result",
     "data": {
      "text/plain": [
       "'Valid'"
      ]
     },
     "metadata": {},
     "execution_count": 7
    }
   ],
   "source": [
    "'Valid' if re.fullmatch('[A-Z][a-z]*', 'Wally') else 'Invalid'"
   ]
  },
  {
   "cell_type": "code",
   "execution_count": 8,
   "metadata": {},
   "outputs": [
    {
     "output_type": "execute_result",
     "data": {
      "text/plain": [
       "'Invalid'"
      ]
     },
     "metadata": {},
     "execution_count": 8
    }
   ],
   "source": [
    "'Valid' if re.fullmatch('[A-Z][a-z]*', 'eva') else 'Invalid'"
   ]
  },
  {
   "cell_type": "code",
   "execution_count": 9,
   "metadata": {},
   "outputs": [
    {
     "output_type": "execute_result",
     "data": {
      "text/plain": [
       "'Match'"
      ]
     },
     "metadata": {},
     "execution_count": 9
    }
   ],
   "source": [
    "'Match' if re.fullmatch('[^a-z]', 'A') else 'No match'"
   ]
  },
  {
   "cell_type": "code",
   "execution_count": 10,
   "metadata": {},
   "outputs": [
    {
     "output_type": "execute_result",
     "data": {
      "text/plain": [
       "'No match'"
      ]
     },
     "metadata": {},
     "execution_count": 10
    }
   ],
   "source": [
    "'Match' if re.fullmatch('[^a-z]', 'a') else 'No match'"
   ]
  },
  {
   "cell_type": "code",
   "execution_count": 11,
   "metadata": {},
   "outputs": [
    {
     "output_type": "execute_result",
     "data": {
      "text/plain": [
       "'Match'"
      ]
     },
     "metadata": {},
     "execution_count": 11
    }
   ],
   "source": [
    "'Match' if re.fullmatch('[*+$]', '*') else 'No match'"
   ]
  },
  {
   "cell_type": "code",
   "execution_count": 12,
   "metadata": {},
   "outputs": [
    {
     "output_type": "execute_result",
     "data": {
      "text/plain": [
       "'No match'"
      ]
     },
     "metadata": {},
     "execution_count": 12
    }
   ],
   "source": [
    "'Match' if re.fullmatch('[*+$]', '!') else 'No match'"
   ]
  },
  {
   "cell_type": "code",
   "execution_count": null,
   "metadata": {},
   "outputs": [],
   "source": []
  }
 ]
}