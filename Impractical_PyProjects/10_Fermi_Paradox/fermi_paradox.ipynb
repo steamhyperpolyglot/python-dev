{
 "cells": [
  {
   "cell_type": "code",
   "execution_count": 1,
   "metadata": {},
   "outputs": [
    {
     "output_type": "execute_result",
     "data": {
      "text/plain": "Counter({124: 2, 452: 1, 838: 1, 301: 1})"
     },
     "metadata": {},
     "execution_count": 1
    }
   ],
   "source": [
    "from collections import Counter\n",
    "alist = [124, 452, 838, 124, 301]\n",
    "count = Counter(alist)\n",
    "count"
   ]
  },
  {
   "cell_type": "code",
   "execution_count": 3,
   "metadata": {},
   "outputs": [
    {
     "output_type": "execute_result",
     "data": {
      "text/plain": "Counter({2: 1, 1: 3})"
     },
     "metadata": {},
     "execution_count": 3
    }
   ],
   "source": [
    "value_count = Counter(count.values())\n",
    "value_count"
   ]
  },
  {
   "cell_type": "code",
   "execution_count": 4,
   "metadata": {},
   "outputs": [
    {
     "output_type": "execute_result",
     "data": {
      "text/plain": "3"
     },
     "metadata": {},
     "execution_count": 4
    }
   ],
   "source": [
    "value_count[1]"
   ]
  },
  {
   "cell_type": "code",
   "execution_count": null,
   "metadata": {},
   "outputs": [],
   "source": []
  }
 ],
 "metadata": {
  "language_info": {
   "codemirror_mode": {
    "name": "ipython",
    "version": 3
   },
   "file_extension": ".py",
   "mimetype": "text/x-python",
   "name": "python",
   "nbconvert_exporter": "python",
   "pygments_lexer": "ipython3",
   "version": "3.7.7-final"
  },
  "orig_nbformat": 2,
  "kernelspec": {
   "name": "python37764bitsuperchargedpythoncondae839e5ed49a8480faa20190e7570c37b",
   "display_name": "Python 3.7.7 64-bit ('Supercharged_Python': conda)"
  }
 },
 "nbformat": 4,
 "nbformat_minor": 2
}