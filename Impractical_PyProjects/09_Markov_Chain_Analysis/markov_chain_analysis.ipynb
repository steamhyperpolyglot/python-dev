{
 "cells": [
  {
   "cell_type": "code",
   "execution_count": 1,
   "metadata": {},
   "outputs": [
    {
     "output_type": "stream",
     "name": "stderr",
     "text": "DEBUG - letter & count = s-0\nDEBUG - letter & count = c-0\nDEBUG - letter & count = a-1\nDEBUG - letter & count = r-1\nDEBUG - letter & count = e-2\nDEBUG - letter & count = c-2\nDEBUG - letter & count = r-2\nDEBUG - letter & count = o-3\nDEBUG - letter & count = w-3\n"
    }
   ],
   "source": [
    "import logging\n",
    "logging.basicConfig(level=logging.DEBUG, format='%(levelname)s - %(message)s')\n",
    "word = 'scarecrow'\n",
    "VOWELS = 'aeiou'\n",
    "num_vowels = 0\n",
    "for letter in word:\n",
    "    if letter in VOWELS:\n",
    "        num_vowels += 1\n",
    "    logging.debug('letter & count = %s-%s', letter, num_vowels)"
   ]
  },
  {
   "cell_type": "code",
   "execution_count": null,
   "metadata": {},
   "outputs": [],
   "source": []
  }
 ],
 "metadata": {
  "language_info": {
   "codemirror_mode": {
    "name": "ipython",
    "version": 3
   },
   "file_extension": ".py",
   "mimetype": "text/x-python",
   "name": "python",
   "nbconvert_exporter": "python",
   "pygments_lexer": "ipython3",
   "version": "3.7.7-final"
  },
  "orig_nbformat": 2,
  "kernelspec": {
   "name": "python37764bitsuperchargedpythoncondae839e5ed49a8480faa20190e7570c37b",
   "display_name": "Python 3.7.7 64-bit ('Supercharged_Python': conda)"
  }
 },
 "nbformat": 4,
 "nbformat_minor": 2
}