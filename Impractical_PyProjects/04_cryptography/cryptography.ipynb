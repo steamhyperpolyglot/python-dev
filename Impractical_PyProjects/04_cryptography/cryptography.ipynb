{
 "cells": [
  {
   "cell_type": "code",
   "execution_count": 1,
   "metadata": {},
   "outputs": [
    {
     "output_type": "stream",
     "name": "stdout",
     "text": "['16', '12', '8', '4', '0']\n['1', '5', '9', '13', '17']\n['18', '14', '10', '6', '2']\n['3', '7', '11', '15', '19']\n"
    }
   ],
   "source": [
    "list_of_lists = [\n",
    "    ['16', '12', '8', '4', '0'],\n",
    "    ['1', '5', '9', '13', '17'],\n",
    "    ['18', '14', '10', '6', '2'],\n",
    "    ['3', '7', '11', '15', '19']]\n",
    "\n",
    "for i in range(len(list_of_lists)):\n",
    "    print(list_of_lists[i])"
   ]
  },
  {
   "cell_type": "code",
   "execution_count": null,
   "metadata": {},
   "outputs": [],
   "source": []
  }
 ],
 "metadata": {
  "language_info": {
   "codemirror_mode": {
    "name": "ipython",
    "version": 3
   },
   "file_extension": ".py",
   "mimetype": "text/x-python",
   "name": "python",
   "nbconvert_exporter": "python",
   "pygments_lexer": "ipython3",
   "version": "3.8.2-final"
  },
  "orig_nbformat": 2,
  "kernelspec": {
   "name": "python38264bit452ca6f7d40b4ec1bc02c8f94f125681",
   "display_name": "Python 3.8.2 64-bit"
  }
 },
 "nbformat": 4,
 "nbformat_minor": 2
}